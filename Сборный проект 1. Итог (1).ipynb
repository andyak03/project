{
 "cells": [
  {
   "cell_type": "markdown",
   "id": "a2fcb79b",
   "metadata": {},
   "source": [
    "<div style=\"border-radius: 15px; border: 3px solid indigo; padding: 15px; \">\n",
    "<b> Комментарий ревьюера</b>\n",
    "    \n",
    "Привет! Меня зовут Светлана Носова, я буду проверять твой проект. Если не против, давай общаться на «ты». Если тебе такой стиль общения не нравится, напиши об этом, будем на «вы».  \n",
    "\n",
    "Сразу хочу обратить внимание на цветовую разметку:\n",
    "    \n",
    "    \n",
    "<div class=\"alert alert-success\" style=\"border-radius: 15px; box-shadow: 4px 4px 4px; border: 1px solid \">\n",
    "\n",
    "Зеленым с пометкой ✔️ отмечены отличные решения и идеи, которые можно и нужно использовать в будущем.\n",
    "</div>\n",
    "    \n",
    "<div class=\"alert alert-warning\" style=\"border-radius: 15px; box-shadow: 4px 4px 4px; border: 1px solid \">\n",
    "\n",
    "Желтым с пометкой ⚠️ отмечено то, что можно или нужно оптимизировать, в зависимости от контекста.</div>    \n",
    "    \n",
    "<div class=\"alert alert-danger\" style=\"border-radius: 15px; box-shadow: 4px 4px 4px; border: 1px solid \">\n",
    "\n",
    "Красным с пометкой ❌ обозначены пропущенные пункты задания и ошибки, которые обязательно надо будет исправить, чтобы результаты были верные.</div> \n",
    "    \n",
    "**Ответы на мои комментарии или доработки по моим рекомендациям попрошу выделить каким-нибудь цветом, кроме трех перечисленных.**\n",
    "Также я попрошу тебя **не менять и не передвигать мои комментарии**, чтобы при последующей проверке мне было проще ориентироваться.\n",
    "    \n",
    "Кроме того, комментарии у меня обозначены как заголовки. Это сбивает содержание, но при последующей проверке я могу снять с них заголовок, если тебе так будет удобнее. При этом они удобны, поскольку ты сразу можешь перейти к ним.   \n",
    "        \n",
    "<hr>\n",
    "    \n",
    "<font color= 'dodgerblue'>**По проекту:**</font> похоже, что работа сделана очень хорошо, все оформлено аккуратно и понятно. Структура работы у тебя грамотная, код легко читается, много анализа и выводов. Однако я не могу провести полноценную проверку, т.к. указан локальный путь к файлу. Тем не менее, я пробежалась по коду и выводам, оставив несколько комментариев. Так что можешь уже сейчас вносить корректировки. Остальное я проверю, когда смогу запустить код. \n",
    "</div>"
   ]
  },
  {
   "cell_type": "markdown",
   "id": "a9db21ce",
   "metadata": {},
   "source": [
    "<div style=\"border-radius: 15px; border: 3px solid indigo; padding: 15px;\">\n",
    "<b> Комментарий ревьюера 2</b>\n",
    "    \n",
    "Спасибо за корректировки. Я оставила новые комментарии с цифрой 2, а со старых сняла заголовки, чтобы  не мешали. Осталось немного. Мне показалось, что мой комментарий с уточняющим вопросом сбил тебя с толку, поэтому прошу прощения за это. Я оставила в этот раз развернутый ответ. Надеюсь, он поможет :) \n",
    "    \n",
    "\n",
    "    \n",
    "</div>"
   ]
  },
  {
   "cell_type": "markdown",
   "id": "50397714",
   "metadata": {},
   "source": [
    "<div style=\"border-radius: 15px; border: 3px solid indigo; padding: 15px;\">\n",
    "<b> Комментарий ревьюера 3</b>\n",
    "    \n",
    "Новые комментарии теперь с цифрой 3. Надеюсь, ревью было полезным :) Проект я могу принять, поскольку вопросов больше нет. Желаю успехов в дальнейшем обучении :)\n",
    "    \n",
    "\n",
    "    \n",
    "</div>"
   ]
  },
  {
   "cell_type": "markdown",
   "id": "8232e708",
   "metadata": {},
   "source": [
    "# Сборный проект"
   ]
  },
  {
   "cell_type": "markdown",
   "id": "99bbbcd1",
   "metadata": {},
   "source": [
    "##  Описание проекта"
   ]
  },
  {
   "cell_type": "markdown",
   "id": "198a16cc",
   "metadata": {},
   "source": [
    "Вы работаете в интернет-магазине «Стримчик», который продаёт по всему миру компьютерные игры. Из открытых источников доступны исторические данные о продажах игр, оценки пользователей и экспертов, жанры и платформы (например, Xbox или PlayStation). Вам нужно выявить определяющие успешность игры закономерности. Это позволит сделать ставку на потенциально популярный продукт и спланировать рекламные кампании."
   ]
  },
  {
   "cell_type": "markdown",
   "id": "aa6a21f6",
   "metadata": {},
   "source": [
    "<div class=\"alert alert-success\" style=\"border-radius: 15px; box-shadow: 4px 4px 4px; border: 1px solid \">\n",
    "<b> Комментарий ревьюера ✔️</b>\n",
    "    \n",
    "Хорошо, что добавляешь краткое описание задачи. Это поможет быстро вспомнить, о чем проект, когда ты вернешься к нему.    Кроме того, так работа выглядит гораздо презентабельнее. \n",
    "   \n",
    "</div>"
   ]
  },
  {
   "cell_type": "markdown",
   "id": "e5d8246f",
   "metadata": {},
   "source": [
    "## Файл с данными и изучение общей информации"
   ]
  },
  {
   "cell_type": "code",
   "execution_count": 1,
   "id": "a4c85541",
   "metadata": {},
   "outputs": [],
   "source": [
    "import pandas as pd\n",
    "from scipy import stats as st\n",
    "import datetime as dt\n",
    "import numpy as np\n",
    "import matplotlib.pyplot as plt"
   ]
  },
  {
   "cell_type": "code",
   "execution_count": 2,
   "id": "107c20ce",
   "metadata": {
    "scrolled": true
   },
   "outputs": [
    {
     "data": {
      "text/html": [
       "<div>\n",
       "<style scoped>\n",
       "    .dataframe tbody tr th:only-of-type {\n",
       "        vertical-align: middle;\n",
       "    }\n",
       "\n",
       "    .dataframe tbody tr th {\n",
       "        vertical-align: top;\n",
       "    }\n",
       "\n",
       "    .dataframe thead th {\n",
       "        text-align: right;\n",
       "    }\n",
       "</style>\n",
       "<table border=\"1\" class=\"dataframe\">\n",
       "  <thead>\n",
       "    <tr style=\"text-align: right;\">\n",
       "      <th></th>\n",
       "      <th>Name</th>\n",
       "      <th>Platform</th>\n",
       "      <th>Year_of_Release</th>\n",
       "      <th>Genre</th>\n",
       "      <th>NA_sales</th>\n",
       "      <th>EU_sales</th>\n",
       "      <th>JP_sales</th>\n",
       "      <th>Other_sales</th>\n",
       "      <th>Critic_Score</th>\n",
       "      <th>User_Score</th>\n",
       "      <th>Rating</th>\n",
       "    </tr>\n",
       "  </thead>\n",
       "  <tbody>\n",
       "    <tr>\n",
       "      <th>0</th>\n",
       "      <td>Wii Sports</td>\n",
       "      <td>Wii</td>\n",
       "      <td>2006.0</td>\n",
       "      <td>Sports</td>\n",
       "      <td>41.36</td>\n",
       "      <td>28.96</td>\n",
       "      <td>3.77</td>\n",
       "      <td>8.45</td>\n",
       "      <td>76.0</td>\n",
       "      <td>8</td>\n",
       "      <td>E</td>\n",
       "    </tr>\n",
       "    <tr>\n",
       "      <th>1</th>\n",
       "      <td>Super Mario Bros.</td>\n",
       "      <td>NES</td>\n",
       "      <td>1985.0</td>\n",
       "      <td>Platform</td>\n",
       "      <td>29.08</td>\n",
       "      <td>3.58</td>\n",
       "      <td>6.81</td>\n",
       "      <td>0.77</td>\n",
       "      <td>NaN</td>\n",
       "      <td>NaN</td>\n",
       "      <td>NaN</td>\n",
       "    </tr>\n",
       "    <tr>\n",
       "      <th>2</th>\n",
       "      <td>Mario Kart Wii</td>\n",
       "      <td>Wii</td>\n",
       "      <td>2008.0</td>\n",
       "      <td>Racing</td>\n",
       "      <td>15.68</td>\n",
       "      <td>12.76</td>\n",
       "      <td>3.79</td>\n",
       "      <td>3.29</td>\n",
       "      <td>82.0</td>\n",
       "      <td>8.3</td>\n",
       "      <td>E</td>\n",
       "    </tr>\n",
       "    <tr>\n",
       "      <th>3</th>\n",
       "      <td>Wii Sports Resort</td>\n",
       "      <td>Wii</td>\n",
       "      <td>2009.0</td>\n",
       "      <td>Sports</td>\n",
       "      <td>15.61</td>\n",
       "      <td>10.93</td>\n",
       "      <td>3.28</td>\n",
       "      <td>2.95</td>\n",
       "      <td>80.0</td>\n",
       "      <td>8</td>\n",
       "      <td>E</td>\n",
       "    </tr>\n",
       "    <tr>\n",
       "      <th>4</th>\n",
       "      <td>Pokemon Red/Pokemon Blue</td>\n",
       "      <td>GB</td>\n",
       "      <td>1996.0</td>\n",
       "      <td>Role-Playing</td>\n",
       "      <td>11.27</td>\n",
       "      <td>8.89</td>\n",
       "      <td>10.22</td>\n",
       "      <td>1.00</td>\n",
       "      <td>NaN</td>\n",
       "      <td>NaN</td>\n",
       "      <td>NaN</td>\n",
       "    </tr>\n",
       "  </tbody>\n",
       "</table>\n",
       "</div>"
      ],
      "text/plain": [
       "                       Name Platform  Year_of_Release         Genre  NA_sales  \\\n",
       "0                Wii Sports      Wii           2006.0        Sports     41.36   \n",
       "1         Super Mario Bros.      NES           1985.0      Platform     29.08   \n",
       "2            Mario Kart Wii      Wii           2008.0        Racing     15.68   \n",
       "3         Wii Sports Resort      Wii           2009.0        Sports     15.61   \n",
       "4  Pokemon Red/Pokemon Blue       GB           1996.0  Role-Playing     11.27   \n",
       "\n",
       "   EU_sales  JP_sales  Other_sales  Critic_Score User_Score Rating  \n",
       "0     28.96      3.77         8.45          76.0          8      E  \n",
       "1      3.58      6.81         0.77           NaN        NaN    NaN  \n",
       "2     12.76      3.79         3.29          82.0        8.3      E  \n",
       "3     10.93      3.28         2.95          80.0          8      E  \n",
       "4      8.89     10.22         1.00           NaN        NaN    NaN  "
      ]
     },
     "execution_count": 2,
     "metadata": {},
     "output_type": "execute_result"
    }
   ],
   "source": [
    "data=pd.read_csv('/datasets/games.csv')\n",
    "data.head()"
   ]
  },
  {
   "cell_type": "markdown",
   "id": "27839dcb",
   "metadata": {},
   "source": [
    "<div class=\"alert alert-danger\" style=\"border-radius: 15px; box-shadow: 4px 4px 4px; border: 1px solid\">\n",
    "<b> Комментарий ревьюера  ❌</b>\n",
    "    \n",
    "Локальный путь.  </div>"
   ]
  },
  {
   "cell_type": "markdown",
   "id": "04e0fb0d",
   "metadata": {},
   "source": [
    "<div class=\"alert alert-block alert-info\">\n",
    "<b>Комментарий студента:</b> Исправил.</div>"
   ]
  },
  {
   "cell_type": "markdown",
   "id": "28337156",
   "metadata": {},
   "source": [
    "<div class=\"alert alert-success\" style=\"border-radius: 15px; box-shadow: 4px 4px 4px; border: 1px solid \">\n",
    "<b> Комментарий ревьюера  2 ✔️</b>\n",
    "    \n",
    "Можно использовать `try-except`.  Хотя эта конструкция предназначена для отлавливания конкретных ошибок, тут она вполне пригодна. \n",
    "    \n",
    "   \n",
    "</div>\n"
   ]
  },
  {
   "cell_type": "markdown",
   "id": "8a61e3f9",
   "metadata": {},
   "source": [
    "<div class=\"alert alert-block alert-info\">\n",
    "<b>Комментарий студента:</b> Буду иметь в виду в следующих проектах.</div>"
   ]
  },
  {
   "cell_type": "code",
   "execution_count": 3,
   "id": "605d4d5e",
   "metadata": {},
   "outputs": [
    {
     "name": "stdout",
     "output_type": "stream",
     "text": [
      "<class 'pandas.core.frame.DataFrame'>\n",
      "RangeIndex: 16715 entries, 0 to 16714\n",
      "Data columns (total 11 columns):\n",
      " #   Column           Non-Null Count  Dtype  \n",
      "---  ------           --------------  -----  \n",
      " 0   Name             16713 non-null  object \n",
      " 1   Platform         16715 non-null  object \n",
      " 2   Year_of_Release  16446 non-null  float64\n",
      " 3   Genre            16713 non-null  object \n",
      " 4   NA_sales         16715 non-null  float64\n",
      " 5   EU_sales         16715 non-null  float64\n",
      " 6   JP_sales         16715 non-null  float64\n",
      " 7   Other_sales      16715 non-null  float64\n",
      " 8   Critic_Score     8137 non-null   float64\n",
      " 9   User_Score       10014 non-null  object \n",
      " 10  Rating           9949 non-null   object \n",
      "dtypes: float64(6), object(5)\n",
      "memory usage: 1.4+ MB\n"
     ]
    }
   ],
   "source": [
    "data.info()"
   ]
  },
  {
   "cell_type": "markdown",
   "id": "b3f8560d",
   "metadata": {},
   "source": [
    "### Вывод"
   ]
  },
  {
   "cell_type": "markdown",
   "id": "3a772c27",
   "metadata": {},
   "source": [
    "Всего 11 столбцов. Есть заглавные буквы в названиях столбцов. В некоторых из столбцов существуют пропуски, с которыми я поработаю в следующем этапе своей работы."
   ]
  },
  {
   "cell_type": "markdown",
   "id": "5d1b66b2",
   "metadata": {},
   "source": [
    "<div class=\"alert alert-danger\" style=\"border-radius: 15px; box-shadow: 4px 4px 4px; border: 1px solid\">\n",
    "<b> Комментарий ревьюера  ❌</b>\n",
    "    \n",
    "Похоже, здесь был вывод.  </div>"
   ]
  },
  {
   "cell_type": "markdown",
   "id": "e394ce4f",
   "metadata": {},
   "source": [
    "<div class=\"alert alert-block alert-info\">\n",
    "<b>Комментарий студента:</b> Исправил.</div>"
   ]
  },
  {
   "cell_type": "markdown",
   "id": "a067c248",
   "metadata": {},
   "source": [
    "<div class=\"alert alert-success\" style=\"border-radius: 15px; box-shadow: 4px 4px 4px; border: 1px solid \">\n",
    "<b> Комментарий ревьюера  2 ✔️</b>\n",
    "    \n",
    "А то странно смотрелся заголовк без содержания :)     \n",
    "   \n",
    "</div>\n"
   ]
  },
  {
   "cell_type": "markdown",
   "id": "53cc88be",
   "metadata": {},
   "source": [
    "## Предобработка данных"
   ]
  },
  {
   "cell_type": "markdown",
   "id": "cbed74fc",
   "metadata": {},
   "source": [
    "Изменим названия столбцов:"
   ]
  },
  {
   "cell_type": "code",
   "execution_count": 4,
   "id": "1cdb6481",
   "metadata": {
    "scrolled": true
   },
   "outputs": [
    {
     "data": {
      "text/html": [
       "<div>\n",
       "<style scoped>\n",
       "    .dataframe tbody tr th:only-of-type {\n",
       "        vertical-align: middle;\n",
       "    }\n",
       "\n",
       "    .dataframe tbody tr th {\n",
       "        vertical-align: top;\n",
       "    }\n",
       "\n",
       "    .dataframe thead th {\n",
       "        text-align: right;\n",
       "    }\n",
       "</style>\n",
       "<table border=\"1\" class=\"dataframe\">\n",
       "  <thead>\n",
       "    <tr style=\"text-align: right;\">\n",
       "      <th></th>\n",
       "      <th>name</th>\n",
       "      <th>platform</th>\n",
       "      <th>year_of_release</th>\n",
       "      <th>genre</th>\n",
       "      <th>na_sales</th>\n",
       "      <th>eu_sales</th>\n",
       "      <th>jp_sales</th>\n",
       "      <th>other_sales</th>\n",
       "      <th>critic_score</th>\n",
       "      <th>user_score</th>\n",
       "      <th>rating</th>\n",
       "    </tr>\n",
       "  </thead>\n",
       "  <tbody>\n",
       "    <tr>\n",
       "      <th>0</th>\n",
       "      <td>Wii Sports</td>\n",
       "      <td>Wii</td>\n",
       "      <td>2006.0</td>\n",
       "      <td>Sports</td>\n",
       "      <td>41.36</td>\n",
       "      <td>28.96</td>\n",
       "      <td>3.77</td>\n",
       "      <td>8.45</td>\n",
       "      <td>76.0</td>\n",
       "      <td>8</td>\n",
       "      <td>E</td>\n",
       "    </tr>\n",
       "    <tr>\n",
       "      <th>1</th>\n",
       "      <td>Super Mario Bros.</td>\n",
       "      <td>NES</td>\n",
       "      <td>1985.0</td>\n",
       "      <td>Platform</td>\n",
       "      <td>29.08</td>\n",
       "      <td>3.58</td>\n",
       "      <td>6.81</td>\n",
       "      <td>0.77</td>\n",
       "      <td>NaN</td>\n",
       "      <td>NaN</td>\n",
       "      <td>NaN</td>\n",
       "    </tr>\n",
       "    <tr>\n",
       "      <th>2</th>\n",
       "      <td>Mario Kart Wii</td>\n",
       "      <td>Wii</td>\n",
       "      <td>2008.0</td>\n",
       "      <td>Racing</td>\n",
       "      <td>15.68</td>\n",
       "      <td>12.76</td>\n",
       "      <td>3.79</td>\n",
       "      <td>3.29</td>\n",
       "      <td>82.0</td>\n",
       "      <td>8.3</td>\n",
       "      <td>E</td>\n",
       "    </tr>\n",
       "    <tr>\n",
       "      <th>3</th>\n",
       "      <td>Wii Sports Resort</td>\n",
       "      <td>Wii</td>\n",
       "      <td>2009.0</td>\n",
       "      <td>Sports</td>\n",
       "      <td>15.61</td>\n",
       "      <td>10.93</td>\n",
       "      <td>3.28</td>\n",
       "      <td>2.95</td>\n",
       "      <td>80.0</td>\n",
       "      <td>8</td>\n",
       "      <td>E</td>\n",
       "    </tr>\n",
       "    <tr>\n",
       "      <th>4</th>\n",
       "      <td>Pokemon Red/Pokemon Blue</td>\n",
       "      <td>GB</td>\n",
       "      <td>1996.0</td>\n",
       "      <td>Role-Playing</td>\n",
       "      <td>11.27</td>\n",
       "      <td>8.89</td>\n",
       "      <td>10.22</td>\n",
       "      <td>1.00</td>\n",
       "      <td>NaN</td>\n",
       "      <td>NaN</td>\n",
       "      <td>NaN</td>\n",
       "    </tr>\n",
       "    <tr>\n",
       "      <th>5</th>\n",
       "      <td>Tetris</td>\n",
       "      <td>GB</td>\n",
       "      <td>1989.0</td>\n",
       "      <td>Puzzle</td>\n",
       "      <td>23.20</td>\n",
       "      <td>2.26</td>\n",
       "      <td>4.22</td>\n",
       "      <td>0.58</td>\n",
       "      <td>NaN</td>\n",
       "      <td>NaN</td>\n",
       "      <td>NaN</td>\n",
       "    </tr>\n",
       "    <tr>\n",
       "      <th>6</th>\n",
       "      <td>New Super Mario Bros.</td>\n",
       "      <td>DS</td>\n",
       "      <td>2006.0</td>\n",
       "      <td>Platform</td>\n",
       "      <td>11.28</td>\n",
       "      <td>9.14</td>\n",
       "      <td>6.50</td>\n",
       "      <td>2.88</td>\n",
       "      <td>89.0</td>\n",
       "      <td>8.5</td>\n",
       "      <td>E</td>\n",
       "    </tr>\n",
       "    <tr>\n",
       "      <th>7</th>\n",
       "      <td>Wii Play</td>\n",
       "      <td>Wii</td>\n",
       "      <td>2006.0</td>\n",
       "      <td>Misc</td>\n",
       "      <td>13.96</td>\n",
       "      <td>9.18</td>\n",
       "      <td>2.93</td>\n",
       "      <td>2.84</td>\n",
       "      <td>58.0</td>\n",
       "      <td>6.6</td>\n",
       "      <td>E</td>\n",
       "    </tr>\n",
       "    <tr>\n",
       "      <th>8</th>\n",
       "      <td>New Super Mario Bros. Wii</td>\n",
       "      <td>Wii</td>\n",
       "      <td>2009.0</td>\n",
       "      <td>Platform</td>\n",
       "      <td>14.44</td>\n",
       "      <td>6.94</td>\n",
       "      <td>4.70</td>\n",
       "      <td>2.24</td>\n",
       "      <td>87.0</td>\n",
       "      <td>8.4</td>\n",
       "      <td>E</td>\n",
       "    </tr>\n",
       "    <tr>\n",
       "      <th>9</th>\n",
       "      <td>Duck Hunt</td>\n",
       "      <td>NES</td>\n",
       "      <td>1984.0</td>\n",
       "      <td>Shooter</td>\n",
       "      <td>26.93</td>\n",
       "      <td>0.63</td>\n",
       "      <td>0.28</td>\n",
       "      <td>0.47</td>\n",
       "      <td>NaN</td>\n",
       "      <td>NaN</td>\n",
       "      <td>NaN</td>\n",
       "    </tr>\n",
       "    <tr>\n",
       "      <th>10</th>\n",
       "      <td>Nintendogs</td>\n",
       "      <td>DS</td>\n",
       "      <td>2005.0</td>\n",
       "      <td>Simulation</td>\n",
       "      <td>9.05</td>\n",
       "      <td>10.95</td>\n",
       "      <td>1.93</td>\n",
       "      <td>2.74</td>\n",
       "      <td>NaN</td>\n",
       "      <td>NaN</td>\n",
       "      <td>NaN</td>\n",
       "    </tr>\n",
       "    <tr>\n",
       "      <th>11</th>\n",
       "      <td>Mario Kart DS</td>\n",
       "      <td>DS</td>\n",
       "      <td>2005.0</td>\n",
       "      <td>Racing</td>\n",
       "      <td>9.71</td>\n",
       "      <td>7.47</td>\n",
       "      <td>4.13</td>\n",
       "      <td>1.90</td>\n",
       "      <td>91.0</td>\n",
       "      <td>8.6</td>\n",
       "      <td>E</td>\n",
       "    </tr>\n",
       "    <tr>\n",
       "      <th>12</th>\n",
       "      <td>Pokemon Gold/Pokemon Silver</td>\n",
       "      <td>GB</td>\n",
       "      <td>1999.0</td>\n",
       "      <td>Role-Playing</td>\n",
       "      <td>9.00</td>\n",
       "      <td>6.18</td>\n",
       "      <td>7.20</td>\n",
       "      <td>0.71</td>\n",
       "      <td>NaN</td>\n",
       "      <td>NaN</td>\n",
       "      <td>NaN</td>\n",
       "    </tr>\n",
       "    <tr>\n",
       "      <th>13</th>\n",
       "      <td>Wii Fit</td>\n",
       "      <td>Wii</td>\n",
       "      <td>2007.0</td>\n",
       "      <td>Sports</td>\n",
       "      <td>8.92</td>\n",
       "      <td>8.03</td>\n",
       "      <td>3.60</td>\n",
       "      <td>2.15</td>\n",
       "      <td>80.0</td>\n",
       "      <td>7.7</td>\n",
       "      <td>E</td>\n",
       "    </tr>\n",
       "    <tr>\n",
       "      <th>14</th>\n",
       "      <td>Kinect Adventures!</td>\n",
       "      <td>X360</td>\n",
       "      <td>2010.0</td>\n",
       "      <td>Misc</td>\n",
       "      <td>15.00</td>\n",
       "      <td>4.89</td>\n",
       "      <td>0.24</td>\n",
       "      <td>1.69</td>\n",
       "      <td>61.0</td>\n",
       "      <td>6.3</td>\n",
       "      <td>E</td>\n",
       "    </tr>\n",
       "    <tr>\n",
       "      <th>15</th>\n",
       "      <td>Wii Fit Plus</td>\n",
       "      <td>Wii</td>\n",
       "      <td>2009.0</td>\n",
       "      <td>Sports</td>\n",
       "      <td>9.01</td>\n",
       "      <td>8.49</td>\n",
       "      <td>2.53</td>\n",
       "      <td>1.77</td>\n",
       "      <td>80.0</td>\n",
       "      <td>7.4</td>\n",
       "      <td>E</td>\n",
       "    </tr>\n",
       "    <tr>\n",
       "      <th>16</th>\n",
       "      <td>Grand Theft Auto V</td>\n",
       "      <td>PS3</td>\n",
       "      <td>2013.0</td>\n",
       "      <td>Action</td>\n",
       "      <td>7.02</td>\n",
       "      <td>9.09</td>\n",
       "      <td>0.98</td>\n",
       "      <td>3.96</td>\n",
       "      <td>97.0</td>\n",
       "      <td>8.2</td>\n",
       "      <td>M</td>\n",
       "    </tr>\n",
       "    <tr>\n",
       "      <th>17</th>\n",
       "      <td>Grand Theft Auto: San Andreas</td>\n",
       "      <td>PS2</td>\n",
       "      <td>2004.0</td>\n",
       "      <td>Action</td>\n",
       "      <td>9.43</td>\n",
       "      <td>0.40</td>\n",
       "      <td>0.41</td>\n",
       "      <td>10.57</td>\n",
       "      <td>95.0</td>\n",
       "      <td>9</td>\n",
       "      <td>M</td>\n",
       "    </tr>\n",
       "    <tr>\n",
       "      <th>18</th>\n",
       "      <td>Super Mario World</td>\n",
       "      <td>SNES</td>\n",
       "      <td>1990.0</td>\n",
       "      <td>Platform</td>\n",
       "      <td>12.78</td>\n",
       "      <td>3.75</td>\n",
       "      <td>3.54</td>\n",
       "      <td>0.55</td>\n",
       "      <td>NaN</td>\n",
       "      <td>NaN</td>\n",
       "      <td>NaN</td>\n",
       "    </tr>\n",
       "    <tr>\n",
       "      <th>19</th>\n",
       "      <td>Brain Age: Train Your Brain in Minutes a Day</td>\n",
       "      <td>DS</td>\n",
       "      <td>2005.0</td>\n",
       "      <td>Misc</td>\n",
       "      <td>4.74</td>\n",
       "      <td>9.20</td>\n",
       "      <td>4.16</td>\n",
       "      <td>2.04</td>\n",
       "      <td>77.0</td>\n",
       "      <td>7.9</td>\n",
       "      <td>E</td>\n",
       "    </tr>\n",
       "    <tr>\n",
       "      <th>20</th>\n",
       "      <td>Pokemon Diamond/Pokemon Pearl</td>\n",
       "      <td>DS</td>\n",
       "      <td>2006.0</td>\n",
       "      <td>Role-Playing</td>\n",
       "      <td>6.38</td>\n",
       "      <td>4.46</td>\n",
       "      <td>6.04</td>\n",
       "      <td>1.36</td>\n",
       "      <td>NaN</td>\n",
       "      <td>NaN</td>\n",
       "      <td>NaN</td>\n",
       "    </tr>\n",
       "    <tr>\n",
       "      <th>21</th>\n",
       "      <td>Super Mario Land</td>\n",
       "      <td>GB</td>\n",
       "      <td>1989.0</td>\n",
       "      <td>Platform</td>\n",
       "      <td>10.83</td>\n",
       "      <td>2.71</td>\n",
       "      <td>4.18</td>\n",
       "      <td>0.42</td>\n",
       "      <td>NaN</td>\n",
       "      <td>NaN</td>\n",
       "      <td>NaN</td>\n",
       "    </tr>\n",
       "    <tr>\n",
       "      <th>22</th>\n",
       "      <td>Super Mario Bros. 3</td>\n",
       "      <td>NES</td>\n",
       "      <td>1988.0</td>\n",
       "      <td>Platform</td>\n",
       "      <td>9.54</td>\n",
       "      <td>3.44</td>\n",
       "      <td>3.84</td>\n",
       "      <td>0.46</td>\n",
       "      <td>NaN</td>\n",
       "      <td>NaN</td>\n",
       "      <td>NaN</td>\n",
       "    </tr>\n",
       "    <tr>\n",
       "      <th>23</th>\n",
       "      <td>Grand Theft Auto V</td>\n",
       "      <td>X360</td>\n",
       "      <td>2013.0</td>\n",
       "      <td>Action</td>\n",
       "      <td>9.66</td>\n",
       "      <td>5.14</td>\n",
       "      <td>0.06</td>\n",
       "      <td>1.41</td>\n",
       "      <td>97.0</td>\n",
       "      <td>8.1</td>\n",
       "      <td>M</td>\n",
       "    </tr>\n",
       "    <tr>\n",
       "      <th>24</th>\n",
       "      <td>Grand Theft Auto: Vice City</td>\n",
       "      <td>PS2</td>\n",
       "      <td>2002.0</td>\n",
       "      <td>Action</td>\n",
       "      <td>8.41</td>\n",
       "      <td>5.49</td>\n",
       "      <td>0.47</td>\n",
       "      <td>1.78</td>\n",
       "      <td>95.0</td>\n",
       "      <td>8.7</td>\n",
       "      <td>M</td>\n",
       "    </tr>\n",
       "    <tr>\n",
       "      <th>25</th>\n",
       "      <td>Pokemon Ruby/Pokemon Sapphire</td>\n",
       "      <td>GBA</td>\n",
       "      <td>2002.0</td>\n",
       "      <td>Role-Playing</td>\n",
       "      <td>6.06</td>\n",
       "      <td>3.90</td>\n",
       "      <td>5.38</td>\n",
       "      <td>0.50</td>\n",
       "      <td>NaN</td>\n",
       "      <td>NaN</td>\n",
       "      <td>NaN</td>\n",
       "    </tr>\n",
       "    <tr>\n",
       "      <th>26</th>\n",
       "      <td>Brain Age 2: More Training in Minutes a Day</td>\n",
       "      <td>DS</td>\n",
       "      <td>2005.0</td>\n",
       "      <td>Puzzle</td>\n",
       "      <td>3.43</td>\n",
       "      <td>5.35</td>\n",
       "      <td>5.32</td>\n",
       "      <td>1.18</td>\n",
       "      <td>77.0</td>\n",
       "      <td>7.1</td>\n",
       "      <td>E</td>\n",
       "    </tr>\n",
       "    <tr>\n",
       "      <th>27</th>\n",
       "      <td>Pokemon Black/Pokemon White</td>\n",
       "      <td>DS</td>\n",
       "      <td>2010.0</td>\n",
       "      <td>Role-Playing</td>\n",
       "      <td>5.51</td>\n",
       "      <td>3.17</td>\n",
       "      <td>5.65</td>\n",
       "      <td>0.80</td>\n",
       "      <td>NaN</td>\n",
       "      <td>NaN</td>\n",
       "      <td>NaN</td>\n",
       "    </tr>\n",
       "    <tr>\n",
       "      <th>28</th>\n",
       "      <td>Gran Turismo 3: A-Spec</td>\n",
       "      <td>PS2</td>\n",
       "      <td>2001.0</td>\n",
       "      <td>Racing</td>\n",
       "      <td>6.85</td>\n",
       "      <td>5.09</td>\n",
       "      <td>1.87</td>\n",
       "      <td>1.16</td>\n",
       "      <td>95.0</td>\n",
       "      <td>8.4</td>\n",
       "      <td>E</td>\n",
       "    </tr>\n",
       "    <tr>\n",
       "      <th>29</th>\n",
       "      <td>Call of Duty: Modern Warfare 3</td>\n",
       "      <td>X360</td>\n",
       "      <td>2011.0</td>\n",
       "      <td>Shooter</td>\n",
       "      <td>9.04</td>\n",
       "      <td>4.24</td>\n",
       "      <td>0.13</td>\n",
       "      <td>1.32</td>\n",
       "      <td>88.0</td>\n",
       "      <td>3.4</td>\n",
       "      <td>M</td>\n",
       "    </tr>\n",
       "  </tbody>\n",
       "</table>\n",
       "</div>"
      ],
      "text/plain": [
       "                                            name platform  year_of_release  \\\n",
       "0                                     Wii Sports      Wii           2006.0   \n",
       "1                              Super Mario Bros.      NES           1985.0   \n",
       "2                                 Mario Kart Wii      Wii           2008.0   \n",
       "3                              Wii Sports Resort      Wii           2009.0   \n",
       "4                       Pokemon Red/Pokemon Blue       GB           1996.0   \n",
       "5                                         Tetris       GB           1989.0   \n",
       "6                          New Super Mario Bros.       DS           2006.0   \n",
       "7                                       Wii Play      Wii           2006.0   \n",
       "8                      New Super Mario Bros. Wii      Wii           2009.0   \n",
       "9                                      Duck Hunt      NES           1984.0   \n",
       "10                                    Nintendogs       DS           2005.0   \n",
       "11                                 Mario Kart DS       DS           2005.0   \n",
       "12                   Pokemon Gold/Pokemon Silver       GB           1999.0   \n",
       "13                                       Wii Fit      Wii           2007.0   \n",
       "14                            Kinect Adventures!     X360           2010.0   \n",
       "15                                  Wii Fit Plus      Wii           2009.0   \n",
       "16                            Grand Theft Auto V      PS3           2013.0   \n",
       "17                 Grand Theft Auto: San Andreas      PS2           2004.0   \n",
       "18                             Super Mario World     SNES           1990.0   \n",
       "19  Brain Age: Train Your Brain in Minutes a Day       DS           2005.0   \n",
       "20                 Pokemon Diamond/Pokemon Pearl       DS           2006.0   \n",
       "21                              Super Mario Land       GB           1989.0   \n",
       "22                           Super Mario Bros. 3      NES           1988.0   \n",
       "23                            Grand Theft Auto V     X360           2013.0   \n",
       "24                   Grand Theft Auto: Vice City      PS2           2002.0   \n",
       "25                 Pokemon Ruby/Pokemon Sapphire      GBA           2002.0   \n",
       "26   Brain Age 2: More Training in Minutes a Day       DS           2005.0   \n",
       "27                   Pokemon Black/Pokemon White       DS           2010.0   \n",
       "28                        Gran Turismo 3: A-Spec      PS2           2001.0   \n",
       "29                Call of Duty: Modern Warfare 3     X360           2011.0   \n",
       "\n",
       "           genre  na_sales  eu_sales  jp_sales  other_sales  critic_score  \\\n",
       "0         Sports     41.36     28.96      3.77         8.45          76.0   \n",
       "1       Platform     29.08      3.58      6.81         0.77           NaN   \n",
       "2         Racing     15.68     12.76      3.79         3.29          82.0   \n",
       "3         Sports     15.61     10.93      3.28         2.95          80.0   \n",
       "4   Role-Playing     11.27      8.89     10.22         1.00           NaN   \n",
       "5         Puzzle     23.20      2.26      4.22         0.58           NaN   \n",
       "6       Platform     11.28      9.14      6.50         2.88          89.0   \n",
       "7           Misc     13.96      9.18      2.93         2.84          58.0   \n",
       "8       Platform     14.44      6.94      4.70         2.24          87.0   \n",
       "9        Shooter     26.93      0.63      0.28         0.47           NaN   \n",
       "10    Simulation      9.05     10.95      1.93         2.74           NaN   \n",
       "11        Racing      9.71      7.47      4.13         1.90          91.0   \n",
       "12  Role-Playing      9.00      6.18      7.20         0.71           NaN   \n",
       "13        Sports      8.92      8.03      3.60         2.15          80.0   \n",
       "14          Misc     15.00      4.89      0.24         1.69          61.0   \n",
       "15        Sports      9.01      8.49      2.53         1.77          80.0   \n",
       "16        Action      7.02      9.09      0.98         3.96          97.0   \n",
       "17        Action      9.43      0.40      0.41        10.57          95.0   \n",
       "18      Platform     12.78      3.75      3.54         0.55           NaN   \n",
       "19          Misc      4.74      9.20      4.16         2.04          77.0   \n",
       "20  Role-Playing      6.38      4.46      6.04         1.36           NaN   \n",
       "21      Platform     10.83      2.71      4.18         0.42           NaN   \n",
       "22      Platform      9.54      3.44      3.84         0.46           NaN   \n",
       "23        Action      9.66      5.14      0.06         1.41          97.0   \n",
       "24        Action      8.41      5.49      0.47         1.78          95.0   \n",
       "25  Role-Playing      6.06      3.90      5.38         0.50           NaN   \n",
       "26        Puzzle      3.43      5.35      5.32         1.18          77.0   \n",
       "27  Role-Playing      5.51      3.17      5.65         0.80           NaN   \n",
       "28        Racing      6.85      5.09      1.87         1.16          95.0   \n",
       "29       Shooter      9.04      4.24      0.13         1.32          88.0   \n",
       "\n",
       "   user_score rating  \n",
       "0           8      E  \n",
       "1         NaN    NaN  \n",
       "2         8.3      E  \n",
       "3           8      E  \n",
       "4         NaN    NaN  \n",
       "5         NaN    NaN  \n",
       "6         8.5      E  \n",
       "7         6.6      E  \n",
       "8         8.4      E  \n",
       "9         NaN    NaN  \n",
       "10        NaN    NaN  \n",
       "11        8.6      E  \n",
       "12        NaN    NaN  \n",
       "13        7.7      E  \n",
       "14        6.3      E  \n",
       "15        7.4      E  \n",
       "16        8.2      M  \n",
       "17          9      M  \n",
       "18        NaN    NaN  \n",
       "19        7.9      E  \n",
       "20        NaN    NaN  \n",
       "21        NaN    NaN  \n",
       "22        NaN    NaN  \n",
       "23        8.1      M  \n",
       "24        8.7      M  \n",
       "25        NaN    NaN  \n",
       "26        7.1      E  \n",
       "27        NaN    NaN  \n",
       "28        8.4      E  \n",
       "29        3.4      M  "
      ]
     },
     "execution_count": 4,
     "metadata": {},
     "output_type": "execute_result"
    }
   ],
   "source": [
    "data=data.rename(columns={'Name':'name','Platform':'platform','Year_of_Release':'year_of_release','Genre':'genre','NA_sales':'na_sales','EU_sales':'eu_sales','JP_sales':'jp_sales','Other_sales':'other_sales','Critic_Score':'critic_score','User_Score':'user_score','Rating':'rating'})\n",
    "data.head(30)"
   ]
  },
  {
   "cell_type": "markdown",
   "id": "1b2e05d7",
   "metadata": {},
   "source": [
    "<div class=\"alert alert-success\" style=\"border-radius: 15px; box-shadow: 4px 4px 4px; border: 1px solid \">\n",
    "<b> Комментарий ревьюера ✔️</b>\n",
    "    \n",
    "Вот так тоже сработает:\n",
    "</div>\n",
    "\n",
    "```python\n",
    "\n",
    "df.columns = df.columns.str.lower()\n",
    "```"
   ]
  },
  {
   "cell_type": "markdown",
   "id": "e4c48bdb",
   "metadata": {},
   "source": [
    "<div class=\"alert alert-block alert-info\">\n",
    "<b>Комментарий студента:</b> Спасибо за рекомендацию!</div>"
   ]
  },
  {
   "cell_type": "markdown",
   "id": "d00296c6",
   "metadata": {},
   "source": [
    "<div class=\"alert alert-success\" style=\"border-radius: 15px; box-shadow: 4px 4px 4px; border: 1px solid \">\n",
    "<b> Комментарий ревьюера  2 ✔️</b>\n",
    "    \n",
    "Проще и быстрее :)     \n",
    "   \n",
    "</div>\n"
   ]
  },
  {
   "cell_type": "markdown",
   "id": "627b6b16",
   "metadata": {},
   "source": [
    "Проверка на дубликаты:"
   ]
  },
  {
   "cell_type": "code",
   "execution_count": 5,
   "id": "a4044176",
   "metadata": {},
   "outputs": [
    {
     "data": {
      "text/plain": [
       "0"
      ]
     },
     "execution_count": 5,
     "metadata": {},
     "output_type": "execute_result"
    }
   ],
   "source": [
    "data.duplicated().sum() # - нет дубликатов"
   ]
  },
  {
   "cell_type": "markdown",
   "id": "c7ab7724",
   "metadata": {},
   "source": [
    "<div class=\"alert alert-warning\" style=\"border-radius: 15px; box-shadow: 4px 4px 4px;border: 1px solid \">\n",
    "<b> Комментарий ревьюера  ⚠️</b>\n",
    "    \n",
    "Возможно, имеет смысл поискать дубликаты по комбинации имя-консоль-год.\n",
    "    \n",
    "</div>"
   ]
  },
  {
   "cell_type": "markdown",
   "id": "1f5ca19e",
   "metadata": {},
   "source": [
    "<div class=\"alert alert-block alert-info\">\n",
    "<b>Комментарий студента:</b> Попробовал исправить так.</div>"
   ]
  },
  {
   "cell_type": "code",
   "execution_count": 6,
   "id": "2923e6f9",
   "metadata": {},
   "outputs": [
    {
     "data": {
      "text/plain": [
       "2"
      ]
     },
     "execution_count": 6,
     "metadata": {},
     "output_type": "execute_result"
    }
   ],
   "source": [
    "data.duplicated(subset=['name','platform','year_of_release']).sum() #- существует один дубликат по комбинации имя-консоль-год"
   ]
  },
  {
   "cell_type": "code",
   "execution_count": 7,
   "id": "d3ed77f4",
   "metadata": {},
   "outputs": [
    {
     "data": {
      "text/html": [
       "<div>\n",
       "<style scoped>\n",
       "    .dataframe tbody tr th:only-of-type {\n",
       "        vertical-align: middle;\n",
       "    }\n",
       "\n",
       "    .dataframe tbody tr th {\n",
       "        vertical-align: top;\n",
       "    }\n",
       "\n",
       "    .dataframe thead th {\n",
       "        text-align: right;\n",
       "    }\n",
       "</style>\n",
       "<table border=\"1\" class=\"dataframe\">\n",
       "  <thead>\n",
       "    <tr style=\"text-align: right;\">\n",
       "      <th></th>\n",
       "      <th>name</th>\n",
       "      <th>platform</th>\n",
       "      <th>year_of_release</th>\n",
       "      <th>genre</th>\n",
       "      <th>na_sales</th>\n",
       "      <th>eu_sales</th>\n",
       "      <th>jp_sales</th>\n",
       "      <th>other_sales</th>\n",
       "      <th>critic_score</th>\n",
       "      <th>user_score</th>\n",
       "      <th>rating</th>\n",
       "    </tr>\n",
       "  </thead>\n",
       "  <tbody>\n",
       "    <tr>\n",
       "      <th>14244</th>\n",
       "      <td>NaN</td>\n",
       "      <td>GEN</td>\n",
       "      <td>1993.0</td>\n",
       "      <td>NaN</td>\n",
       "      <td>0.0</td>\n",
       "      <td>0.00</td>\n",
       "      <td>0.03</td>\n",
       "      <td>0.0</td>\n",
       "      <td>NaN</td>\n",
       "      <td>NaN</td>\n",
       "      <td>NaN</td>\n",
       "    </tr>\n",
       "    <tr>\n",
       "      <th>16230</th>\n",
       "      <td>Madden NFL 13</td>\n",
       "      <td>PS3</td>\n",
       "      <td>2012.0</td>\n",
       "      <td>Sports</td>\n",
       "      <td>0.0</td>\n",
       "      <td>0.01</td>\n",
       "      <td>0.00</td>\n",
       "      <td>0.0</td>\n",
       "      <td>83.0</td>\n",
       "      <td>5.5</td>\n",
       "      <td>E</td>\n",
       "    </tr>\n",
       "  </tbody>\n",
       "</table>\n",
       "</div>"
      ],
      "text/plain": [
       "                name platform  year_of_release   genre  na_sales  eu_sales  \\\n",
       "14244            NaN      GEN           1993.0     NaN       0.0      0.00   \n",
       "16230  Madden NFL 13      PS3           2012.0  Sports       0.0      0.01   \n",
       "\n",
       "       jp_sales  other_sales  critic_score user_score rating  \n",
       "14244      0.03          0.0           NaN        NaN    NaN  \n",
       "16230      0.00          0.0          83.0        5.5      E  "
      ]
     },
     "execution_count": 7,
     "metadata": {},
     "output_type": "execute_result"
    }
   ],
   "source": [
    "data[data.duplicated(subset=['name','platform','year_of_release'])]"
   ]
  },
  {
   "cell_type": "code",
   "execution_count": 8,
   "id": "b184a25c",
   "metadata": {},
   "outputs": [
    {
     "data": {
      "text/html": [
       "<div>\n",
       "<style scoped>\n",
       "    .dataframe tbody tr th:only-of-type {\n",
       "        vertical-align: middle;\n",
       "    }\n",
       "\n",
       "    .dataframe tbody tr th {\n",
       "        vertical-align: top;\n",
       "    }\n",
       "\n",
       "    .dataframe thead th {\n",
       "        text-align: right;\n",
       "    }\n",
       "</style>\n",
       "<table border=\"1\" class=\"dataframe\">\n",
       "  <thead>\n",
       "    <tr style=\"text-align: right;\">\n",
       "      <th></th>\n",
       "      <th>name</th>\n",
       "      <th>platform</th>\n",
       "      <th>year_of_release</th>\n",
       "      <th>genre</th>\n",
       "      <th>na_sales</th>\n",
       "      <th>eu_sales</th>\n",
       "      <th>jp_sales</th>\n",
       "      <th>other_sales</th>\n",
       "      <th>critic_score</th>\n",
       "      <th>user_score</th>\n",
       "      <th>rating</th>\n",
       "    </tr>\n",
       "  </thead>\n",
       "  <tbody>\n",
       "    <tr>\n",
       "      <th>604</th>\n",
       "      <td>Madden NFL 13</td>\n",
       "      <td>PS3</td>\n",
       "      <td>2012.0</td>\n",
       "      <td>Sports</td>\n",
       "      <td>2.11</td>\n",
       "      <td>0.22</td>\n",
       "      <td>0.0</td>\n",
       "      <td>0.23</td>\n",
       "      <td>83.0</td>\n",
       "      <td>5.5</td>\n",
       "      <td>E</td>\n",
       "    </tr>\n",
       "    <tr>\n",
       "      <th>16230</th>\n",
       "      <td>Madden NFL 13</td>\n",
       "      <td>PS3</td>\n",
       "      <td>2012.0</td>\n",
       "      <td>Sports</td>\n",
       "      <td>0.00</td>\n",
       "      <td>0.01</td>\n",
       "      <td>0.0</td>\n",
       "      <td>0.00</td>\n",
       "      <td>83.0</td>\n",
       "      <td>5.5</td>\n",
       "      <td>E</td>\n",
       "    </tr>\n",
       "  </tbody>\n",
       "</table>\n",
       "</div>"
      ],
      "text/plain": [
       "                name platform  year_of_release   genre  na_sales  eu_sales  \\\n",
       "604    Madden NFL 13      PS3           2012.0  Sports      2.11      0.22   \n",
       "16230  Madden NFL 13      PS3           2012.0  Sports      0.00      0.01   \n",
       "\n",
       "       jp_sales  other_sales  critic_score user_score rating  \n",
       "604         0.0         0.23          83.0        5.5      E  \n",
       "16230       0.0         0.00          83.0        5.5      E  "
      ]
     },
     "execution_count": 8,
     "metadata": {},
     "output_type": "execute_result"
    }
   ],
   "source": [
    "data[(data['name']=='Madden NFL 13')&(data['platform']=='PS3')]"
   ]
  },
  {
   "cell_type": "markdown",
   "id": "f2c387b5",
   "metadata": {},
   "source": [
    "Я думаю, стоит удалить последнюю строчку, т.к. продаж практически в ней нет, а оценки точно такие же как и в первой строке."
   ]
  },
  {
   "cell_type": "markdown",
   "id": "42de16b7",
   "metadata": {},
   "source": [
    "<div class=\"alert alert-success\" style=\"border-radius: 15px; box-shadow: 4px 4px 4px; border: 1px solid \">\n",
    "<b> Комментарий ревьюера  2 ✔️</b>\n",
    "    \n",
    "Соглашусь.    \n",
    "   \n",
    "</div>\n"
   ]
  },
  {
   "cell_type": "code",
   "execution_count": 9,
   "id": "1d9e4b70",
   "metadata": {},
   "outputs": [
    {
     "data": {
      "text/plain": [
       "0"
      ]
     },
     "execution_count": 9,
     "metadata": {},
     "output_type": "execute_result"
    }
   ],
   "source": [
    "data=data.drop_duplicates(subset=['name','platform','year_of_release']).reset_index()\n",
    "data.duplicated(subset=['name','platform','year_of_release']).sum()"
   ]
  },
  {
   "cell_type": "code",
   "execution_count": 10,
   "id": "ef109b60",
   "metadata": {},
   "outputs": [
    {
     "name": "stdout",
     "output_type": "stream",
     "text": [
      "<class 'pandas.core.frame.DataFrame'>\n",
      "RangeIndex: 16713 entries, 0 to 16712\n",
      "Data columns (total 12 columns):\n",
      " #   Column           Non-Null Count  Dtype  \n",
      "---  ------           --------------  -----  \n",
      " 0   index            16713 non-null  int64  \n",
      " 1   name             16712 non-null  object \n",
      " 2   platform         16713 non-null  object \n",
      " 3   year_of_release  16444 non-null  float64\n",
      " 4   genre            16712 non-null  object \n",
      " 5   na_sales         16713 non-null  float64\n",
      " 6   eu_sales         16713 non-null  float64\n",
      " 7   jp_sales         16713 non-null  float64\n",
      " 8   other_sales      16713 non-null  float64\n",
      " 9   critic_score     8136 non-null   float64\n",
      " 10  user_score       10013 non-null  object \n",
      " 11  rating           9948 non-null   object \n",
      "dtypes: float64(6), int64(1), object(5)\n",
      "memory usage: 1.5+ MB\n"
     ]
    }
   ],
   "source": [
    "data.info()"
   ]
  },
  {
   "cell_type": "markdown",
   "id": "4cde6aba",
   "metadata": {},
   "source": [
    "Разберемся с пропусками:"
   ]
  },
  {
   "cell_type": "markdown",
   "id": "3f668d20",
   "metadata": {},
   "source": [
    "В колонке name есть 1 пропуск. Строки, в которых присутствуют эти пропуски, следует удалить, т.к. неизвестно какую игру мы будем оценивать."
   ]
  },
  {
   "cell_type": "code",
   "execution_count": 11,
   "id": "0e728736",
   "metadata": {},
   "outputs": [
    {
     "name": "stdout",
     "output_type": "stream",
     "text": [
      "<class 'pandas.core.frame.DataFrame'>\n",
      "RangeIndex: 16712 entries, 0 to 16711\n",
      "Data columns (total 12 columns):\n",
      " #   Column           Non-Null Count  Dtype  \n",
      "---  ------           --------------  -----  \n",
      " 0   index            16712 non-null  int64  \n",
      " 1   name             16712 non-null  object \n",
      " 2   platform         16712 non-null  object \n",
      " 3   year_of_release  16443 non-null  float64\n",
      " 4   genre            16712 non-null  object \n",
      " 5   na_sales         16712 non-null  float64\n",
      " 6   eu_sales         16712 non-null  float64\n",
      " 7   jp_sales         16712 non-null  float64\n",
      " 8   other_sales      16712 non-null  float64\n",
      " 9   critic_score     8136 non-null   float64\n",
      " 10  user_score       10013 non-null  object \n",
      " 11  rating           9948 non-null   object \n",
      "dtypes: float64(6), int64(1), object(5)\n",
      "memory usage: 1.5+ MB\n"
     ]
    }
   ],
   "source": [
    "data=data.dropna(subset=['name']).reset_index(drop=True)\n",
    "data.info()"
   ]
  },
  {
   "cell_type": "markdown",
   "id": "dab63105",
   "metadata": {},
   "source": [
    "Разберемся почему есть пропуски в столбце critic_score. "
   ]
  },
  {
   "cell_type": "markdown",
   "id": "5edc31bb",
   "metadata": {},
   "source": [
    "В колонке year_of_release есть около 300 пропусков. Их следует оставить без измений, т.к. пропусков значительно мало, на рассуждения не повлияют. Возможные причины полвения пропусков в этой колонке: 1.человеческий фактор; 2.Игра вышла в 2016 году. "
   ]
  },
  {
   "cell_type": "code",
   "execution_count": 12,
   "id": "24575450",
   "metadata": {},
   "outputs": [
    {
     "data": {
      "text/plain": [
       "70.0    256\n",
       "71.0    254\n",
       "75.0    245\n",
       "78.0    240\n",
       "73.0    238\n",
       "       ... \n",
       "29.0      3\n",
       "13.0      1\n",
       "22.0      1\n",
       "17.0      1\n",
       "21.0      1\n",
       "Name: critic_score, Length: 82, dtype: int64"
      ]
     },
     "execution_count": 12,
     "metadata": {},
     "output_type": "execute_result"
    }
   ],
   "source": [
    "data['critic_score'].value_counts()"
   ]
  },
  {
   "cell_type": "code",
   "execution_count": 13,
   "id": "ed6d0dd5",
   "metadata": {},
   "outputs": [
    {
     "data": {
      "text/html": [
       "<div>\n",
       "<style scoped>\n",
       "    .dataframe tbody tr th:only-of-type {\n",
       "        vertical-align: middle;\n",
       "    }\n",
       "\n",
       "    .dataframe tbody tr th {\n",
       "        vertical-align: top;\n",
       "    }\n",
       "\n",
       "    .dataframe thead th {\n",
       "        text-align: right;\n",
       "    }\n",
       "</style>\n",
       "<table border=\"1\" class=\"dataframe\">\n",
       "  <thead>\n",
       "    <tr style=\"text-align: right;\">\n",
       "      <th></th>\n",
       "      <th>index</th>\n",
       "      <th>year_of_release</th>\n",
       "      <th>na_sales</th>\n",
       "      <th>eu_sales</th>\n",
       "      <th>jp_sales</th>\n",
       "      <th>other_sales</th>\n",
       "      <th>critic_score</th>\n",
       "    </tr>\n",
       "  </thead>\n",
       "  <tbody>\n",
       "    <tr>\n",
       "      <th>count</th>\n",
       "      <td>16712.000000</td>\n",
       "      <td>16443.000000</td>\n",
       "      <td>16712.000000</td>\n",
       "      <td>16712.000000</td>\n",
       "      <td>16712.000000</td>\n",
       "      <td>16712.000000</td>\n",
       "      <td>8136.000000</td>\n",
       "    </tr>\n",
       "    <tr>\n",
       "      <th>mean</th>\n",
       "      <td>8356.637267</td>\n",
       "      <td>2006.485921</td>\n",
       "      <td>0.263318</td>\n",
       "      <td>0.145053</td>\n",
       "      <td>0.077629</td>\n",
       "      <td>0.047346</td>\n",
       "      <td>68.965954</td>\n",
       "    </tr>\n",
       "    <tr>\n",
       "      <th>std</th>\n",
       "      <td>4824.815611</td>\n",
       "      <td>5.875546</td>\n",
       "      <td>0.813587</td>\n",
       "      <td>0.503373</td>\n",
       "      <td>0.308880</td>\n",
       "      <td>0.186747</td>\n",
       "      <td>13.938153</td>\n",
       "    </tr>\n",
       "    <tr>\n",
       "      <th>min</th>\n",
       "      <td>0.000000</td>\n",
       "      <td>1980.000000</td>\n",
       "      <td>0.000000</td>\n",
       "      <td>0.000000</td>\n",
       "      <td>0.000000</td>\n",
       "      <td>0.000000</td>\n",
       "      <td>13.000000</td>\n",
       "    </tr>\n",
       "    <tr>\n",
       "      <th>25%</th>\n",
       "      <td>4178.750000</td>\n",
       "      <td>2003.000000</td>\n",
       "      <td>0.000000</td>\n",
       "      <td>0.000000</td>\n",
       "      <td>0.000000</td>\n",
       "      <td>0.000000</td>\n",
       "      <td>60.000000</td>\n",
       "    </tr>\n",
       "    <tr>\n",
       "      <th>50%</th>\n",
       "      <td>8356.500000</td>\n",
       "      <td>2007.000000</td>\n",
       "      <td>0.080000</td>\n",
       "      <td>0.020000</td>\n",
       "      <td>0.000000</td>\n",
       "      <td>0.010000</td>\n",
       "      <td>71.000000</td>\n",
       "    </tr>\n",
       "    <tr>\n",
       "      <th>75%</th>\n",
       "      <td>12534.250000</td>\n",
       "      <td>2010.000000</td>\n",
       "      <td>0.240000</td>\n",
       "      <td>0.110000</td>\n",
       "      <td>0.040000</td>\n",
       "      <td>0.030000</td>\n",
       "      <td>79.000000</td>\n",
       "    </tr>\n",
       "    <tr>\n",
       "      <th>max</th>\n",
       "      <td>16714.000000</td>\n",
       "      <td>2016.000000</td>\n",
       "      <td>41.360000</td>\n",
       "      <td>28.960000</td>\n",
       "      <td>10.220000</td>\n",
       "      <td>10.570000</td>\n",
       "      <td>98.000000</td>\n",
       "    </tr>\n",
       "  </tbody>\n",
       "</table>\n",
       "</div>"
      ],
      "text/plain": [
       "              index  year_of_release      na_sales      eu_sales  \\\n",
       "count  16712.000000     16443.000000  16712.000000  16712.000000   \n",
       "mean    8356.637267      2006.485921      0.263318      0.145053   \n",
       "std     4824.815611         5.875546      0.813587      0.503373   \n",
       "min        0.000000      1980.000000      0.000000      0.000000   \n",
       "25%     4178.750000      2003.000000      0.000000      0.000000   \n",
       "50%     8356.500000      2007.000000      0.080000      0.020000   \n",
       "75%    12534.250000      2010.000000      0.240000      0.110000   \n",
       "max    16714.000000      2016.000000     41.360000     28.960000   \n",
       "\n",
       "           jp_sales   other_sales  critic_score  \n",
       "count  16712.000000  16712.000000   8136.000000  \n",
       "mean       0.077629      0.047346     68.965954  \n",
       "std        0.308880      0.186747     13.938153  \n",
       "min        0.000000      0.000000     13.000000  \n",
       "25%        0.000000      0.000000     60.000000  \n",
       "50%        0.000000      0.010000     71.000000  \n",
       "75%        0.040000      0.030000     79.000000  \n",
       "max       10.220000     10.570000     98.000000  "
      ]
     },
     "execution_count": 13,
     "metadata": {},
     "output_type": "execute_result"
    }
   ],
   "source": [
    "data.describe()"
   ]
  },
  {
   "cell_type": "markdown",
   "id": "22a9dd5c",
   "metadata": {},
   "source": [
    "В колонке critic_score больше 8000 пропусков. Это половина выборки. Ее заполнение искозит стандартное отклонение, пороговые значения в квартилях, среднее значение в этом столбце, поэтому этот процесс делать не стоит."
   ]
  },
  {
   "cell_type": "markdown",
   "id": "f9d8f404",
   "metadata": {},
   "source": [
    "<div class=\"alert alert-danger\" style=\"border-radius: 15px; box-shadow: 4px 4px 4px; border: 1px solid \">\n",
    "<b> Комментарий ревьюера  ❌</b>\n",
    "\n",
    "\n",
    "Насколько уместно заполнение половины выборки одним значением? Проведем аналогию с фильмами: станем ли мы присваивать фильму рейтинг 7 только потому, что 7 это средний/медианный рейтинг выборки? Думаю, что нет. \n",
    "</div>"
   ]
  },
  {
   "cell_type": "markdown",
   "id": "9404c3da",
   "metadata": {},
   "source": [
    "<div class=\"alert alert-block alert-info\">\n",
    "<b>Комментарий студента:</b> Попробовал переделать вывод выше.</div>"
   ]
  },
  {
   "cell_type": "markdown",
   "id": "6e469af5",
   "metadata": {},
   "source": [
    "<div class=\"alert alert-success\" style=\"border-radius: 15px; box-shadow: 4px 4px 4px; border: 1px solid \">\n",
    "<b> Комментарий ревьюера  2 ✔️</b>\n",
    "    \n",
    "Да, все верно. Конечно, неприятно иметь столько пропусков. Но гораздо безопаснее их просто проигнорировать. Они ничем нам не помешают, а при необходимости их можно будет легко отбросить.     \n",
    "   \n",
    "</div>\n"
   ]
  },
  {
   "cell_type": "code",
   "execution_count": 14,
   "id": "f4f407e4",
   "metadata": {},
   "outputs": [
    {
     "data": {
      "text/plain": [
       "tbd    2424\n",
       "7.8     324\n",
       "8       290\n",
       "8.2     282\n",
       "8.3     254\n",
       "       ... \n",
       "2.3       2\n",
       "1.5       2\n",
       "0.7       2\n",
       "9.7       1\n",
       "0         1\n",
       "Name: user_score, Length: 96, dtype: int64"
      ]
     },
     "execution_count": 14,
     "metadata": {},
     "output_type": "execute_result"
    }
   ],
   "source": [
    "data['user_score'].value_counts()"
   ]
  },
  {
   "cell_type": "markdown",
   "id": "7e860f16",
   "metadata": {},
   "source": [
    "В колонке user_score следует отметить значения tbd. tbd - значит \"To Be Determined\", как \"будет определено\". Их можно посчитать, как за пропуски. И вместе с ними присутствуют более 6000 пропусков. Всех их следует также оставить без изменений."
   ]
  },
  {
   "cell_type": "markdown",
   "id": "5eb8436f",
   "metadata": {},
   "source": [
    "<div class=\"alert alert-success\" style=\"border-radius: 15px; box-shadow: 4px 4px 4px; border: 1px solid \">\n",
    "<b> Комментарий ревьюера  2 ✔️</b>\n",
    "    \n",
    "Да, согласна.     \n",
    "   \n",
    "</div>\n"
   ]
  },
  {
   "cell_type": "code",
   "execution_count": 15,
   "id": "a15e669e",
   "metadata": {},
   "outputs": [
    {
     "data": {
      "text/plain": [
       "7.8    324\n",
       "8      290\n",
       "8.2    282\n",
       "8.3    254\n",
       "8.5    253\n",
       "      ... \n",
       "2.3      2\n",
       "1.5      2\n",
       "0.7      2\n",
       "9.7      1\n",
       "0        1\n",
       "Name: user_score, Length: 95, dtype: int64"
      ]
     },
     "execution_count": 15,
     "metadata": {},
     "output_type": "execute_result"
    }
   ],
   "source": [
    "data[data['user_score']=='tbd']=data[data['user_score']=='tbd'].replace({'user_score':{'tbd':np.nan}})\n",
    "data['user_score'].value_counts()"
   ]
  },
  {
   "cell_type": "markdown",
   "id": "a371376d",
   "metadata": {},
   "source": [
    "Изменим тип данных в колонке user_score:"
   ]
  },
  {
   "cell_type": "code",
   "execution_count": 16,
   "id": "5edf9f6d",
   "metadata": {},
   "outputs": [],
   "source": [
    "data['user_score']=data['user_score'].astype('float')"
   ]
  },
  {
   "cell_type": "code",
   "execution_count": 17,
   "id": "296c8c00",
   "metadata": {},
   "outputs": [
    {
     "data": {
      "text/html": [
       "<div>\n",
       "<style scoped>\n",
       "    .dataframe tbody tr th:only-of-type {\n",
       "        vertical-align: middle;\n",
       "    }\n",
       "\n",
       "    .dataframe tbody tr th {\n",
       "        vertical-align: top;\n",
       "    }\n",
       "\n",
       "    .dataframe thead th {\n",
       "        text-align: right;\n",
       "    }\n",
       "</style>\n",
       "<table border=\"1\" class=\"dataframe\">\n",
       "  <thead>\n",
       "    <tr style=\"text-align: right;\">\n",
       "      <th></th>\n",
       "      <th>index</th>\n",
       "      <th>year_of_release</th>\n",
       "      <th>na_sales</th>\n",
       "      <th>eu_sales</th>\n",
       "      <th>jp_sales</th>\n",
       "      <th>other_sales</th>\n",
       "      <th>critic_score</th>\n",
       "      <th>user_score</th>\n",
       "    </tr>\n",
       "  </thead>\n",
       "  <tbody>\n",
       "    <tr>\n",
       "      <th>count</th>\n",
       "      <td>16712.000000</td>\n",
       "      <td>16443.000000</td>\n",
       "      <td>16712.000000</td>\n",
       "      <td>16712.000000</td>\n",
       "      <td>16712.000000</td>\n",
       "      <td>16712.000000</td>\n",
       "      <td>8136.000000</td>\n",
       "      <td>7589.000000</td>\n",
       "    </tr>\n",
       "    <tr>\n",
       "      <th>mean</th>\n",
       "      <td>8356.637267</td>\n",
       "      <td>2006.485921</td>\n",
       "      <td>0.263318</td>\n",
       "      <td>0.145053</td>\n",
       "      <td>0.077629</td>\n",
       "      <td>0.047346</td>\n",
       "      <td>68.965954</td>\n",
       "      <td>7.125260</td>\n",
       "    </tr>\n",
       "    <tr>\n",
       "      <th>std</th>\n",
       "      <td>4824.815611</td>\n",
       "      <td>5.875546</td>\n",
       "      <td>0.813587</td>\n",
       "      <td>0.503373</td>\n",
       "      <td>0.308880</td>\n",
       "      <td>0.186747</td>\n",
       "      <td>13.938153</td>\n",
       "      <td>1.499989</td>\n",
       "    </tr>\n",
       "    <tr>\n",
       "      <th>min</th>\n",
       "      <td>0.000000</td>\n",
       "      <td>1980.000000</td>\n",
       "      <td>0.000000</td>\n",
       "      <td>0.000000</td>\n",
       "      <td>0.000000</td>\n",
       "      <td>0.000000</td>\n",
       "      <td>13.000000</td>\n",
       "      <td>0.000000</td>\n",
       "    </tr>\n",
       "    <tr>\n",
       "      <th>25%</th>\n",
       "      <td>4178.750000</td>\n",
       "      <td>2003.000000</td>\n",
       "      <td>0.000000</td>\n",
       "      <td>0.000000</td>\n",
       "      <td>0.000000</td>\n",
       "      <td>0.000000</td>\n",
       "      <td>60.000000</td>\n",
       "      <td>6.400000</td>\n",
       "    </tr>\n",
       "    <tr>\n",
       "      <th>50%</th>\n",
       "      <td>8356.500000</td>\n",
       "      <td>2007.000000</td>\n",
       "      <td>0.080000</td>\n",
       "      <td>0.020000</td>\n",
       "      <td>0.000000</td>\n",
       "      <td>0.010000</td>\n",
       "      <td>71.000000</td>\n",
       "      <td>7.500000</td>\n",
       "    </tr>\n",
       "    <tr>\n",
       "      <th>75%</th>\n",
       "      <td>12534.250000</td>\n",
       "      <td>2010.000000</td>\n",
       "      <td>0.240000</td>\n",
       "      <td>0.110000</td>\n",
       "      <td>0.040000</td>\n",
       "      <td>0.030000</td>\n",
       "      <td>79.000000</td>\n",
       "      <td>8.200000</td>\n",
       "    </tr>\n",
       "    <tr>\n",
       "      <th>max</th>\n",
       "      <td>16714.000000</td>\n",
       "      <td>2016.000000</td>\n",
       "      <td>41.360000</td>\n",
       "      <td>28.960000</td>\n",
       "      <td>10.220000</td>\n",
       "      <td>10.570000</td>\n",
       "      <td>98.000000</td>\n",
       "      <td>9.700000</td>\n",
       "    </tr>\n",
       "  </tbody>\n",
       "</table>\n",
       "</div>"
      ],
      "text/plain": [
       "              index  year_of_release      na_sales      eu_sales  \\\n",
       "count  16712.000000     16443.000000  16712.000000  16712.000000   \n",
       "mean    8356.637267      2006.485921      0.263318      0.145053   \n",
       "std     4824.815611         5.875546      0.813587      0.503373   \n",
       "min        0.000000      1980.000000      0.000000      0.000000   \n",
       "25%     4178.750000      2003.000000      0.000000      0.000000   \n",
       "50%     8356.500000      2007.000000      0.080000      0.020000   \n",
       "75%    12534.250000      2010.000000      0.240000      0.110000   \n",
       "max    16714.000000      2016.000000     41.360000     28.960000   \n",
       "\n",
       "           jp_sales   other_sales  critic_score   user_score  \n",
       "count  16712.000000  16712.000000   8136.000000  7589.000000  \n",
       "mean       0.077629      0.047346     68.965954     7.125260  \n",
       "std        0.308880      0.186747     13.938153     1.499989  \n",
       "min        0.000000      0.000000     13.000000     0.000000  \n",
       "25%        0.000000      0.000000     60.000000     6.400000  \n",
       "50%        0.000000      0.010000     71.000000     7.500000  \n",
       "75%        0.040000      0.030000     79.000000     8.200000  \n",
       "max       10.220000     10.570000     98.000000     9.700000  "
      ]
     },
     "execution_count": 17,
     "metadata": {},
     "output_type": "execute_result"
    }
   ],
   "source": [
    "data.describe()"
   ]
  },
  {
   "cell_type": "code",
   "execution_count": 18,
   "id": "9db8bef7",
   "metadata": {},
   "outputs": [
    {
     "name": "stdout",
     "output_type": "stream",
     "text": [
      "<class 'pandas.core.frame.DataFrame'>\n",
      "RangeIndex: 16712 entries, 0 to 16711\n",
      "Data columns (total 12 columns):\n",
      " #   Column           Non-Null Count  Dtype  \n",
      "---  ------           --------------  -----  \n",
      " 0   index            16712 non-null  int64  \n",
      " 1   name             16712 non-null  object \n",
      " 2   platform         16712 non-null  object \n",
      " 3   year_of_release  16443 non-null  float64\n",
      " 4   genre            16712 non-null  object \n",
      " 5   na_sales         16712 non-null  float64\n",
      " 6   eu_sales         16712 non-null  float64\n",
      " 7   jp_sales         16712 non-null  float64\n",
      " 8   other_sales      16712 non-null  float64\n",
      " 9   critic_score     8136 non-null   float64\n",
      " 10  user_score       7589 non-null   float64\n",
      " 11  rating           9948 non-null   object \n",
      "dtypes: float64(7), int64(1), object(4)\n",
      "memory usage: 1.5+ MB\n"
     ]
    }
   ],
   "source": [
    "#информация о ДатаФрейме\n",
    "data.info()"
   ]
  },
  {
   "cell_type": "markdown",
   "id": "feba3664",
   "metadata": {},
   "source": [
    "<div class=\"alert alert-danger\" style=\"border-radius: 15px; box-shadow: 4px 4px 4px; border: 1px solid \">\n",
    "<b> Комментарий ревьюера  ❌</b>\n",
    "    \n",
    "- Тот же вопрос про замену. \n",
    "\n",
    "\n",
    "\n",
    "- Почему tdb можно заменить на пропуски? \n",
    "\n",
    "\n",
    "\n",
    "</div>"
   ]
  },
  {
   "cell_type": "markdown",
   "id": "b8dda9b2",
   "metadata": {},
   "source": [
    "<div class=\"alert alert-block alert-info\">\n",
    "<b>Комментарий студента:</b> Попробовал исправить выше.</div>"
   ]
  },
  {
   "cell_type": "code",
   "execution_count": 19,
   "id": "a4f69994",
   "metadata": {},
   "outputs": [
    {
     "data": {
      "text/plain": [
       "E       3989\n",
       "T       2961\n",
       "M       1563\n",
       "E10+    1420\n",
       "EC         8\n",
       "K-A        3\n",
       "RP         3\n",
       "AO         1\n",
       "Name: rating, dtype: int64"
      ]
     },
     "execution_count": 19,
     "metadata": {},
     "output_type": "execute_result"
    }
   ],
   "source": [
    "data['rating'].value_counts()"
   ]
  },
  {
   "cell_type": "markdown",
   "id": "dada97cc",
   "metadata": {},
   "source": [
    "В столбце rating больше 6000 пропусков. В этом столбце категориальные значения, а значит заменим пропуски на \"Нет рейтинга\":"
   ]
  },
  {
   "cell_type": "code",
   "execution_count": 20,
   "id": "34a52ef6",
   "metadata": {},
   "outputs": [],
   "source": [
    "data['rating']=data['rating'].fillna('Нет рейтинга')"
   ]
  },
  {
   "cell_type": "code",
   "execution_count": 21,
   "id": "c262a3eb",
   "metadata": {},
   "outputs": [
    {
     "data": {
      "text/plain": [
       "Нет рейтинга    6764\n",
       "E               3989\n",
       "T               2961\n",
       "M               1563\n",
       "E10+            1420\n",
       "EC                 8\n",
       "K-A                3\n",
       "RP                 3\n",
       "AO                 1\n",
       "Name: rating, dtype: int64"
      ]
     },
     "execution_count": 21,
     "metadata": {},
     "output_type": "execute_result"
    }
   ],
   "source": [
    "data['rating'].value_counts()"
   ]
  },
  {
   "cell_type": "markdown",
   "id": "a6a57030",
   "metadata": {},
   "source": [
    "Возможная причина появления пропусков в столбцах user_score, critic_score, rating: нет рейтинга ESRB, т.к. они не оценивают онлайн-игры и в связи с этим и нет оценки критиков и пользователей. В каких-то ситуациях в столбцах user_score, critic_score, нет рейтинга потому что не было отзывов со стороны критиков и пользователей на эти игры."
   ]
  },
  {
   "cell_type": "markdown",
   "id": "7f5fc1ec",
   "metadata": {},
   "source": [
    "<div class=\"alert alert-warning\" style=\"border-radius: 15px; box-shadow: 4px 4px 4px;border: 1px solid \">\n",
    "<b> Комментарий ревьюера  ⚠️</b>\n",
    "    \n",
    "> год выпуска игр находится до 2000 года,\n",
    "    \n",
    "    \n",
    "Это можно легко проверить. Рекомендую не оставлять в подвешенном состоянии гипотезы, которые можно проверить. \n",
    "</div>"
   ]
  },
  {
   "cell_type": "markdown",
   "id": "bec06171",
   "metadata": {},
   "source": [
    "<div class=\"alert alert-block alert-info\">\n",
    "<b>Комментарий студента:</b> Действительно моя гипотеза оказалось неверной. Проверил с помощью кода: data[data['critic_score'].isna()]['year_of_release'].value_counts(). Попробовал предположить возможную причину выше.</div> "
   ]
  },
  {
   "cell_type": "markdown",
   "id": "507d0e2b",
   "metadata": {},
   "source": [
    "<div class=\"alert alert-success\" style=\"border-radius: 15px; box-shadow: 4px 4px 4px; border: 1px solid \">\n",
    "<b> Комментарий ревьюера  2 ✔️</b>\n",
    "    \n",
    "Да, дело вполне может быть в том, что игра не была оценена по каким-то причинам. Либо пока не собрала достаточное количество оценок.     \n",
    "   \n",
    "</div>\n"
   ]
  },
  {
   "cell_type": "markdown",
   "id": "a0967d0e",
   "metadata": {},
   "source": [
    "Cуммарные продажи во всех регионах:"
   ]
  },
  {
   "cell_type": "code",
   "execution_count": 22,
   "id": "4ce160fc",
   "metadata": {},
   "outputs": [],
   "source": [
    "data['sales']=data['na_sales']+data['eu_sales']+data['jp_sales']+data['other_sales']"
   ]
  },
  {
   "cell_type": "markdown",
   "id": "dd455905",
   "metadata": {},
   "source": [
    "<div class=\"alert alert-success\" style=\"border-radius: 15px; box-shadow: 4px 4px 4px; border: 1px solid \">\n",
    "<b> Комментарий ревьюера ✔️</b>\n",
    "    \n",
    "Можно еще взять метод **sum** с аргументом **axis=1**.\n",
    "    \n",
    "</div>\n",
    "\n",
    "```python\n",
    "\n",
    "\n",
    "df['total_sales'] = df[['na_sales','eu_sales','jp_sales','other_sales']].sum(axis=1)\n",
    "```"
   ]
  },
  {
   "cell_type": "markdown",
   "id": "256e41a2",
   "metadata": {},
   "source": [
    "<div class=\"alert alert-block alert-info\">\n",
    "<b>Комментарий студента:</b> Круто! Буду знать, спасибо.</div>"
   ]
  },
  {
   "cell_type": "code",
   "execution_count": 23,
   "id": "7bf26cd9",
   "metadata": {},
   "outputs": [
    {
     "data": {
      "text/html": [
       "<div>\n",
       "<style scoped>\n",
       "    .dataframe tbody tr th:only-of-type {\n",
       "        vertical-align: middle;\n",
       "    }\n",
       "\n",
       "    .dataframe tbody tr th {\n",
       "        vertical-align: top;\n",
       "    }\n",
       "\n",
       "    .dataframe thead th {\n",
       "        text-align: right;\n",
       "    }\n",
       "</style>\n",
       "<table border=\"1\" class=\"dataframe\">\n",
       "  <thead>\n",
       "    <tr style=\"text-align: right;\">\n",
       "      <th></th>\n",
       "      <th>index</th>\n",
       "      <th>name</th>\n",
       "      <th>platform</th>\n",
       "      <th>year_of_release</th>\n",
       "      <th>genre</th>\n",
       "      <th>na_sales</th>\n",
       "      <th>eu_sales</th>\n",
       "      <th>jp_sales</th>\n",
       "      <th>other_sales</th>\n",
       "      <th>critic_score</th>\n",
       "      <th>user_score</th>\n",
       "      <th>rating</th>\n",
       "      <th>sales</th>\n",
       "    </tr>\n",
       "  </thead>\n",
       "  <tbody>\n",
       "    <tr>\n",
       "      <th>0</th>\n",
       "      <td>0</td>\n",
       "      <td>Wii Sports</td>\n",
       "      <td>Wii</td>\n",
       "      <td>2006.0</td>\n",
       "      <td>Sports</td>\n",
       "      <td>41.36</td>\n",
       "      <td>28.96</td>\n",
       "      <td>3.77</td>\n",
       "      <td>8.45</td>\n",
       "      <td>76.0</td>\n",
       "      <td>8.0</td>\n",
       "      <td>E</td>\n",
       "      <td>82.54</td>\n",
       "    </tr>\n",
       "    <tr>\n",
       "      <th>1</th>\n",
       "      <td>1</td>\n",
       "      <td>Super Mario Bros.</td>\n",
       "      <td>NES</td>\n",
       "      <td>1985.0</td>\n",
       "      <td>Platform</td>\n",
       "      <td>29.08</td>\n",
       "      <td>3.58</td>\n",
       "      <td>6.81</td>\n",
       "      <td>0.77</td>\n",
       "      <td>NaN</td>\n",
       "      <td>NaN</td>\n",
       "      <td>Нет рейтинга</td>\n",
       "      <td>40.24</td>\n",
       "    </tr>\n",
       "    <tr>\n",
       "      <th>2</th>\n",
       "      <td>2</td>\n",
       "      <td>Mario Kart Wii</td>\n",
       "      <td>Wii</td>\n",
       "      <td>2008.0</td>\n",
       "      <td>Racing</td>\n",
       "      <td>15.68</td>\n",
       "      <td>12.76</td>\n",
       "      <td>3.79</td>\n",
       "      <td>3.29</td>\n",
       "      <td>82.0</td>\n",
       "      <td>8.3</td>\n",
       "      <td>E</td>\n",
       "      <td>35.52</td>\n",
       "    </tr>\n",
       "    <tr>\n",
       "      <th>3</th>\n",
       "      <td>3</td>\n",
       "      <td>Wii Sports Resort</td>\n",
       "      <td>Wii</td>\n",
       "      <td>2009.0</td>\n",
       "      <td>Sports</td>\n",
       "      <td>15.61</td>\n",
       "      <td>10.93</td>\n",
       "      <td>3.28</td>\n",
       "      <td>2.95</td>\n",
       "      <td>80.0</td>\n",
       "      <td>8.0</td>\n",
       "      <td>E</td>\n",
       "      <td>32.77</td>\n",
       "    </tr>\n",
       "    <tr>\n",
       "      <th>4</th>\n",
       "      <td>4</td>\n",
       "      <td>Pokemon Red/Pokemon Blue</td>\n",
       "      <td>GB</td>\n",
       "      <td>1996.0</td>\n",
       "      <td>Role-Playing</td>\n",
       "      <td>11.27</td>\n",
       "      <td>8.89</td>\n",
       "      <td>10.22</td>\n",
       "      <td>1.00</td>\n",
       "      <td>NaN</td>\n",
       "      <td>NaN</td>\n",
       "      <td>Нет рейтинга</td>\n",
       "      <td>31.38</td>\n",
       "    </tr>\n",
       "    <tr>\n",
       "      <th>5</th>\n",
       "      <td>5</td>\n",
       "      <td>Tetris</td>\n",
       "      <td>GB</td>\n",
       "      <td>1989.0</td>\n",
       "      <td>Puzzle</td>\n",
       "      <td>23.20</td>\n",
       "      <td>2.26</td>\n",
       "      <td>4.22</td>\n",
       "      <td>0.58</td>\n",
       "      <td>NaN</td>\n",
       "      <td>NaN</td>\n",
       "      <td>Нет рейтинга</td>\n",
       "      <td>30.26</td>\n",
       "    </tr>\n",
       "    <tr>\n",
       "      <th>6</th>\n",
       "      <td>6</td>\n",
       "      <td>New Super Mario Bros.</td>\n",
       "      <td>DS</td>\n",
       "      <td>2006.0</td>\n",
       "      <td>Platform</td>\n",
       "      <td>11.28</td>\n",
       "      <td>9.14</td>\n",
       "      <td>6.50</td>\n",
       "      <td>2.88</td>\n",
       "      <td>89.0</td>\n",
       "      <td>8.5</td>\n",
       "      <td>E</td>\n",
       "      <td>29.80</td>\n",
       "    </tr>\n",
       "    <tr>\n",
       "      <th>7</th>\n",
       "      <td>7</td>\n",
       "      <td>Wii Play</td>\n",
       "      <td>Wii</td>\n",
       "      <td>2006.0</td>\n",
       "      <td>Misc</td>\n",
       "      <td>13.96</td>\n",
       "      <td>9.18</td>\n",
       "      <td>2.93</td>\n",
       "      <td>2.84</td>\n",
       "      <td>58.0</td>\n",
       "      <td>6.6</td>\n",
       "      <td>E</td>\n",
       "      <td>28.91</td>\n",
       "    </tr>\n",
       "    <tr>\n",
       "      <th>8</th>\n",
       "      <td>8</td>\n",
       "      <td>New Super Mario Bros. Wii</td>\n",
       "      <td>Wii</td>\n",
       "      <td>2009.0</td>\n",
       "      <td>Platform</td>\n",
       "      <td>14.44</td>\n",
       "      <td>6.94</td>\n",
       "      <td>4.70</td>\n",
       "      <td>2.24</td>\n",
       "      <td>87.0</td>\n",
       "      <td>8.4</td>\n",
       "      <td>E</td>\n",
       "      <td>28.32</td>\n",
       "    </tr>\n",
       "    <tr>\n",
       "      <th>9</th>\n",
       "      <td>9</td>\n",
       "      <td>Duck Hunt</td>\n",
       "      <td>NES</td>\n",
       "      <td>1984.0</td>\n",
       "      <td>Shooter</td>\n",
       "      <td>26.93</td>\n",
       "      <td>0.63</td>\n",
       "      <td>0.28</td>\n",
       "      <td>0.47</td>\n",
       "      <td>NaN</td>\n",
       "      <td>NaN</td>\n",
       "      <td>Нет рейтинга</td>\n",
       "      <td>28.31</td>\n",
       "    </tr>\n",
       "    <tr>\n",
       "      <th>10</th>\n",
       "      <td>10</td>\n",
       "      <td>Nintendogs</td>\n",
       "      <td>DS</td>\n",
       "      <td>2005.0</td>\n",
       "      <td>Simulation</td>\n",
       "      <td>9.05</td>\n",
       "      <td>10.95</td>\n",
       "      <td>1.93</td>\n",
       "      <td>2.74</td>\n",
       "      <td>NaN</td>\n",
       "      <td>NaN</td>\n",
       "      <td>Нет рейтинга</td>\n",
       "      <td>24.67</td>\n",
       "    </tr>\n",
       "    <tr>\n",
       "      <th>11</th>\n",
       "      <td>11</td>\n",
       "      <td>Mario Kart DS</td>\n",
       "      <td>DS</td>\n",
       "      <td>2005.0</td>\n",
       "      <td>Racing</td>\n",
       "      <td>9.71</td>\n",
       "      <td>7.47</td>\n",
       "      <td>4.13</td>\n",
       "      <td>1.90</td>\n",
       "      <td>91.0</td>\n",
       "      <td>8.6</td>\n",
       "      <td>E</td>\n",
       "      <td>23.21</td>\n",
       "    </tr>\n",
       "    <tr>\n",
       "      <th>12</th>\n",
       "      <td>12</td>\n",
       "      <td>Pokemon Gold/Pokemon Silver</td>\n",
       "      <td>GB</td>\n",
       "      <td>1999.0</td>\n",
       "      <td>Role-Playing</td>\n",
       "      <td>9.00</td>\n",
       "      <td>6.18</td>\n",
       "      <td>7.20</td>\n",
       "      <td>0.71</td>\n",
       "      <td>NaN</td>\n",
       "      <td>NaN</td>\n",
       "      <td>Нет рейтинга</td>\n",
       "      <td>23.09</td>\n",
       "    </tr>\n",
       "    <tr>\n",
       "      <th>13</th>\n",
       "      <td>13</td>\n",
       "      <td>Wii Fit</td>\n",
       "      <td>Wii</td>\n",
       "      <td>2007.0</td>\n",
       "      <td>Sports</td>\n",
       "      <td>8.92</td>\n",
       "      <td>8.03</td>\n",
       "      <td>3.60</td>\n",
       "      <td>2.15</td>\n",
       "      <td>80.0</td>\n",
       "      <td>7.7</td>\n",
       "      <td>E</td>\n",
       "      <td>22.70</td>\n",
       "    </tr>\n",
       "    <tr>\n",
       "      <th>14</th>\n",
       "      <td>14</td>\n",
       "      <td>Kinect Adventures!</td>\n",
       "      <td>X360</td>\n",
       "      <td>2010.0</td>\n",
       "      <td>Misc</td>\n",
       "      <td>15.00</td>\n",
       "      <td>4.89</td>\n",
       "      <td>0.24</td>\n",
       "      <td>1.69</td>\n",
       "      <td>61.0</td>\n",
       "      <td>6.3</td>\n",
       "      <td>E</td>\n",
       "      <td>21.82</td>\n",
       "    </tr>\n",
       "    <tr>\n",
       "      <th>15</th>\n",
       "      <td>15</td>\n",
       "      <td>Wii Fit Plus</td>\n",
       "      <td>Wii</td>\n",
       "      <td>2009.0</td>\n",
       "      <td>Sports</td>\n",
       "      <td>9.01</td>\n",
       "      <td>8.49</td>\n",
       "      <td>2.53</td>\n",
       "      <td>1.77</td>\n",
       "      <td>80.0</td>\n",
       "      <td>7.4</td>\n",
       "      <td>E</td>\n",
       "      <td>21.80</td>\n",
       "    </tr>\n",
       "    <tr>\n",
       "      <th>16</th>\n",
       "      <td>16</td>\n",
       "      <td>Grand Theft Auto V</td>\n",
       "      <td>PS3</td>\n",
       "      <td>2013.0</td>\n",
       "      <td>Action</td>\n",
       "      <td>7.02</td>\n",
       "      <td>9.09</td>\n",
       "      <td>0.98</td>\n",
       "      <td>3.96</td>\n",
       "      <td>97.0</td>\n",
       "      <td>8.2</td>\n",
       "      <td>M</td>\n",
       "      <td>21.05</td>\n",
       "    </tr>\n",
       "    <tr>\n",
       "      <th>17</th>\n",
       "      <td>17</td>\n",
       "      <td>Grand Theft Auto: San Andreas</td>\n",
       "      <td>PS2</td>\n",
       "      <td>2004.0</td>\n",
       "      <td>Action</td>\n",
       "      <td>9.43</td>\n",
       "      <td>0.40</td>\n",
       "      <td>0.41</td>\n",
       "      <td>10.57</td>\n",
       "      <td>95.0</td>\n",
       "      <td>9.0</td>\n",
       "      <td>M</td>\n",
       "      <td>20.81</td>\n",
       "    </tr>\n",
       "    <tr>\n",
       "      <th>18</th>\n",
       "      <td>18</td>\n",
       "      <td>Super Mario World</td>\n",
       "      <td>SNES</td>\n",
       "      <td>1990.0</td>\n",
       "      <td>Platform</td>\n",
       "      <td>12.78</td>\n",
       "      <td>3.75</td>\n",
       "      <td>3.54</td>\n",
       "      <td>0.55</td>\n",
       "      <td>NaN</td>\n",
       "      <td>NaN</td>\n",
       "      <td>Нет рейтинга</td>\n",
       "      <td>20.62</td>\n",
       "    </tr>\n",
       "    <tr>\n",
       "      <th>19</th>\n",
       "      <td>19</td>\n",
       "      <td>Brain Age: Train Your Brain in Minutes a Day</td>\n",
       "      <td>DS</td>\n",
       "      <td>2005.0</td>\n",
       "      <td>Misc</td>\n",
       "      <td>4.74</td>\n",
       "      <td>9.20</td>\n",
       "      <td>4.16</td>\n",
       "      <td>2.04</td>\n",
       "      <td>77.0</td>\n",
       "      <td>7.9</td>\n",
       "      <td>E</td>\n",
       "      <td>20.14</td>\n",
       "    </tr>\n",
       "    <tr>\n",
       "      <th>20</th>\n",
       "      <td>20</td>\n",
       "      <td>Pokemon Diamond/Pokemon Pearl</td>\n",
       "      <td>DS</td>\n",
       "      <td>2006.0</td>\n",
       "      <td>Role-Playing</td>\n",
       "      <td>6.38</td>\n",
       "      <td>4.46</td>\n",
       "      <td>6.04</td>\n",
       "      <td>1.36</td>\n",
       "      <td>NaN</td>\n",
       "      <td>NaN</td>\n",
       "      <td>Нет рейтинга</td>\n",
       "      <td>18.24</td>\n",
       "    </tr>\n",
       "    <tr>\n",
       "      <th>21</th>\n",
       "      <td>21</td>\n",
       "      <td>Super Mario Land</td>\n",
       "      <td>GB</td>\n",
       "      <td>1989.0</td>\n",
       "      <td>Platform</td>\n",
       "      <td>10.83</td>\n",
       "      <td>2.71</td>\n",
       "      <td>4.18</td>\n",
       "      <td>0.42</td>\n",
       "      <td>NaN</td>\n",
       "      <td>NaN</td>\n",
       "      <td>Нет рейтинга</td>\n",
       "      <td>18.14</td>\n",
       "    </tr>\n",
       "    <tr>\n",
       "      <th>22</th>\n",
       "      <td>22</td>\n",
       "      <td>Super Mario Bros. 3</td>\n",
       "      <td>NES</td>\n",
       "      <td>1988.0</td>\n",
       "      <td>Platform</td>\n",
       "      <td>9.54</td>\n",
       "      <td>3.44</td>\n",
       "      <td>3.84</td>\n",
       "      <td>0.46</td>\n",
       "      <td>NaN</td>\n",
       "      <td>NaN</td>\n",
       "      <td>Нет рейтинга</td>\n",
       "      <td>17.28</td>\n",
       "    </tr>\n",
       "    <tr>\n",
       "      <th>23</th>\n",
       "      <td>23</td>\n",
       "      <td>Grand Theft Auto V</td>\n",
       "      <td>X360</td>\n",
       "      <td>2013.0</td>\n",
       "      <td>Action</td>\n",
       "      <td>9.66</td>\n",
       "      <td>5.14</td>\n",
       "      <td>0.06</td>\n",
       "      <td>1.41</td>\n",
       "      <td>97.0</td>\n",
       "      <td>8.1</td>\n",
       "      <td>M</td>\n",
       "      <td>16.27</td>\n",
       "    </tr>\n",
       "    <tr>\n",
       "      <th>24</th>\n",
       "      <td>24</td>\n",
       "      <td>Grand Theft Auto: Vice City</td>\n",
       "      <td>PS2</td>\n",
       "      <td>2002.0</td>\n",
       "      <td>Action</td>\n",
       "      <td>8.41</td>\n",
       "      <td>5.49</td>\n",
       "      <td>0.47</td>\n",
       "      <td>1.78</td>\n",
       "      <td>95.0</td>\n",
       "      <td>8.7</td>\n",
       "      <td>M</td>\n",
       "      <td>16.15</td>\n",
       "    </tr>\n",
       "    <tr>\n",
       "      <th>25</th>\n",
       "      <td>25</td>\n",
       "      <td>Pokemon Ruby/Pokemon Sapphire</td>\n",
       "      <td>GBA</td>\n",
       "      <td>2002.0</td>\n",
       "      <td>Role-Playing</td>\n",
       "      <td>6.06</td>\n",
       "      <td>3.90</td>\n",
       "      <td>5.38</td>\n",
       "      <td>0.50</td>\n",
       "      <td>NaN</td>\n",
       "      <td>NaN</td>\n",
       "      <td>Нет рейтинга</td>\n",
       "      <td>15.84</td>\n",
       "    </tr>\n",
       "    <tr>\n",
       "      <th>26</th>\n",
       "      <td>26</td>\n",
       "      <td>Brain Age 2: More Training in Minutes a Day</td>\n",
       "      <td>DS</td>\n",
       "      <td>2005.0</td>\n",
       "      <td>Puzzle</td>\n",
       "      <td>3.43</td>\n",
       "      <td>5.35</td>\n",
       "      <td>5.32</td>\n",
       "      <td>1.18</td>\n",
       "      <td>77.0</td>\n",
       "      <td>7.1</td>\n",
       "      <td>E</td>\n",
       "      <td>15.28</td>\n",
       "    </tr>\n",
       "    <tr>\n",
       "      <th>27</th>\n",
       "      <td>27</td>\n",
       "      <td>Pokemon Black/Pokemon White</td>\n",
       "      <td>DS</td>\n",
       "      <td>2010.0</td>\n",
       "      <td>Role-Playing</td>\n",
       "      <td>5.51</td>\n",
       "      <td>3.17</td>\n",
       "      <td>5.65</td>\n",
       "      <td>0.80</td>\n",
       "      <td>NaN</td>\n",
       "      <td>NaN</td>\n",
       "      <td>Нет рейтинга</td>\n",
       "      <td>15.13</td>\n",
       "    </tr>\n",
       "    <tr>\n",
       "      <th>28</th>\n",
       "      <td>28</td>\n",
       "      <td>Gran Turismo 3: A-Spec</td>\n",
       "      <td>PS2</td>\n",
       "      <td>2001.0</td>\n",
       "      <td>Racing</td>\n",
       "      <td>6.85</td>\n",
       "      <td>5.09</td>\n",
       "      <td>1.87</td>\n",
       "      <td>1.16</td>\n",
       "      <td>95.0</td>\n",
       "      <td>8.4</td>\n",
       "      <td>E</td>\n",
       "      <td>14.97</td>\n",
       "    </tr>\n",
       "    <tr>\n",
       "      <th>29</th>\n",
       "      <td>29</td>\n",
       "      <td>Call of Duty: Modern Warfare 3</td>\n",
       "      <td>X360</td>\n",
       "      <td>2011.0</td>\n",
       "      <td>Shooter</td>\n",
       "      <td>9.04</td>\n",
       "      <td>4.24</td>\n",
       "      <td>0.13</td>\n",
       "      <td>1.32</td>\n",
       "      <td>88.0</td>\n",
       "      <td>3.4</td>\n",
       "      <td>M</td>\n",
       "      <td>14.73</td>\n",
       "    </tr>\n",
       "  </tbody>\n",
       "</table>\n",
       "</div>"
      ],
      "text/plain": [
       "    index                                          name platform  \\\n",
       "0       0                                    Wii Sports      Wii   \n",
       "1       1                             Super Mario Bros.      NES   \n",
       "2       2                                Mario Kart Wii      Wii   \n",
       "3       3                             Wii Sports Resort      Wii   \n",
       "4       4                      Pokemon Red/Pokemon Blue       GB   \n",
       "5       5                                        Tetris       GB   \n",
       "6       6                         New Super Mario Bros.       DS   \n",
       "7       7                                      Wii Play      Wii   \n",
       "8       8                     New Super Mario Bros. Wii      Wii   \n",
       "9       9                                     Duck Hunt      NES   \n",
       "10     10                                    Nintendogs       DS   \n",
       "11     11                                 Mario Kart DS       DS   \n",
       "12     12                   Pokemon Gold/Pokemon Silver       GB   \n",
       "13     13                                       Wii Fit      Wii   \n",
       "14     14                            Kinect Adventures!     X360   \n",
       "15     15                                  Wii Fit Plus      Wii   \n",
       "16     16                            Grand Theft Auto V      PS3   \n",
       "17     17                 Grand Theft Auto: San Andreas      PS2   \n",
       "18     18                             Super Mario World     SNES   \n",
       "19     19  Brain Age: Train Your Brain in Minutes a Day       DS   \n",
       "20     20                 Pokemon Diamond/Pokemon Pearl       DS   \n",
       "21     21                              Super Mario Land       GB   \n",
       "22     22                           Super Mario Bros. 3      NES   \n",
       "23     23                            Grand Theft Auto V     X360   \n",
       "24     24                   Grand Theft Auto: Vice City      PS2   \n",
       "25     25                 Pokemon Ruby/Pokemon Sapphire      GBA   \n",
       "26     26   Brain Age 2: More Training in Minutes a Day       DS   \n",
       "27     27                   Pokemon Black/Pokemon White       DS   \n",
       "28     28                        Gran Turismo 3: A-Spec      PS2   \n",
       "29     29                Call of Duty: Modern Warfare 3     X360   \n",
       "\n",
       "    year_of_release         genre  na_sales  eu_sales  jp_sales  other_sales  \\\n",
       "0            2006.0        Sports     41.36     28.96      3.77         8.45   \n",
       "1            1985.0      Platform     29.08      3.58      6.81         0.77   \n",
       "2            2008.0        Racing     15.68     12.76      3.79         3.29   \n",
       "3            2009.0        Sports     15.61     10.93      3.28         2.95   \n",
       "4            1996.0  Role-Playing     11.27      8.89     10.22         1.00   \n",
       "5            1989.0        Puzzle     23.20      2.26      4.22         0.58   \n",
       "6            2006.0      Platform     11.28      9.14      6.50         2.88   \n",
       "7            2006.0          Misc     13.96      9.18      2.93         2.84   \n",
       "8            2009.0      Platform     14.44      6.94      4.70         2.24   \n",
       "9            1984.0       Shooter     26.93      0.63      0.28         0.47   \n",
       "10           2005.0    Simulation      9.05     10.95      1.93         2.74   \n",
       "11           2005.0        Racing      9.71      7.47      4.13         1.90   \n",
       "12           1999.0  Role-Playing      9.00      6.18      7.20         0.71   \n",
       "13           2007.0        Sports      8.92      8.03      3.60         2.15   \n",
       "14           2010.0          Misc     15.00      4.89      0.24         1.69   \n",
       "15           2009.0        Sports      9.01      8.49      2.53         1.77   \n",
       "16           2013.0        Action      7.02      9.09      0.98         3.96   \n",
       "17           2004.0        Action      9.43      0.40      0.41        10.57   \n",
       "18           1990.0      Platform     12.78      3.75      3.54         0.55   \n",
       "19           2005.0          Misc      4.74      9.20      4.16         2.04   \n",
       "20           2006.0  Role-Playing      6.38      4.46      6.04         1.36   \n",
       "21           1989.0      Platform     10.83      2.71      4.18         0.42   \n",
       "22           1988.0      Platform      9.54      3.44      3.84         0.46   \n",
       "23           2013.0        Action      9.66      5.14      0.06         1.41   \n",
       "24           2002.0        Action      8.41      5.49      0.47         1.78   \n",
       "25           2002.0  Role-Playing      6.06      3.90      5.38         0.50   \n",
       "26           2005.0        Puzzle      3.43      5.35      5.32         1.18   \n",
       "27           2010.0  Role-Playing      5.51      3.17      5.65         0.80   \n",
       "28           2001.0        Racing      6.85      5.09      1.87         1.16   \n",
       "29           2011.0       Shooter      9.04      4.24      0.13         1.32   \n",
       "\n",
       "    critic_score  user_score        rating  sales  \n",
       "0           76.0         8.0             E  82.54  \n",
       "1            NaN         NaN  Нет рейтинга  40.24  \n",
       "2           82.0         8.3             E  35.52  \n",
       "3           80.0         8.0             E  32.77  \n",
       "4            NaN         NaN  Нет рейтинга  31.38  \n",
       "5            NaN         NaN  Нет рейтинга  30.26  \n",
       "6           89.0         8.5             E  29.80  \n",
       "7           58.0         6.6             E  28.91  \n",
       "8           87.0         8.4             E  28.32  \n",
       "9            NaN         NaN  Нет рейтинга  28.31  \n",
       "10           NaN         NaN  Нет рейтинга  24.67  \n",
       "11          91.0         8.6             E  23.21  \n",
       "12           NaN         NaN  Нет рейтинга  23.09  \n",
       "13          80.0         7.7             E  22.70  \n",
       "14          61.0         6.3             E  21.82  \n",
       "15          80.0         7.4             E  21.80  \n",
       "16          97.0         8.2             M  21.05  \n",
       "17          95.0         9.0             M  20.81  \n",
       "18           NaN         NaN  Нет рейтинга  20.62  \n",
       "19          77.0         7.9             E  20.14  \n",
       "20           NaN         NaN  Нет рейтинга  18.24  \n",
       "21           NaN         NaN  Нет рейтинга  18.14  \n",
       "22           NaN         NaN  Нет рейтинга  17.28  \n",
       "23          97.0         8.1             M  16.27  \n",
       "24          95.0         8.7             M  16.15  \n",
       "25           NaN         NaN  Нет рейтинга  15.84  \n",
       "26          77.0         7.1             E  15.28  \n",
       "27           NaN         NaN  Нет рейтинга  15.13  \n",
       "28          95.0         8.4             E  14.97  \n",
       "29          88.0         3.4             M  14.73  "
      ]
     },
     "execution_count": 23,
     "metadata": {},
     "output_type": "execute_result"
    }
   ],
   "source": [
    "data.head(30)"
   ]
  },
  {
   "cell_type": "code",
   "execution_count": 24,
   "id": "c90e76b7",
   "metadata": {},
   "outputs": [
    {
     "name": "stdout",
     "output_type": "stream",
     "text": [
      "<class 'pandas.core.frame.DataFrame'>\n",
      "RangeIndex: 16712 entries, 0 to 16711\n",
      "Data columns (total 13 columns):\n",
      " #   Column           Non-Null Count  Dtype  \n",
      "---  ------           --------------  -----  \n",
      " 0   index            16712 non-null  int64  \n",
      " 1   name             16712 non-null  object \n",
      " 2   platform         16712 non-null  object \n",
      " 3   year_of_release  16443 non-null  float64\n",
      " 4   genre            16712 non-null  object \n",
      " 5   na_sales         16712 non-null  float64\n",
      " 6   eu_sales         16712 non-null  float64\n",
      " 7   jp_sales         16712 non-null  float64\n",
      " 8   other_sales      16712 non-null  float64\n",
      " 9   critic_score     8136 non-null   float64\n",
      " 10  user_score       7589 non-null   float64\n",
      " 11  rating           16712 non-null  object \n",
      " 12  sales            16712 non-null  float64\n",
      "dtypes: float64(8), int64(1), object(4)\n",
      "memory usage: 1.7+ MB\n"
     ]
    }
   ],
   "source": [
    "data.info()"
   ]
  },
  {
   "cell_type": "markdown",
   "id": "6142adc6",
   "metadata": {},
   "source": [
    "Изменим тип данных. В столбце year_of_release изменю на object, т.к. здесь нет смысла искать среднее значение, дисперсию и тд. "
   ]
  },
  {
   "cell_type": "code",
   "execution_count": 25,
   "id": "ad12aca2",
   "metadata": {},
   "outputs": [],
   "source": [
    "data['year_of_release']=data['year_of_release'].astype('object')"
   ]
  },
  {
   "cell_type": "code",
   "execution_count": 26,
   "id": "6bb7ce4a",
   "metadata": {},
   "outputs": [
    {
     "name": "stdout",
     "output_type": "stream",
     "text": [
      "<class 'pandas.core.frame.DataFrame'>\n",
      "RangeIndex: 16712 entries, 0 to 16711\n",
      "Data columns (total 13 columns):\n",
      " #   Column           Non-Null Count  Dtype  \n",
      "---  ------           --------------  -----  \n",
      " 0   index            16712 non-null  int64  \n",
      " 1   name             16712 non-null  object \n",
      " 2   platform         16712 non-null  object \n",
      " 3   year_of_release  16443 non-null  object \n",
      " 4   genre            16712 non-null  object \n",
      " 5   na_sales         16712 non-null  float64\n",
      " 6   eu_sales         16712 non-null  float64\n",
      " 7   jp_sales         16712 non-null  float64\n",
      " 8   other_sales      16712 non-null  float64\n",
      " 9   critic_score     8136 non-null   float64\n",
      " 10  user_score       7589 non-null   float64\n",
      " 11  rating           16712 non-null  object \n",
      " 12  sales            16712 non-null  float64\n",
      "dtypes: float64(7), int64(1), object(5)\n",
      "memory usage: 1.7+ MB\n"
     ]
    }
   ],
   "source": [
    "data.info()"
   ]
  },
  {
   "cell_type": "code",
   "execution_count": 27,
   "id": "9c910ce2",
   "metadata": {},
   "outputs": [
    {
     "data": {
      "text/html": [
       "<div>\n",
       "<style scoped>\n",
       "    .dataframe tbody tr th:only-of-type {\n",
       "        vertical-align: middle;\n",
       "    }\n",
       "\n",
       "    .dataframe tbody tr th {\n",
       "        vertical-align: top;\n",
       "    }\n",
       "\n",
       "    .dataframe thead th {\n",
       "        text-align: right;\n",
       "    }\n",
       "</style>\n",
       "<table border=\"1\" class=\"dataframe\">\n",
       "  <thead>\n",
       "    <tr style=\"text-align: right;\">\n",
       "      <th></th>\n",
       "      <th>index</th>\n",
       "      <th>name</th>\n",
       "      <th>platform</th>\n",
       "      <th>year_of_release</th>\n",
       "      <th>genre</th>\n",
       "      <th>na_sales</th>\n",
       "      <th>eu_sales</th>\n",
       "      <th>jp_sales</th>\n",
       "      <th>other_sales</th>\n",
       "      <th>critic_score</th>\n",
       "      <th>user_score</th>\n",
       "      <th>rating</th>\n",
       "      <th>sales</th>\n",
       "    </tr>\n",
       "  </thead>\n",
       "  <tbody>\n",
       "    <tr>\n",
       "      <th>0</th>\n",
       "      <td>0</td>\n",
       "      <td>Wii Sports</td>\n",
       "      <td>Wii</td>\n",
       "      <td>2006.0</td>\n",
       "      <td>Sports</td>\n",
       "      <td>41.36</td>\n",
       "      <td>28.96</td>\n",
       "      <td>3.77</td>\n",
       "      <td>8.45</td>\n",
       "      <td>76.0</td>\n",
       "      <td>8.0</td>\n",
       "      <td>E</td>\n",
       "      <td>82.54</td>\n",
       "    </tr>\n",
       "    <tr>\n",
       "      <th>1</th>\n",
       "      <td>1</td>\n",
       "      <td>Super Mario Bros.</td>\n",
       "      <td>NES</td>\n",
       "      <td>1985.0</td>\n",
       "      <td>Platform</td>\n",
       "      <td>29.08</td>\n",
       "      <td>3.58</td>\n",
       "      <td>6.81</td>\n",
       "      <td>0.77</td>\n",
       "      <td>NaN</td>\n",
       "      <td>NaN</td>\n",
       "      <td>Нет рейтинга</td>\n",
       "      <td>40.24</td>\n",
       "    </tr>\n",
       "    <tr>\n",
       "      <th>2</th>\n",
       "      <td>2</td>\n",
       "      <td>Mario Kart Wii</td>\n",
       "      <td>Wii</td>\n",
       "      <td>2008.0</td>\n",
       "      <td>Racing</td>\n",
       "      <td>15.68</td>\n",
       "      <td>12.76</td>\n",
       "      <td>3.79</td>\n",
       "      <td>3.29</td>\n",
       "      <td>82.0</td>\n",
       "      <td>8.3</td>\n",
       "      <td>E</td>\n",
       "      <td>35.52</td>\n",
       "    </tr>\n",
       "    <tr>\n",
       "      <th>3</th>\n",
       "      <td>3</td>\n",
       "      <td>Wii Sports Resort</td>\n",
       "      <td>Wii</td>\n",
       "      <td>2009.0</td>\n",
       "      <td>Sports</td>\n",
       "      <td>15.61</td>\n",
       "      <td>10.93</td>\n",
       "      <td>3.28</td>\n",
       "      <td>2.95</td>\n",
       "      <td>80.0</td>\n",
       "      <td>8.0</td>\n",
       "      <td>E</td>\n",
       "      <td>32.77</td>\n",
       "    </tr>\n",
       "    <tr>\n",
       "      <th>4</th>\n",
       "      <td>4</td>\n",
       "      <td>Pokemon Red/Pokemon Blue</td>\n",
       "      <td>GB</td>\n",
       "      <td>1996.0</td>\n",
       "      <td>Role-Playing</td>\n",
       "      <td>11.27</td>\n",
       "      <td>8.89</td>\n",
       "      <td>10.22</td>\n",
       "      <td>1.00</td>\n",
       "      <td>NaN</td>\n",
       "      <td>NaN</td>\n",
       "      <td>Нет рейтинга</td>\n",
       "      <td>31.38</td>\n",
       "    </tr>\n",
       "  </tbody>\n",
       "</table>\n",
       "</div>"
      ],
      "text/plain": [
       "   index                      name platform year_of_release         genre  \\\n",
       "0      0                Wii Sports      Wii          2006.0        Sports   \n",
       "1      1         Super Mario Bros.      NES          1985.0      Platform   \n",
       "2      2            Mario Kart Wii      Wii          2008.0        Racing   \n",
       "3      3         Wii Sports Resort      Wii          2009.0        Sports   \n",
       "4      4  Pokemon Red/Pokemon Blue       GB          1996.0  Role-Playing   \n",
       "\n",
       "   na_sales  eu_sales  jp_sales  other_sales  critic_score  user_score  \\\n",
       "0     41.36     28.96      3.77         8.45          76.0         8.0   \n",
       "1     29.08      3.58      6.81         0.77           NaN         NaN   \n",
       "2     15.68     12.76      3.79         3.29          82.0         8.3   \n",
       "3     15.61     10.93      3.28         2.95          80.0         8.0   \n",
       "4     11.27      8.89     10.22         1.00           NaN         NaN   \n",
       "\n",
       "         rating  sales  \n",
       "0             E  82.54  \n",
       "1  Нет рейтинга  40.24  \n",
       "2             E  35.52  \n",
       "3             E  32.77  \n",
       "4  Нет рейтинга  31.38  "
      ]
     },
     "execution_count": 27,
     "metadata": {},
     "output_type": "execute_result"
    }
   ],
   "source": [
    "data.head()"
   ]
  },
  {
   "cell_type": "code",
   "execution_count": 28,
   "id": "74040b6d",
   "metadata": {},
   "outputs": [
    {
     "data": {
      "text/html": [
       "<div>\n",
       "<style scoped>\n",
       "    .dataframe tbody tr th:only-of-type {\n",
       "        vertical-align: middle;\n",
       "    }\n",
       "\n",
       "    .dataframe tbody tr th {\n",
       "        vertical-align: top;\n",
       "    }\n",
       "\n",
       "    .dataframe thead th {\n",
       "        text-align: right;\n",
       "    }\n",
       "</style>\n",
       "<table border=\"1\" class=\"dataframe\">\n",
       "  <thead>\n",
       "    <tr style=\"text-align: right;\">\n",
       "      <th></th>\n",
       "      <th>index</th>\n",
       "      <th>na_sales</th>\n",
       "      <th>eu_sales</th>\n",
       "      <th>jp_sales</th>\n",
       "      <th>other_sales</th>\n",
       "      <th>critic_score</th>\n",
       "      <th>user_score</th>\n",
       "      <th>sales</th>\n",
       "    </tr>\n",
       "  </thead>\n",
       "  <tbody>\n",
       "    <tr>\n",
       "      <th>count</th>\n",
       "      <td>16712.000000</td>\n",
       "      <td>16712.000000</td>\n",
       "      <td>16712.000000</td>\n",
       "      <td>16712.000000</td>\n",
       "      <td>16712.000000</td>\n",
       "      <td>8136.000000</td>\n",
       "      <td>7589.000000</td>\n",
       "      <td>16712.000000</td>\n",
       "    </tr>\n",
       "    <tr>\n",
       "      <th>mean</th>\n",
       "      <td>8356.637267</td>\n",
       "      <td>0.263318</td>\n",
       "      <td>0.145053</td>\n",
       "      <td>0.077629</td>\n",
       "      <td>0.047346</td>\n",
       "      <td>68.965954</td>\n",
       "      <td>7.125260</td>\n",
       "      <td>0.533346</td>\n",
       "    </tr>\n",
       "    <tr>\n",
       "      <th>std</th>\n",
       "      <td>4824.815611</td>\n",
       "      <td>0.813587</td>\n",
       "      <td>0.503373</td>\n",
       "      <td>0.308880</td>\n",
       "      <td>0.186747</td>\n",
       "      <td>13.938153</td>\n",
       "      <td>1.499989</td>\n",
       "      <td>1.548323</td>\n",
       "    </tr>\n",
       "    <tr>\n",
       "      <th>min</th>\n",
       "      <td>0.000000</td>\n",
       "      <td>0.000000</td>\n",
       "      <td>0.000000</td>\n",
       "      <td>0.000000</td>\n",
       "      <td>0.000000</td>\n",
       "      <td>13.000000</td>\n",
       "      <td>0.000000</td>\n",
       "      <td>0.000000</td>\n",
       "    </tr>\n",
       "    <tr>\n",
       "      <th>25%</th>\n",
       "      <td>4178.750000</td>\n",
       "      <td>0.000000</td>\n",
       "      <td>0.000000</td>\n",
       "      <td>0.000000</td>\n",
       "      <td>0.000000</td>\n",
       "      <td>60.000000</td>\n",
       "      <td>6.400000</td>\n",
       "      <td>0.060000</td>\n",
       "    </tr>\n",
       "    <tr>\n",
       "      <th>50%</th>\n",
       "      <td>8356.500000</td>\n",
       "      <td>0.080000</td>\n",
       "      <td>0.020000</td>\n",
       "      <td>0.000000</td>\n",
       "      <td>0.010000</td>\n",
       "      <td>71.000000</td>\n",
       "      <td>7.500000</td>\n",
       "      <td>0.170000</td>\n",
       "    </tr>\n",
       "    <tr>\n",
       "      <th>75%</th>\n",
       "      <td>12534.250000</td>\n",
       "      <td>0.240000</td>\n",
       "      <td>0.110000</td>\n",
       "      <td>0.040000</td>\n",
       "      <td>0.030000</td>\n",
       "      <td>79.000000</td>\n",
       "      <td>8.200000</td>\n",
       "      <td>0.470000</td>\n",
       "    </tr>\n",
       "    <tr>\n",
       "      <th>max</th>\n",
       "      <td>16714.000000</td>\n",
       "      <td>41.360000</td>\n",
       "      <td>28.960000</td>\n",
       "      <td>10.220000</td>\n",
       "      <td>10.570000</td>\n",
       "      <td>98.000000</td>\n",
       "      <td>9.700000</td>\n",
       "      <td>82.540000</td>\n",
       "    </tr>\n",
       "  </tbody>\n",
       "</table>\n",
       "</div>"
      ],
      "text/plain": [
       "              index      na_sales      eu_sales      jp_sales   other_sales  \\\n",
       "count  16712.000000  16712.000000  16712.000000  16712.000000  16712.000000   \n",
       "mean    8356.637267      0.263318      0.145053      0.077629      0.047346   \n",
       "std     4824.815611      0.813587      0.503373      0.308880      0.186747   \n",
       "min        0.000000      0.000000      0.000000      0.000000      0.000000   \n",
       "25%     4178.750000      0.000000      0.000000      0.000000      0.000000   \n",
       "50%     8356.500000      0.080000      0.020000      0.000000      0.010000   \n",
       "75%    12534.250000      0.240000      0.110000      0.040000      0.030000   \n",
       "max    16714.000000     41.360000     28.960000     10.220000     10.570000   \n",
       "\n",
       "       critic_score   user_score         sales  \n",
       "count   8136.000000  7589.000000  16712.000000  \n",
       "mean      68.965954     7.125260      0.533346  \n",
       "std       13.938153     1.499989      1.548323  \n",
       "min       13.000000     0.000000      0.000000  \n",
       "25%       60.000000     6.400000      0.060000  \n",
       "50%       71.000000     7.500000      0.170000  \n",
       "75%       79.000000     8.200000      0.470000  \n",
       "max       98.000000     9.700000     82.540000  "
      ]
     },
     "execution_count": 28,
     "metadata": {},
     "output_type": "execute_result"
    }
   ],
   "source": [
    "data.describe()"
   ]
  },
  {
   "cell_type": "markdown",
   "id": "f830836a",
   "metadata": {},
   "source": [
    "## Исследовательский анализ данных"
   ]
  },
  {
   "cell_type": "code",
   "execution_count": 29,
   "id": "c51cbbe0",
   "metadata": {},
   "outputs": [
    {
     "data": {
      "text/plain": [
       "<AxesSubplot:>"
      ]
     },
     "execution_count": 29,
     "metadata": {},
     "output_type": "execute_result"
    },
    {
     "data": {
      "image/png": "[encoded data removed]",
      "text/plain": [
       "<Figure size 936x648 with 1 Axes>"
      ]
     },
     "metadata": {
      "needs_background": "light"
     },
     "output_type": "display_data"
    }
   ],
   "source": [
    "#Построение графика количества игр по годам\n",
    "data['year_of_release'].value_counts(sort=False).plot.bar(figsize=(13,9))"
   ]
  },
  {
   "cell_type": "markdown",
   "id": "271dd211",
   "metadata": {},
   "source": [
    "Данные за все периоды не важны. Количество игр превосходит отметку 700 игр с 2002 по 2012 год(В 2008 и 2009 годах находится на пиковом значении - больше 1400 игр). С 2012 года количество игр держится в районе 600 игр."
   ]
  },
  {
   "cell_type": "markdown",
   "id": "9ee65edf",
   "metadata": {},
   "source": [
    "<div class=\"alert alert-danger\" style=\"border-radius: 15px; box-shadow: 4px 4px 4px;border: 1px solid \">\n",
    "<b> Комментарий ревьюера  ❌</b> \n",
    "    \n",
    "\n",
    "Что еще можно сказать про распределение? Попробуй построить график, так значения легче сравнивать.</div>\n",
    "<div class=\"alert alert-success\" style=\"border-radius: 15px; box-shadow: 4px 4px 4px; border: 1px solid \">\n",
    "<b> Комментарий ревьюера  2 ✔️</b>\n",
    "    \n",
    "Отличная визуализация.    \n",
    "   \n",
    "</div>\n"
   ]
  },
  {
   "cell_type": "markdown",
   "id": "afe6cf02",
   "metadata": {},
   "source": [
    "<div class=\"alert alert-block alert-info\">\n",
    "<b>Комментарий студента:</b> Исправил.</div>"
   ]
  },
  {
   "cell_type": "code",
   "execution_count": 30,
   "id": "287dc9b4",
   "metadata": {},
   "outputs": [
    {
     "data": {
      "text/html": [
       "<div>\n",
       "<style scoped>\n",
       "    .dataframe tbody tr th:only-of-type {\n",
       "        vertical-align: middle;\n",
       "    }\n",
       "\n",
       "    .dataframe tbody tr th {\n",
       "        vertical-align: top;\n",
       "    }\n",
       "\n",
       "    .dataframe thead th {\n",
       "        text-align: right;\n",
       "    }\n",
       "</style>\n",
       "<table border=\"1\" class=\"dataframe\">\n",
       "  <thead>\n",
       "    <tr style=\"text-align: right;\">\n",
       "      <th></th>\n",
       "      <th>index</th>\n",
       "      <th>name</th>\n",
       "      <th>platform</th>\n",
       "      <th>year_of_release</th>\n",
       "      <th>genre</th>\n",
       "      <th>na_sales</th>\n",
       "      <th>eu_sales</th>\n",
       "      <th>jp_sales</th>\n",
       "      <th>other_sales</th>\n",
       "      <th>critic_score</th>\n",
       "      <th>user_score</th>\n",
       "      <th>rating</th>\n",
       "      <th>sales</th>\n",
       "    </tr>\n",
       "  </thead>\n",
       "  <tbody>\n",
       "    <tr>\n",
       "      <th>0</th>\n",
       "      <td>0</td>\n",
       "      <td>Wii Sports</td>\n",
       "      <td>Wii</td>\n",
       "      <td>2006.0</td>\n",
       "      <td>Sports</td>\n",
       "      <td>41.36</td>\n",
       "      <td>28.96</td>\n",
       "      <td>3.77</td>\n",
       "      <td>8.45</td>\n",
       "      <td>76.0</td>\n",
       "      <td>8.0</td>\n",
       "      <td>E</td>\n",
       "      <td>82.54</td>\n",
       "    </tr>\n",
       "    <tr>\n",
       "      <th>1</th>\n",
       "      <td>1</td>\n",
       "      <td>Super Mario Bros.</td>\n",
       "      <td>NES</td>\n",
       "      <td>1985.0</td>\n",
       "      <td>Platform</td>\n",
       "      <td>29.08</td>\n",
       "      <td>3.58</td>\n",
       "      <td>6.81</td>\n",
       "      <td>0.77</td>\n",
       "      <td>NaN</td>\n",
       "      <td>NaN</td>\n",
       "      <td>Нет рейтинга</td>\n",
       "      <td>40.24</td>\n",
       "    </tr>\n",
       "    <tr>\n",
       "      <th>2</th>\n",
       "      <td>2</td>\n",
       "      <td>Mario Kart Wii</td>\n",
       "      <td>Wii</td>\n",
       "      <td>2008.0</td>\n",
       "      <td>Racing</td>\n",
       "      <td>15.68</td>\n",
       "      <td>12.76</td>\n",
       "      <td>3.79</td>\n",
       "      <td>3.29</td>\n",
       "      <td>82.0</td>\n",
       "      <td>8.3</td>\n",
       "      <td>E</td>\n",
       "      <td>35.52</td>\n",
       "    </tr>\n",
       "    <tr>\n",
       "      <th>3</th>\n",
       "      <td>3</td>\n",
       "      <td>Wii Sports Resort</td>\n",
       "      <td>Wii</td>\n",
       "      <td>2009.0</td>\n",
       "      <td>Sports</td>\n",
       "      <td>15.61</td>\n",
       "      <td>10.93</td>\n",
       "      <td>3.28</td>\n",
       "      <td>2.95</td>\n",
       "      <td>80.0</td>\n",
       "      <td>8.0</td>\n",
       "      <td>E</td>\n",
       "      <td>32.77</td>\n",
       "    </tr>\n",
       "    <tr>\n",
       "      <th>4</th>\n",
       "      <td>4</td>\n",
       "      <td>Pokemon Red/Pokemon Blue</td>\n",
       "      <td>GB</td>\n",
       "      <td>1996.0</td>\n",
       "      <td>Role-Playing</td>\n",
       "      <td>11.27</td>\n",
       "      <td>8.89</td>\n",
       "      <td>10.22</td>\n",
       "      <td>1.00</td>\n",
       "      <td>NaN</td>\n",
       "      <td>NaN</td>\n",
       "      <td>Нет рейтинга</td>\n",
       "      <td>31.38</td>\n",
       "    </tr>\n",
       "  </tbody>\n",
       "</table>\n",
       "</div>"
      ],
      "text/plain": [
       "   index                      name platform year_of_release         genre  \\\n",
       "0      0                Wii Sports      Wii          2006.0        Sports   \n",
       "1      1         Super Mario Bros.      NES          1985.0      Platform   \n",
       "2      2            Mario Kart Wii      Wii          2008.0        Racing   \n",
       "3      3         Wii Sports Resort      Wii          2009.0        Sports   \n",
       "4      4  Pokemon Red/Pokemon Blue       GB          1996.0  Role-Playing   \n",
       "\n",
       "   na_sales  eu_sales  jp_sales  other_sales  critic_score  user_score  \\\n",
       "0     41.36     28.96      3.77         8.45          76.0         8.0   \n",
       "1     29.08      3.58      6.81         0.77           NaN         NaN   \n",
       "2     15.68     12.76      3.79         3.29          82.0         8.3   \n",
       "3     15.61     10.93      3.28         2.95          80.0         8.0   \n",
       "4     11.27      8.89     10.22         1.00           NaN         NaN   \n",
       "\n",
       "         rating  sales  \n",
       "0             E  82.54  \n",
       "1  Нет рейтинга  40.24  \n",
       "2             E  35.52  \n",
       "3             E  32.77  \n",
       "4  Нет рейтинга  31.38  "
      ]
     },
     "execution_count": 30,
     "metadata": {},
     "output_type": "execute_result"
    }
   ],
   "source": [
    "#сортировка по суммарным продажам\n",
    "data=data.sort_values(by=['sales'],ascending=False)\n",
    "data.head()"
   ]
  },
  {
   "cell_type": "markdown",
   "id": "650a7159",
   "metadata": {},
   "source": [
    "Построим распределние платформы с наибольшими суммарными продажами:"
   ]
  },
  {
   "cell_type": "code",
   "execution_count": 31,
   "id": "11e4f21f",
   "metadata": {},
   "outputs": [
    {
     "data": {
      "text/html": [
       "<div>\n",
       "<style scoped>\n",
       "    .dataframe tbody tr th:only-of-type {\n",
       "        vertical-align: middle;\n",
       "    }\n",
       "\n",
       "    .dataframe tbody tr th {\n",
       "        vertical-align: top;\n",
       "    }\n",
       "\n",
       "    .dataframe thead th {\n",
       "        text-align: right;\n",
       "    }\n",
       "</style>\n",
       "<table border=\"1\" class=\"dataframe\">\n",
       "  <thead>\n",
       "    <tr style=\"text-align: right;\">\n",
       "      <th></th>\n",
       "      <th>index</th>\n",
       "      <th>na_sales</th>\n",
       "      <th>eu_sales</th>\n",
       "      <th>jp_sales</th>\n",
       "      <th>other_sales</th>\n",
       "      <th>critic_score</th>\n",
       "      <th>user_score</th>\n",
       "      <th>sales</th>\n",
       "    </tr>\n",
       "    <tr>\n",
       "      <th>platform</th>\n",
       "      <th></th>\n",
       "      <th></th>\n",
       "      <th></th>\n",
       "      <th></th>\n",
       "      <th></th>\n",
       "      <th></th>\n",
       "      <th></th>\n",
       "      <th></th>\n",
       "    </tr>\n",
       "  </thead>\n",
       "  <tbody>\n",
       "    <tr>\n",
       "      <th>PS2</th>\n",
       "      <td>16172946</td>\n",
       "      <td>583.84</td>\n",
       "      <td>339.29</td>\n",
       "      <td>139.20</td>\n",
       "      <td>193.44</td>\n",
       "      <td>89208.0</td>\n",
       "      <td>9464.9</td>\n",
       "      <td>1255.77</td>\n",
       "    </tr>\n",
       "    <tr>\n",
       "      <th>X360</th>\n",
       "      <td>8475905</td>\n",
       "      <td>602.47</td>\n",
       "      <td>270.76</td>\n",
       "      <td>12.43</td>\n",
       "      <td>85.76</td>\n",
       "      <td>62853.0</td>\n",
       "      <td>6456.3</td>\n",
       "      <td>971.42</td>\n",
       "    </tr>\n",
       "    <tr>\n",
       "      <th>PS3</th>\n",
       "      <td>9138857</td>\n",
       "      <td>393.49</td>\n",
       "      <td>330.28</td>\n",
       "      <td>80.19</td>\n",
       "      <td>135.68</td>\n",
       "      <td>57631.0</td>\n",
       "      <td>5893.7</td>\n",
       "      <td>939.64</td>\n",
       "    </tr>\n",
       "    <tr>\n",
       "      <th>Wii</th>\n",
       "      <td>10341104</td>\n",
       "      <td>496.90</td>\n",
       "      <td>262.21</td>\n",
       "      <td>69.33</td>\n",
       "      <td>79.07</td>\n",
       "      <td>36752.0</td>\n",
       "      <td>3775.9</td>\n",
       "      <td>907.51</td>\n",
       "    </tr>\n",
       "    <tr>\n",
       "      <th>DS</th>\n",
       "      <td>20889377</td>\n",
       "      <td>382.40</td>\n",
       "      <td>188.89</td>\n",
       "      <td>175.57</td>\n",
       "      <td>59.26</td>\n",
       "      <td>45717.0</td>\n",
       "      <td>3625.0</td>\n",
       "      <td>806.12</td>\n",
       "    </tr>\n",
       "    <tr>\n",
       "      <th>PS</th>\n",
       "      <td>8338279</td>\n",
       "      <td>336.52</td>\n",
       "      <td>213.61</td>\n",
       "      <td>139.82</td>\n",
       "      <td>40.91</td>\n",
       "      <td>14303.0</td>\n",
       "      <td>1274.2</td>\n",
       "      <td>730.86</td>\n",
       "    </tr>\n",
       "    <tr>\n",
       "      <th>GBA</th>\n",
       "      <td>7146047</td>\n",
       "      <td>187.54</td>\n",
       "      <td>75.25</td>\n",
       "      <td>47.33</td>\n",
       "      <td>7.73</td>\n",
       "      <td>29509.0</td>\n",
       "      <td>1957.6</td>\n",
       "      <td>317.85</td>\n",
       "    </tr>\n",
       "    <tr>\n",
       "      <th>PS4</th>\n",
       "      <td>3068787</td>\n",
       "      <td>108.74</td>\n",
       "      <td>141.09</td>\n",
       "      <td>15.96</td>\n",
       "      <td>48.35</td>\n",
       "      <td>18167.0</td>\n",
       "      <td>1734.3</td>\n",
       "      <td>314.14</td>\n",
       "    </tr>\n",
       "    <tr>\n",
       "      <th>PSP</th>\n",
       "      <td>12599155</td>\n",
       "      <td>109.17</td>\n",
       "      <td>66.68</td>\n",
       "      <td>76.78</td>\n",
       "      <td>41.42</td>\n",
       "      <td>31150.0</td>\n",
       "      <td>3043.1</td>\n",
       "      <td>294.05</td>\n",
       "    </tr>\n",
       "    <tr>\n",
       "      <th>PC</th>\n",
       "      <td>11176571</td>\n",
       "      <td>94.53</td>\n",
       "      <td>142.44</td>\n",
       "      <td>0.17</td>\n",
       "      <td>22.38</td>\n",
       "      <td>54289.0</td>\n",
       "      <td>5438.1</td>\n",
       "      <td>259.52</td>\n",
       "    </tr>\n",
       "    <tr>\n",
       "      <th>3DS</th>\n",
       "      <td>4768995</td>\n",
       "      <td>83.49</td>\n",
       "      <td>61.48</td>\n",
       "      <td>100.67</td>\n",
       "      <td>13.36</td>\n",
       "      <td>11273.0</td>\n",
       "      <td>1188.7</td>\n",
       "      <td>259.00</td>\n",
       "    </tr>\n",
       "    <tr>\n",
       "      <th>XB</th>\n",
       "      <td>7226606</td>\n",
       "      <td>186.69</td>\n",
       "      <td>60.95</td>\n",
       "      <td>1.38</td>\n",
       "      <td>8.72</td>\n",
       "      <td>50648.0</td>\n",
       "      <td>4395.3</td>\n",
       "      <td>257.74</td>\n",
       "    </tr>\n",
       "    <tr>\n",
       "      <th>GB</th>\n",
       "      <td>331974</td>\n",
       "      <td>114.32</td>\n",
       "      <td>47.82</td>\n",
       "      <td>85.12</td>\n",
       "      <td>8.20</td>\n",
       "      <td>0.0</td>\n",
       "      <td>0.0</td>\n",
       "      <td>255.46</td>\n",
       "    </tr>\n",
       "    <tr>\n",
       "      <th>NES</th>\n",
       "      <td>186552</td>\n",
       "      <td>125.94</td>\n",
       "      <td>21.15</td>\n",
       "      <td>98.65</td>\n",
       "      <td>5.31</td>\n",
       "      <td>0.0</td>\n",
       "      <td>0.0</td>\n",
       "      <td>251.05</td>\n",
       "    </tr>\n",
       "    <tr>\n",
       "      <th>N64</th>\n",
       "      <td>2082173</td>\n",
       "      <td>139.02</td>\n",
       "      <td>41.06</td>\n",
       "      <td>34.22</td>\n",
       "      <td>4.38</td>\n",
       "      <td>0.0</td>\n",
       "      <td>0.0</td>\n",
       "      <td>218.68</td>\n",
       "    </tr>\n",
       "    <tr>\n",
       "      <th>SNES</th>\n",
       "      <td>1516672</td>\n",
       "      <td>61.23</td>\n",
       "      <td>19.04</td>\n",
       "      <td>116.55</td>\n",
       "      <td>3.22</td>\n",
       "      <td>0.0</td>\n",
       "      <td>0.0</td>\n",
       "      <td>200.04</td>\n",
       "    </tr>\n",
       "    <tr>\n",
       "      <th>GC</th>\n",
       "      <td>4821861</td>\n",
       "      <td>133.46</td>\n",
       "      <td>38.71</td>\n",
       "      <td>21.58</td>\n",
       "      <td>5.18</td>\n",
       "      <td>31131.0</td>\n",
       "      <td>2780.7</td>\n",
       "      <td>198.93</td>\n",
       "    </tr>\n",
       "    <tr>\n",
       "      <th>XOne</th>\n",
       "      <td>1910633</td>\n",
       "      <td>93.12</td>\n",
       "      <td>51.59</td>\n",
       "      <td>0.34</td>\n",
       "      <td>14.27</td>\n",
       "      <td>12392.0</td>\n",
       "      <td>1186.9</td>\n",
       "      <td>159.32</td>\n",
       "    </tr>\n",
       "    <tr>\n",
       "      <th>2600</th>\n",
       "      <td>583865</td>\n",
       "      <td>90.60</td>\n",
       "      <td>5.47</td>\n",
       "      <td>0.00</td>\n",
       "      <td>0.91</td>\n",
       "      <td>0.0</td>\n",
       "      <td>0.0</td>\n",
       "      <td>96.98</td>\n",
       "    </tr>\n",
       "    <tr>\n",
       "      <th>WiiU</th>\n",
       "      <td>1156008</td>\n",
       "      <td>38.10</td>\n",
       "      <td>25.13</td>\n",
       "      <td>13.01</td>\n",
       "      <td>5.95</td>\n",
       "      <td>6366.0</td>\n",
       "      <td>690.4</td>\n",
       "      <td>82.19</td>\n",
       "    </tr>\n",
       "    <tr>\n",
       "      <th>PSV</th>\n",
       "      <td>5128383</td>\n",
       "      <td>12.58</td>\n",
       "      <td>13.12</td>\n",
       "      <td>21.91</td>\n",
       "      <td>6.46</td>\n",
       "      <td>8495.0</td>\n",
       "      <td>1049.1</td>\n",
       "      <td>54.07</td>\n",
       "    </tr>\n",
       "    <tr>\n",
       "      <th>SAT</th>\n",
       "      <td>1615698</td>\n",
       "      <td>0.72</td>\n",
       "      <td>0.54</td>\n",
       "      <td>32.26</td>\n",
       "      <td>0.07</td>\n",
       "      <td>0.0</td>\n",
       "      <td>0.0</td>\n",
       "      <td>33.59</td>\n",
       "    </tr>\n",
       "    <tr>\n",
       "      <th>GEN</th>\n",
       "      <td>190283</td>\n",
       "      <td>19.27</td>\n",
       "      <td>5.52</td>\n",
       "      <td>2.67</td>\n",
       "      <td>0.89</td>\n",
       "      <td>0.0</td>\n",
       "      <td>0.0</td>\n",
       "      <td>28.35</td>\n",
       "    </tr>\n",
       "    <tr>\n",
       "      <th>DC</th>\n",
       "      <td>456400</td>\n",
       "      <td>5.43</td>\n",
       "      <td>1.69</td>\n",
       "      <td>8.56</td>\n",
       "      <td>0.27</td>\n",
       "      <td>1223.0</td>\n",
       "      <td>119.4</td>\n",
       "      <td>15.95</td>\n",
       "    </tr>\n",
       "    <tr>\n",
       "      <th>SCD</th>\n",
       "      <td>61163</td>\n",
       "      <td>1.00</td>\n",
       "      <td>0.36</td>\n",
       "      <td>0.45</td>\n",
       "      <td>0.05</td>\n",
       "      <td>0.0</td>\n",
       "      <td>0.0</td>\n",
       "      <td>1.86</td>\n",
       "    </tr>\n",
       "    <tr>\n",
       "      <th>NG</th>\n",
       "      <td>128225</td>\n",
       "      <td>0.00</td>\n",
       "      <td>0.00</td>\n",
       "      <td>1.44</td>\n",
       "      <td>0.00</td>\n",
       "      <td>0.0</td>\n",
       "      <td>0.0</td>\n",
       "      <td>1.44</td>\n",
       "    </tr>\n",
       "    <tr>\n",
       "      <th>WS</th>\n",
       "      <td>47243</td>\n",
       "      <td>0.00</td>\n",
       "      <td>0.00</td>\n",
       "      <td>1.42</td>\n",
       "      <td>0.00</td>\n",
       "      <td>0.0</td>\n",
       "      <td>0.0</td>\n",
       "      <td>1.42</td>\n",
       "    </tr>\n",
       "    <tr>\n",
       "      <th>TG16</th>\n",
       "      <td>24856</td>\n",
       "      <td>0.00</td>\n",
       "      <td>0.00</td>\n",
       "      <td>0.16</td>\n",
       "      <td>0.00</td>\n",
       "      <td>0.0</td>\n",
       "      <td>0.0</td>\n",
       "      <td>0.16</td>\n",
       "    </tr>\n",
       "    <tr>\n",
       "      <th>3DO</th>\n",
       "      <td>43299</td>\n",
       "      <td>0.00</td>\n",
       "      <td>0.00</td>\n",
       "      <td>0.10</td>\n",
       "      <td>0.00</td>\n",
       "      <td>0.0</td>\n",
       "      <td>0.0</td>\n",
       "      <td>0.10</td>\n",
       "    </tr>\n",
       "    <tr>\n",
       "      <th>GG</th>\n",
       "      <td>13571</td>\n",
       "      <td>0.00</td>\n",
       "      <td>0.00</td>\n",
       "      <td>0.04</td>\n",
       "      <td>0.00</td>\n",
       "      <td>0.0</td>\n",
       "      <td>0.0</td>\n",
       "      <td>0.04</td>\n",
       "    </tr>\n",
       "    <tr>\n",
       "      <th>PCFX</th>\n",
       "      <td>14634</td>\n",
       "      <td>0.00</td>\n",
       "      <td>0.00</td>\n",
       "      <td>0.03</td>\n",
       "      <td>0.00</td>\n",
       "      <td>0.0</td>\n",
       "      <td>0.0</td>\n",
       "      <td>0.03</td>\n",
       "    </tr>\n",
       "  </tbody>\n",
       "</table>\n",
       "</div>"
      ],
      "text/plain": [
       "             index  na_sales  eu_sales  jp_sales  other_sales  critic_score  \\\n",
       "platform                                                                      \n",
       "PS2       16172946    583.84    339.29    139.20       193.44       89208.0   \n",
       "X360       8475905    602.47    270.76     12.43        85.76       62853.0   \n",
       "PS3        9138857    393.49    330.28     80.19       135.68       57631.0   \n",
       "Wii       10341104    496.90    262.21     69.33        79.07       36752.0   \n",
       "DS        20889377    382.40    188.89    175.57        59.26       45717.0   \n",
       "PS         8338279    336.52    213.61    139.82        40.91       14303.0   \n",
       "GBA        7146047    187.54     75.25     47.33         7.73       29509.0   \n",
       "PS4        3068787    108.74    141.09     15.96        48.35       18167.0   \n",
       "PSP       12599155    109.17     66.68     76.78        41.42       31150.0   \n",
       "PC        11176571     94.53    142.44      0.17        22.38       54289.0   \n",
       "3DS        4768995     83.49     61.48    100.67        13.36       11273.0   \n",
       "XB         7226606    186.69     60.95      1.38         8.72       50648.0   \n",
       "GB          331974    114.32     47.82     85.12         8.20           0.0   \n",
       "NES         186552    125.94     21.15     98.65         5.31           0.0   \n",
       "N64        2082173    139.02     41.06     34.22         4.38           0.0   \n",
       "SNES       1516672     61.23     19.04    116.55         3.22           0.0   \n",
       "GC         4821861    133.46     38.71     21.58         5.18       31131.0   \n",
       "XOne       1910633     93.12     51.59      0.34        14.27       12392.0   \n",
       "2600        583865     90.60      5.47      0.00         0.91           0.0   \n",
       "WiiU       1156008     38.10     25.13     13.01         5.95        6366.0   \n",
       "PSV        5128383     12.58     13.12     21.91         6.46        8495.0   \n",
       "SAT        1615698      0.72      0.54     32.26         0.07           0.0   \n",
       "GEN         190283     19.27      5.52      2.67         0.89           0.0   \n",
       "DC          456400      5.43      1.69      8.56         0.27        1223.0   \n",
       "SCD          61163      1.00      0.36      0.45         0.05           0.0   \n",
       "NG          128225      0.00      0.00      1.44         0.00           0.0   \n",
       "WS           47243      0.00      0.00      1.42         0.00           0.0   \n",
       "TG16         24856      0.00      0.00      0.16         0.00           0.0   \n",
       "3DO          43299      0.00      0.00      0.10         0.00           0.0   \n",
       "GG           13571      0.00      0.00      0.04         0.00           0.0   \n",
       "PCFX         14634      0.00      0.00      0.03         0.00           0.0   \n",
       "\n",
       "          user_score    sales  \n",
       "platform                       \n",
       "PS2           9464.9  1255.77  \n",
       "X360          6456.3   971.42  \n",
       "PS3           5893.7   939.64  \n",
       "Wii           3775.9   907.51  \n",
       "DS            3625.0   806.12  \n",
       "PS            1274.2   730.86  \n",
       "GBA           1957.6   317.85  \n",
       "PS4           1734.3   314.14  \n",
       "PSP           3043.1   294.05  \n",
       "PC            5438.1   259.52  \n",
       "3DS           1188.7   259.00  \n",
       "XB            4395.3   257.74  \n",
       "GB               0.0   255.46  \n",
       "NES              0.0   251.05  \n",
       "N64              0.0   218.68  \n",
       "SNES             0.0   200.04  \n",
       "GC            2780.7   198.93  \n",
       "XOne          1186.9   159.32  \n",
       "2600             0.0    96.98  \n",
       "WiiU           690.4    82.19  \n",
       "PSV           1049.1    54.07  \n",
       "SAT              0.0    33.59  \n",
       "GEN              0.0    28.35  \n",
       "DC             119.4    15.95  \n",
       "SCD              0.0     1.86  \n",
       "NG               0.0     1.44  \n",
       "WS               0.0     1.42  \n",
       "TG16             0.0     0.16  \n",
       "3DO              0.0     0.10  \n",
       "GG               0.0     0.04  \n",
       "PCFX             0.0     0.03  "
      ]
     },
     "execution_count": 31,
     "metadata": {},
     "output_type": "execute_result"
    }
   ],
   "source": [
    "a=data.groupby(by=['platform']).sum()\n",
    "a.sort_values(by=['sales'],ascending=False)"
   ]
  },
  {
   "cell_type": "code",
   "execution_count": 32,
   "id": "7063064a",
   "metadata": {},
   "outputs": [
    {
     "data": {
      "text/plain": [
       "<AxesSubplot:xlabel='platform'>"
      ]
     },
     "execution_count": 32,
     "metadata": {},
     "output_type": "execute_result"
    },
    {
     "data": {
      "image/png": "[encoded data removed]",
      "text/plain": [
       "<Figure size 936x504 with 1 Axes>"
      ]
     },
     "metadata": {
      "needs_background": "light"
     },
     "output_type": "display_data"
    }
   ],
   "source": [
    "a['sales'].plot.bar(figsize=(13,7))"
   ]
  },
  {
   "cell_type": "markdown",
   "id": "db8e0040",
   "metadata": {},
   "source": [
    "По суммарным продажам выделяются такие платформы, как DS, PS, PS2, PS3, Wii, X360. Построим графики этих количества платформ по годам:"
   ]
  },
  {
   "cell_type": "code",
   "execution_count": 33,
   "id": "bde4170e",
   "metadata": {},
   "outputs": [
    {
     "data": {
      "image/png": "[encoded data removed]",
      "text/plain": [
       "<Figure size 792x504 with 1 Axes>"
      ]
     },
     "metadata": {
      "needs_background": "light"
     },
     "output_type": "display_data"
    }
   ],
   "source": [
    "#График продаж платформы DC по годам\n",
    "def graf(i):\n",
    "    data[data['platform']==i].groupby(by=['year_of_release']).sum()['sales'].plot.bar(figsize=(11,7))\n",
    "    plt.title('{}'.format(i))\n",
    "    plt.xlabel('Год')\n",
    "    plt.ylabel('Количество')\n",
    "    None\n",
    "graf('DS')"
   ]
  },
  {
   "cell_type": "markdown",
   "id": "d7374bd4",
   "metadata": {},
   "source": [
    "Новая платформа держится в течении 4-5 лет и исчезает на 5 лет. Затем 2 года появляется несколько продаж и после исчезают с рынка."
   ]
  },
  {
   "cell_type": "code",
   "execution_count": 34,
   "id": "3935075c",
   "metadata": {},
   "outputs": [
    {
     "data": {
      "image/png": "[encoded data removed]",
      "text/plain": [
       "<Figure size 792x504 with 1 Axes>"
      ]
     },
     "metadata": {
      "needs_background": "light"
     },
     "output_type": "display_data"
    }
   ],
   "source": [
    "#График продаж платформы PS по годам\n",
    "graf('PS')"
   ]
  },
  {
   "cell_type": "markdown",
   "id": "dac0f1ce",
   "metadata": {},
   "source": [
    "<div class=\"alert alert-warning\" style=\"border-radius: 15px; box-shadow: 4px 4px 4px;border: 1px solid \">\n",
    "<b> Комментарий ревьюера  ⚠️</b>\n",
    "    \n",
    "Можно использовать цикл, чтобы не делать срез каждый раз. \n",
    "    \n",
    "    \n",
    "Кстати, на графики следует добавлять подписи.\n",
    "</div>"
   ]
  },
  {
   "cell_type": "markdown",
   "id": "84a6e29c",
   "metadata": {},
   "source": [
    "<div class=\"alert alert-block alert-info\">\n",
    "<b>Комментарий студента:</b> Можете подскать каким образом это сделать с помощью цикла? Вот такой код использовал(он показывает только последний график): for i in ['DS','PS','PS2','PS3','Wii','X360']: graf(i)</div>"
   ]
  },
  {
   "cell_type": "markdown",
   "id": "c9cbadf6",
   "metadata": {},
   "source": [
    "<div class=\"alert alert-success\" style=\"border-radius: 15px; box-shadow: 4px 4px 4px; border: 1px solid \">\n",
    "<b> Комментарий ревьюера  2 ✔️</b>\n",
    "    \n",
    "Надо после каждого вызова указать еще `plt.show()`. Тогда мы заставим  matplotlib отображать каждый график:   \n",
    "</div>"
   ]
  },
  {
   "cell_type": "code",
   "execution_count": 35,
   "id": "f917a78b",
   "metadata": {},
   "outputs": [
    {
     "data": {
      "image/png": "[encoded data removed]",
      "text/plain": [
       "<Figure size 792x504 with 1 Axes>"
      ]
     },
     "metadata": {
      "needs_background": "light"
     },
     "output_type": "display_data"
    },
    {
     "data": {
      "image/png": "[encoded data removed]",
      "text/plain": [
       "<Figure size 792x504 with 1 Axes>"
      ]
     },
     "metadata": {
      "needs_background": "light"
     },
     "output_type": "display_data"
    },
    {
     "data": {
      "image/png": "[encoded data removed]",
      "text/plain": [
       "<Figure size 792x504 with 1 Axes>"
      ]
     },
     "metadata": {
      "needs_background": "light"
     },
     "output_type": "display_data"
    },
    {
     "data": {
      "image/png": "[encoded data removed]",
      "text/plain": [
       "<Figure size 792x504 with 1 Axes>"
      ]
     },
     "metadata": {
      "needs_background": "light"
     },
     "output_type": "display_data"
    },
    {
     "data": {
      "image/png": "[encoded data removed]",
      "text/plain": [
       "<Figure size 792x504 with 1 Axes>"
      ]
     },
     "metadata": {
      "needs_background": "light"
     },
     "output_type": "display_data"
    }
   ],
   "source": [
    "# КОД РЕВЬЮЕРА 2\n",
    "\n",
    "for i in a.sort_values(by=['sales'],ascending=False).head().index:\n",
    "    graf(i)\n",
    "    plt.show() # Это строку лучше закинуть в самый конец функции.\n",
    "    "
   ]
  },
  {
   "cell_type": "markdown",
   "id": "3e0ed76d",
   "metadata": {},
   "source": [
    "<div class=\"alert alert-block alert-info\">\n",
    "<b>Комментарий студента:</b> Спасибо!)</div>"
   ]
  },
  {
   "cell_type": "markdown",
   "id": "f2cf92a0",
   "metadata": {},
   "source": [
    "<div class=\"alert alert-success\" style=\"border-radius: 15px; box-shadow: 4px 4px 4px; border: 1px solid \">\n",
    "<h2> Комментарий ревьюера  3 ✔️</h2>\n",
    "    \n",
    "Рада помочь :) </div>"
   ]
  },
  {
   "cell_type": "markdown",
   "id": "2207f6a7",
   "metadata": {},
   "source": [
    "Сумма продаж платформы возрастает с 1994 по 1998 год(5 лет). Затем продажи идут на спад. После 1998 эта платформа исчезает через 6 лет(в 2004 году)."
   ]
  },
  {
   "cell_type": "code",
   "execution_count": 36,
   "id": "3cfb03c9",
   "metadata": {},
   "outputs": [
    {
     "data": {
      "image/png": "[encoded data removed]",
      "text/plain": [
       "<Figure size 792x504 with 1 Axes>"
      ]
     },
     "metadata": {
      "needs_background": "light"
     },
     "output_type": "display_data"
    }
   ],
   "source": [
    "#График продаж платформы PS2 по годам\n",
    "graf('PS2')"
   ]
  },
  {
   "cell_type": "markdown",
   "id": "7d469134",
   "metadata": {},
   "source": [
    "Продажи новой платформы находятся на высоком уровне с 2001 по 2005(дата выхода платформы - 2000 год). 5 лет держатся новые продажи. В следующие годы продажи идут на спад. В 2012 году платформа исчезает, т.е. через 7 лет."
   ]
  },
  {
   "cell_type": "code",
   "execution_count": 37,
   "id": "5e485b9d",
   "metadata": {},
   "outputs": [
    {
     "data": {
      "image/png": "[encoded data removed]",
      "text/plain": [
       "<Figure size 792x504 with 1 Axes>"
      ]
     },
     "metadata": {
      "needs_background": "light"
     },
     "output_type": "display_data"
    }
   ],
   "source": [
    "#График продаж платформы PS3 по годам\n",
    "graf('PS3')"
   ]
  },
  {
   "cell_type": "markdown",
   "id": "6e1fc606",
   "metadata": {},
   "source": [
    "С 2006 года после появления на рынок суммарные продажи новой платформы возрастают с каждым годом до 2011(6 лет). После идут на спад и в 2017 году исчезают с рынка(6 лет)."
   ]
  },
  {
   "cell_type": "code",
   "execution_count": 38,
   "id": "d2fc9b68",
   "metadata": {},
   "outputs": [
    {
     "data": {
      "image/png": "[encoded data removed]",
      "text/plain": [
       "<Figure size 792x504 with 1 Axes>"
      ]
     },
     "metadata": {
      "needs_background": "light"
     },
     "output_type": "display_data"
    }
   ],
   "source": [
    "#График продаж платформы Wii по годам\n",
    "graf('Wii')"
   ]
  },
  {
   "cell_type": "markdown",
   "id": "738f5020",
   "metadata": {},
   "source": [
    "c 2006 года в течение 5ти лет суммарные продажи держатся высоком для платформы уровне, в следующем году резко идут на спад и исчезают через 5 лет."
   ]
  },
  {
   "cell_type": "code",
   "execution_count": 39,
   "id": "fdc80bdd",
   "metadata": {},
   "outputs": [
    {
     "data": {
      "image/png": "[encoded data removed]",
      "text/plain": [
       "<Figure size 792x504 with 1 Axes>"
      ]
     },
     "metadata": {
      "needs_background": "light"
     },
     "output_type": "display_data"
    }
   ],
   "source": [
    "#График продаж платформы X360 по годам\n",
    "graf('X360')"
   ]
  },
  {
   "cell_type": "markdown",
   "id": "141d5808",
   "metadata": {},
   "source": [
    "Суммарные продажи новой платформы возрастают с 2005 по 2010 год(6 лет), в последующие годы идут на спад и исчезают в 2017 году(7 лет)."
   ]
  },
  {
   "cell_type": "markdown",
   "id": "21f2dc00",
   "metadata": {},
   "source": [
    "Вывод: в среднем новые платформы появляются в течение 5ти лет, и исчезают через 5-6 лет."
   ]
  },
  {
   "cell_type": "markdown",
   "id": "f7af1f21",
   "metadata": {},
   "source": [
    "<div class=\"alert alert-success\" style=\"border-radius: 15px; box-shadow: 4px 4px 4px; border: 1px solid \">\n",
    "<b> Комментарий ревьюера ✔️</b>\n",
    "    \n",
    "Похоже на правду. </div>\n"
   ]
  },
  {
   "cell_type": "code",
   "execution_count": 40,
   "id": "b12feb36",
   "metadata": {},
   "outputs": [
    {
     "data": {
      "text/html": [
       "<div>\n",
       "<style scoped>\n",
       "    .dataframe tbody tr th:only-of-type {\n",
       "        vertical-align: middle;\n",
       "    }\n",
       "\n",
       "    .dataframe tbody tr th {\n",
       "        vertical-align: top;\n",
       "    }\n",
       "\n",
       "    .dataframe thead th {\n",
       "        text-align: right;\n",
       "    }\n",
       "</style>\n",
       "<table border=\"1\" class=\"dataframe\">\n",
       "  <thead>\n",
       "    <tr style=\"text-align: right;\">\n",
       "      <th></th>\n",
       "      <th>level_0</th>\n",
       "      <th>index</th>\n",
       "      <th>name</th>\n",
       "      <th>platform</th>\n",
       "      <th>year_of_release</th>\n",
       "      <th>genre</th>\n",
       "      <th>na_sales</th>\n",
       "      <th>eu_sales</th>\n",
       "      <th>jp_sales</th>\n",
       "      <th>other_sales</th>\n",
       "      <th>critic_score</th>\n",
       "      <th>user_score</th>\n",
       "      <th>rating</th>\n",
       "      <th>sales</th>\n",
       "    </tr>\n",
       "  </thead>\n",
       "  <tbody>\n",
       "    <tr>\n",
       "      <th>0</th>\n",
       "      <td>16</td>\n",
       "      <td>16</td>\n",
       "      <td>Grand Theft Auto V</td>\n",
       "      <td>PS3</td>\n",
       "      <td>2013.0</td>\n",
       "      <td>Action</td>\n",
       "      <td>7.02</td>\n",
       "      <td>9.09</td>\n",
       "      <td>0.98</td>\n",
       "      <td>3.96</td>\n",
       "      <td>97.0</td>\n",
       "      <td>8.2</td>\n",
       "      <td>M</td>\n",
       "      <td>21.05</td>\n",
       "    </tr>\n",
       "    <tr>\n",
       "      <th>1</th>\n",
       "      <td>23</td>\n",
       "      <td>23</td>\n",
       "      <td>Grand Theft Auto V</td>\n",
       "      <td>X360</td>\n",
       "      <td>2013.0</td>\n",
       "      <td>Action</td>\n",
       "      <td>9.66</td>\n",
       "      <td>5.14</td>\n",
       "      <td>0.06</td>\n",
       "      <td>1.41</td>\n",
       "      <td>97.0</td>\n",
       "      <td>8.1</td>\n",
       "      <td>M</td>\n",
       "      <td>16.27</td>\n",
       "    </tr>\n",
       "    <tr>\n",
       "      <th>2</th>\n",
       "      <td>31</td>\n",
       "      <td>31</td>\n",
       "      <td>Call of Duty: Black Ops 3</td>\n",
       "      <td>PS4</td>\n",
       "      <td>2015.0</td>\n",
       "      <td>Shooter</td>\n",
       "      <td>6.03</td>\n",
       "      <td>5.86</td>\n",
       "      <td>0.36</td>\n",
       "      <td>2.38</td>\n",
       "      <td>NaN</td>\n",
       "      <td>NaN</td>\n",
       "      <td>Нет рейтинга</td>\n",
       "      <td>14.63</td>\n",
       "    </tr>\n",
       "    <tr>\n",
       "      <th>3</th>\n",
       "      <td>33</td>\n",
       "      <td>33</td>\n",
       "      <td>Pokemon X/Pokemon Y</td>\n",
       "      <td>3DS</td>\n",
       "      <td>2013.0</td>\n",
       "      <td>Role-Playing</td>\n",
       "      <td>5.28</td>\n",
       "      <td>4.19</td>\n",
       "      <td>4.35</td>\n",
       "      <td>0.78</td>\n",
       "      <td>NaN</td>\n",
       "      <td>NaN</td>\n",
       "      <td>Нет рейтинга</td>\n",
       "      <td>14.60</td>\n",
       "    </tr>\n",
       "    <tr>\n",
       "      <th>4</th>\n",
       "      <td>34</td>\n",
       "      <td>34</td>\n",
       "      <td>Call of Duty: Black Ops II</td>\n",
       "      <td>PS3</td>\n",
       "      <td>2012.0</td>\n",
       "      <td>Shooter</td>\n",
       "      <td>4.99</td>\n",
       "      <td>5.73</td>\n",
       "      <td>0.65</td>\n",
       "      <td>2.42</td>\n",
       "      <td>83.0</td>\n",
       "      <td>5.3</td>\n",
       "      <td>M</td>\n",
       "      <td>13.79</td>\n",
       "    </tr>\n",
       "    <tr>\n",
       "      <th>5</th>\n",
       "      <td>35</td>\n",
       "      <td>35</td>\n",
       "      <td>Call of Duty: Black Ops II</td>\n",
       "      <td>X360</td>\n",
       "      <td>2012.0</td>\n",
       "      <td>Shooter</td>\n",
       "      <td>8.25</td>\n",
       "      <td>4.24</td>\n",
       "      <td>0.07</td>\n",
       "      <td>1.12</td>\n",
       "      <td>83.0</td>\n",
       "      <td>4.8</td>\n",
       "      <td>M</td>\n",
       "      <td>13.68</td>\n",
       "    </tr>\n",
       "    <tr>\n",
       "      <th>6</th>\n",
       "      <td>42</td>\n",
       "      <td>42</td>\n",
       "      <td>Grand Theft Auto V</td>\n",
       "      <td>PS4</td>\n",
       "      <td>2014.0</td>\n",
       "      <td>Action</td>\n",
       "      <td>3.96</td>\n",
       "      <td>6.31</td>\n",
       "      <td>0.38</td>\n",
       "      <td>1.97</td>\n",
       "      <td>97.0</td>\n",
       "      <td>8.3</td>\n",
       "      <td>M</td>\n",
       "      <td>12.62</td>\n",
       "    </tr>\n",
       "    <tr>\n",
       "      <th>7</th>\n",
       "      <td>47</td>\n",
       "      <td>47</td>\n",
       "      <td>Pokemon Omega Ruby/Pokemon Alpha Sapphire</td>\n",
       "      <td>3DS</td>\n",
       "      <td>2014.0</td>\n",
       "      <td>Role-Playing</td>\n",
       "      <td>4.35</td>\n",
       "      <td>3.49</td>\n",
       "      <td>3.10</td>\n",
       "      <td>0.74</td>\n",
       "      <td>NaN</td>\n",
       "      <td>NaN</td>\n",
       "      <td>Нет рейтинга</td>\n",
       "      <td>11.68</td>\n",
       "    </tr>\n",
       "    <tr>\n",
       "      <th>8</th>\n",
       "      <td>60</td>\n",
       "      <td>60</td>\n",
       "      <td>Call of Duty: Ghosts</td>\n",
       "      <td>X360</td>\n",
       "      <td>2013.0</td>\n",
       "      <td>Shooter</td>\n",
       "      <td>6.73</td>\n",
       "      <td>2.56</td>\n",
       "      <td>0.04</td>\n",
       "      <td>0.91</td>\n",
       "      <td>73.0</td>\n",
       "      <td>2.6</td>\n",
       "      <td>M</td>\n",
       "      <td>10.24</td>\n",
       "    </tr>\n",
       "    <tr>\n",
       "      <th>9</th>\n",
       "      <td>62</td>\n",
       "      <td>62</td>\n",
       "      <td>New Super Mario Bros. 2</td>\n",
       "      <td>3DS</td>\n",
       "      <td>2012.0</td>\n",
       "      <td>Platform</td>\n",
       "      <td>3.66</td>\n",
       "      <td>3.14</td>\n",
       "      <td>2.47</td>\n",
       "      <td>0.63</td>\n",
       "      <td>78.0</td>\n",
       "      <td>7.2</td>\n",
       "      <td>E</td>\n",
       "      <td>9.90</td>\n",
       "    </tr>\n",
       "  </tbody>\n",
       "</table>\n",
       "</div>"
      ],
      "text/plain": [
       "   level_0  index                                       name platform  \\\n",
       "0       16     16                         Grand Theft Auto V      PS3   \n",
       "1       23     23                         Grand Theft Auto V     X360   \n",
       "2       31     31                  Call of Duty: Black Ops 3      PS4   \n",
       "3       33     33                        Pokemon X/Pokemon Y      3DS   \n",
       "4       34     34                 Call of Duty: Black Ops II      PS3   \n",
       "5       35     35                 Call of Duty: Black Ops II     X360   \n",
       "6       42     42                         Grand Theft Auto V      PS4   \n",
       "7       47     47  Pokemon Omega Ruby/Pokemon Alpha Sapphire      3DS   \n",
       "8       60     60                       Call of Duty: Ghosts     X360   \n",
       "9       62     62                    New Super Mario Bros. 2      3DS   \n",
       "\n",
       "  year_of_release         genre  na_sales  eu_sales  jp_sales  other_sales  \\\n",
       "0          2013.0        Action      7.02      9.09      0.98         3.96   \n",
       "1          2013.0        Action      9.66      5.14      0.06         1.41   \n",
       "2          2015.0       Shooter      6.03      5.86      0.36         2.38   \n",
       "3          2013.0  Role-Playing      5.28      4.19      4.35         0.78   \n",
       "4          2012.0       Shooter      4.99      5.73      0.65         2.42   \n",
       "5          2012.0       Shooter      8.25      4.24      0.07         1.12   \n",
       "6          2014.0        Action      3.96      6.31      0.38         1.97   \n",
       "7          2014.0  Role-Playing      4.35      3.49      3.10         0.74   \n",
       "8          2013.0       Shooter      6.73      2.56      0.04         0.91   \n",
       "9          2012.0      Platform      3.66      3.14      2.47         0.63   \n",
       "\n",
       "   critic_score  user_score        rating  sales  \n",
       "0          97.0         8.2             M  21.05  \n",
       "1          97.0         8.1             M  16.27  \n",
       "2           NaN         NaN  Нет рейтинга  14.63  \n",
       "3           NaN         NaN  Нет рейтинга  14.60  \n",
       "4          83.0         5.3             M  13.79  \n",
       "5          83.0         4.8             M  13.68  \n",
       "6          97.0         8.3             M  12.62  \n",
       "7           NaN         NaN  Нет рейтинга  11.68  \n",
       "8          73.0         2.6             M  10.24  \n",
       "9          78.0         7.2             E   9.90  "
      ]
     },
     "execution_count": 40,
     "metadata": {},
     "output_type": "execute_result"
    }
   ],
   "source": [
    "#Возьмем данные за актуальный период(2012-2016) - новейшее время + огромное количество игр\n",
    "actual_data=data[data['year_of_release']>2011].reset_index()\n",
    "actual_data.head(10)"
   ]
  },
  {
   "cell_type": "markdown",
   "id": "999c0dce",
   "metadata": {},
   "source": [
    "<div class=\"alert alert-danger\" style=\"border-radius: 15px; box-shadow: 4px 4px 4px;border: 1px solid \">\n",
    "<b> Комментарий ревьюера  ❌</b> \n",
    "    \n",
    "Уточняющий вопрос: почему именно такой период берем?  </div>"
   ]
  },
  {
   "cell_type": "markdown",
   "id": "13426208",
   "metadata": {},
   "source": [
    "<div class=\"alert alert-block alert-info\">\n",
    "<b>Комментарий студента:</b> Взял другой период.</div>"
   ]
  },
  {
   "cell_type": "markdown",
   "id": "1ca38faf",
   "metadata": {},
   "source": [
    "<div class=\"alert alert-danger\" style=\"border-radius: 15px; box-shadow: 4px 4px 4px;border: 1px solid \">\n",
    "<b> Комментарий ревьюера 2 ❌</b> \n",
    "    \n",
    "Я не говорила, что он неверный. Но не было никаких комментариев о выборе. Мне нужно понимать, как именно ты выбираешь период, чтобы, если что, помочь тебе с ним определиться. То, что период исправлен после моего комментария и говорит о неуверенности в выборе. Ну или я сбила тебя своим красным цветом. Если так, то прошу прощения :) \n",
    "\n",
    "\n",
    "15 лет это много. Рынок динамичен, все меняется. Некогда популярный жанр и за 10 лет может стать не таким популярным. И наоборот. Так что за это время несколько поколений сменятся :) А мы зацепим мертвые платформы и неактуальные предпочтения пользователей. Да и очевидно, что платформа, появившаяся в 2004 году и ставшая очень популярной, набрала больше продаж, чем новенькая консоль, у которой все еще впереди. Индустрия развивается, игры становятся лучше, графика лучше, а пользователи — более требовательными. В таких задачах нам нужна свежная информация, свежая оценка. Если прогнозируем на 2017 год, то какая разница, что было 10 или даже 15 лет назад? Потенциально прибыльные платформы мы можем легко отобрать по графикам и таблице прадаж. Но пользовательские портреты могут поменяться. Больше 3-5 лет берут не так часто, только если товару требуется время зарекоменовать себя, а это трудно отнести к такой бурно развивающейся отрасли. Также не стоит и слишком малый интервал брать. Можно взять половину жизненного цикла. По столбчатой диаграмме продаж видно, в какой год продажи стабилизировались после пика.</div>"
   ]
  },
  {
   "cell_type": "markdown",
   "id": "41845171",
   "metadata": {},
   "source": [
    "<div class=\"alert alert-block alert-info\">\n",
    "<b>Комментарий студента:</b> Хорошо, буду иметь в виду, спасибо большое за более подробный комментарий!) Да, действительно, хотел брать период поменьше, т.к. более свежую оценку можно сделать. Просто странно было, почему комментарий был отмечен крестиком, но уже не так важно, главное, что сейчас все выяснили, ничего страшного!)</div>"
   ]
  },
  {
   "cell_type": "markdown",
   "id": "5cb47318",
   "metadata": {},
   "source": [
    "<div class=\"alert alert-success\" style=\"border-radius: 15px; box-shadow: 4px 4px 4px; border: 1px solid \">\n",
    "<h2> Комментарий ревьюера  3 ✔️</h2>\n",
    "    \n",
    "Крестиком приходится отмечать для того, чтобы на него точно ответили. Иногда желтые игнорируют и важный вопрос остается без ответа :)</div>"
   ]
  },
  {
   "cell_type": "markdown",
   "id": "95a5e399",
   "metadata": {},
   "source": [
    "Выберу несколько потенциально прибыльных платформ:"
   ]
  },
  {
   "cell_type": "code",
   "execution_count": 41,
   "id": "3d66ed26",
   "metadata": {},
   "outputs": [],
   "source": [
    "actual_plat_year_sales=actual_data.pivot_table(values='sales',index='platform',columns='year_of_release',aggfunc='sum')"
   ]
  },
  {
   "cell_type": "code",
   "execution_count": 42,
   "id": "5b90f5a2",
   "metadata": {
    "scrolled": true
   },
   "outputs": [
    {
     "data": {
      "text/html": [
       "<div>\n",
       "<style scoped>\n",
       "    .dataframe tbody tr th:only-of-type {\n",
       "        vertical-align: middle;\n",
       "    }\n",
       "\n",
       "    .dataframe tbody tr th {\n",
       "        vertical-align: top;\n",
       "    }\n",
       "\n",
       "    .dataframe thead th {\n",
       "        text-align: right;\n",
       "    }\n",
       "</style>\n",
       "<table border=\"1\" class=\"dataframe\">\n",
       "  <thead>\n",
       "    <tr style=\"text-align: right;\">\n",
       "      <th>year_of_release</th>\n",
       "      <th>2012.0</th>\n",
       "      <th>2013.0</th>\n",
       "      <th>2014.0</th>\n",
       "      <th>2015.0</th>\n",
       "      <th>2016.0</th>\n",
       "      <th>summary</th>\n",
       "    </tr>\n",
       "    <tr>\n",
       "      <th>platform</th>\n",
       "      <th></th>\n",
       "      <th></th>\n",
       "      <th></th>\n",
       "      <th></th>\n",
       "      <th></th>\n",
       "      <th></th>\n",
       "    </tr>\n",
       "  </thead>\n",
       "  <tbody>\n",
       "    <tr>\n",
       "      <th>PS4</th>\n",
       "      <td>NaN</td>\n",
       "      <td>25.99</td>\n",
       "      <td>100.00</td>\n",
       "      <td>118.90</td>\n",
       "      <td>69.25</td>\n",
       "      <td>314.14</td>\n",
       "    </tr>\n",
       "    <tr>\n",
       "      <th>PS3</th>\n",
       "      <td>107.35</td>\n",
       "      <td>113.25</td>\n",
       "      <td>47.76</td>\n",
       "      <td>16.82</td>\n",
       "      <td>3.60</td>\n",
       "      <td>288.78</td>\n",
       "    </tr>\n",
       "    <tr>\n",
       "      <th>X360</th>\n",
       "      <td>99.74</td>\n",
       "      <td>88.58</td>\n",
       "      <td>34.74</td>\n",
       "      <td>11.96</td>\n",
       "      <td>1.52</td>\n",
       "      <td>236.54</td>\n",
       "    </tr>\n",
       "    <tr>\n",
       "      <th>3DS</th>\n",
       "      <td>51.36</td>\n",
       "      <td>56.57</td>\n",
       "      <td>43.76</td>\n",
       "      <td>27.78</td>\n",
       "      <td>15.14</td>\n",
       "      <td>194.61</td>\n",
       "    </tr>\n",
       "    <tr>\n",
       "      <th>XOne</th>\n",
       "      <td>NaN</td>\n",
       "      <td>18.96</td>\n",
       "      <td>54.07</td>\n",
       "      <td>60.14</td>\n",
       "      <td>26.15</td>\n",
       "      <td>159.32</td>\n",
       "    </tr>\n",
       "    <tr>\n",
       "      <th>WiiU</th>\n",
       "      <td>17.56</td>\n",
       "      <td>21.65</td>\n",
       "      <td>22.03</td>\n",
       "      <td>16.35</td>\n",
       "      <td>4.60</td>\n",
       "      <td>82.19</td>\n",
       "    </tr>\n",
       "    <tr>\n",
       "      <th>PC</th>\n",
       "      <td>23.22</td>\n",
       "      <td>12.38</td>\n",
       "      <td>13.28</td>\n",
       "      <td>8.52</td>\n",
       "      <td>5.25</td>\n",
       "      <td>62.65</td>\n",
       "    </tr>\n",
       "    <tr>\n",
       "      <th>PSV</th>\n",
       "      <td>16.19</td>\n",
       "      <td>10.59</td>\n",
       "      <td>11.90</td>\n",
       "      <td>6.25</td>\n",
       "      <td>4.25</td>\n",
       "      <td>49.18</td>\n",
       "    </tr>\n",
       "    <tr>\n",
       "      <th>Wii</th>\n",
       "      <td>21.71</td>\n",
       "      <td>8.59</td>\n",
       "      <td>3.75</td>\n",
       "      <td>1.14</td>\n",
       "      <td>0.18</td>\n",
       "      <td>35.37</td>\n",
       "    </tr>\n",
       "    <tr>\n",
       "      <th>DS</th>\n",
       "      <td>11.01</td>\n",
       "      <td>1.54</td>\n",
       "      <td>NaN</td>\n",
       "      <td>NaN</td>\n",
       "      <td>NaN</td>\n",
       "      <td>12.55</td>\n",
       "    </tr>\n",
       "    <tr>\n",
       "      <th>PSP</th>\n",
       "      <td>7.69</td>\n",
       "      <td>3.14</td>\n",
       "      <td>0.24</td>\n",
       "      <td>0.12</td>\n",
       "      <td>NaN</td>\n",
       "      <td>11.19</td>\n",
       "    </tr>\n",
       "  </tbody>\n",
       "</table>\n",
       "</div>"
      ],
      "text/plain": [
       "year_of_release  2012.0  2013.0  2014.0  2015.0  2016.0  summary\n",
       "platform                                                        \n",
       "PS4                 NaN   25.99  100.00  118.90   69.25   314.14\n",
       "PS3              107.35  113.25   47.76   16.82    3.60   288.78\n",
       "X360              99.74   88.58   34.74   11.96    1.52   236.54\n",
       "3DS               51.36   56.57   43.76   27.78   15.14   194.61\n",
       "XOne                NaN   18.96   54.07   60.14   26.15   159.32\n",
       "WiiU              17.56   21.65   22.03   16.35    4.60    82.19\n",
       "PC                23.22   12.38   13.28    8.52    5.25    62.65\n",
       "PSV               16.19   10.59   11.90    6.25    4.25    49.18\n",
       "Wii               21.71    8.59    3.75    1.14    0.18    35.37\n",
       "DS                11.01    1.54     NaN     NaN     NaN    12.55\n",
       "PSP                7.69    3.14    0.24    0.12     NaN    11.19"
      ]
     },
     "execution_count": 42,
     "metadata": {},
     "output_type": "execute_result"
    }
   ],
   "source": [
    "actual_plat_year_sales['summary']=[sum([actual_plat_year_sales[i][j] for i in range(2012,2017) if actual_plat_year_sales[i][j]>-1]) for j in sorted(actual_data['platform'].unique())]\n",
    "actual_plat_year_sales.sort_values(by=['summary'],ascending=False)"
   ]
  },
  {
   "cell_type": "markdown",
   "id": "2b5d62a0",
   "metadata": {},
   "source": [
    "В актуальный период 5 платформ имеют наибольшие суммарные продажи: PS4, PS3, X360, 3DS, XOne. Растут продажи у PS4 и у XOne на состояние 2015 года(в 2016 году продажи на всех платформах резко упали). У PS3, X360 и 3DS продажи падают. Потенциально прибыльные платформы на 2017й год: PS4 и XOne."
   ]
  },
  {
   "cell_type": "code",
   "execution_count": 43,
   "id": "f1ed12da",
   "metadata": {},
   "outputs": [
    {
     "data": {
      "text/html": [
       "<div>\n",
       "<style scoped>\n",
       "    .dataframe tbody tr th:only-of-type {\n",
       "        vertical-align: middle;\n",
       "    }\n",
       "\n",
       "    .dataframe tbody tr th {\n",
       "        vertical-align: top;\n",
       "    }\n",
       "\n",
       "    .dataframe thead th {\n",
       "        text-align: right;\n",
       "    }\n",
       "</style>\n",
       "<table border=\"1\" class=\"dataframe\">\n",
       "  <thead>\n",
       "    <tr style=\"text-align: right;\">\n",
       "      <th></th>\n",
       "      <th>level_0</th>\n",
       "      <th>index</th>\n",
       "      <th>na_sales</th>\n",
       "      <th>eu_sales</th>\n",
       "      <th>jp_sales</th>\n",
       "      <th>other_sales</th>\n",
       "      <th>critic_score</th>\n",
       "      <th>user_score</th>\n",
       "      <th>sales</th>\n",
       "    </tr>\n",
       "    <tr>\n",
       "      <th>name</th>\n",
       "      <th></th>\n",
       "      <th></th>\n",
       "      <th></th>\n",
       "      <th></th>\n",
       "      <th></th>\n",
       "      <th></th>\n",
       "      <th></th>\n",
       "      <th></th>\n",
       "      <th></th>\n",
       "    </tr>\n",
       "  </thead>\n",
       "  <tbody>\n",
       "    <tr>\n",
       "      <th>Grand Theft Auto V</th>\n",
       "      <td>1975</td>\n",
       "      <td>1976</td>\n",
       "      <td>23.84</td>\n",
       "      <td>23.42</td>\n",
       "      <td>1.42</td>\n",
       "      <td>7.90</td>\n",
       "      <td>484.0</td>\n",
       "      <td>40.4</td>\n",
       "      <td>56.58</td>\n",
       "    </tr>\n",
       "    <tr>\n",
       "      <th>Call of Duty: Black Ops II</th>\n",
       "      <td>6000</td>\n",
       "      <td>6002</td>\n",
       "      <td>14.08</td>\n",
       "      <td>10.84</td>\n",
       "      <td>0.72</td>\n",
       "      <td>3.76</td>\n",
       "      <td>321.0</td>\n",
       "      <td>21.2</td>\n",
       "      <td>29.40</td>\n",
       "    </tr>\n",
       "    <tr>\n",
       "      <th>Call of Duty: Ghosts</th>\n",
       "      <td>9207</td>\n",
       "      <td>9209</td>\n",
       "      <td>14.94</td>\n",
       "      <td>8.89</td>\n",
       "      <td>0.48</td>\n",
       "      <td>3.08</td>\n",
       "      <td>369.0</td>\n",
       "      <td>16.6</td>\n",
       "      <td>27.39</td>\n",
       "    </tr>\n",
       "    <tr>\n",
       "      <th>Call of Duty: Black Ops 3</th>\n",
       "      <td>8701</td>\n",
       "      <td>8704</td>\n",
       "      <td>12.25</td>\n",
       "      <td>9.49</td>\n",
       "      <td>0.44</td>\n",
       "      <td>3.49</td>\n",
       "      <td>0.0</td>\n",
       "      <td>0.0</td>\n",
       "      <td>25.67</td>\n",
       "    </tr>\n",
       "    <tr>\n",
       "      <th>Minecraft</th>\n",
       "      <td>4895</td>\n",
       "      <td>4897</td>\n",
       "      <td>11.28</td>\n",
       "      <td>8.75</td>\n",
       "      <td>1.24</td>\n",
       "      <td>2.89</td>\n",
       "      <td>0.0</td>\n",
       "      <td>0.0</td>\n",
       "      <td>24.16</td>\n",
       "    </tr>\n",
       "    <tr>\n",
       "      <th>Call of Duty: Advanced Warfare</th>\n",
       "      <td>5524</td>\n",
       "      <td>5525</td>\n",
       "      <td>10.51</td>\n",
       "      <td>8.30</td>\n",
       "      <td>0.34</td>\n",
       "      <td>2.82</td>\n",
       "      <td>242.0</td>\n",
       "      <td>25.3</td>\n",
       "      <td>21.97</td>\n",
       "    </tr>\n",
       "    <tr>\n",
       "      <th>FIFA 15</th>\n",
       "      <td>19018</td>\n",
       "      <td>19023</td>\n",
       "      <td>3.09</td>\n",
       "      <td>12.02</td>\n",
       "      <td>0.14</td>\n",
       "      <td>2.12</td>\n",
       "      <td>246.0</td>\n",
       "      <td>33.8</td>\n",
       "      <td>17.37</td>\n",
       "    </tr>\n",
       "    <tr>\n",
       "      <th>FIFA 14</th>\n",
       "      <td>31852</td>\n",
       "      <td>31858</td>\n",
       "      <td>2.81</td>\n",
       "      <td>10.96</td>\n",
       "      <td>0.20</td>\n",
       "      <td>2.49</td>\n",
       "      <td>432.0</td>\n",
       "      <td>34.7</td>\n",
       "      <td>16.46</td>\n",
       "    </tr>\n",
       "    <tr>\n",
       "      <th>FIFA 16</th>\n",
       "      <td>9801</td>\n",
       "      <td>9803</td>\n",
       "      <td>3.05</td>\n",
       "      <td>11.09</td>\n",
       "      <td>0.11</td>\n",
       "      <td>2.05</td>\n",
       "      <td>247.0</td>\n",
       "      <td>19.2</td>\n",
       "      <td>16.30</td>\n",
       "    </tr>\n",
       "    <tr>\n",
       "      <th>FIFA Soccer 13</th>\n",
       "      <td>27950</td>\n",
       "      <td>27956</td>\n",
       "      <td>2.63</td>\n",
       "      <td>10.16</td>\n",
       "      <td>0.23</td>\n",
       "      <td>2.95</td>\n",
       "      <td>458.0</td>\n",
       "      <td>38.1</td>\n",
       "      <td>15.97</td>\n",
       "    </tr>\n",
       "  </tbody>\n",
       "</table>\n",
       "</div>"
      ],
      "text/plain": [
       "                                level_0  index  na_sales  eu_sales  jp_sales  \\\n",
       "name                                                                           \n",
       "Grand Theft Auto V                 1975   1976     23.84     23.42      1.42   \n",
       "Call of Duty: Black Ops II         6000   6002     14.08     10.84      0.72   \n",
       "Call of Duty: Ghosts               9207   9209     14.94      8.89      0.48   \n",
       "Call of Duty: Black Ops 3          8701   8704     12.25      9.49      0.44   \n",
       "Minecraft                          4895   4897     11.28      8.75      1.24   \n",
       "Call of Duty: Advanced Warfare     5524   5525     10.51      8.30      0.34   \n",
       "FIFA 15                           19018  19023      3.09     12.02      0.14   \n",
       "FIFA 14                           31852  31858      2.81     10.96      0.20   \n",
       "FIFA 16                            9801   9803      3.05     11.09      0.11   \n",
       "FIFA Soccer 13                    27950  27956      2.63     10.16      0.23   \n",
       "\n",
       "                                other_sales  critic_score  user_score  sales  \n",
       "name                                                                          \n",
       "Grand Theft Auto V                     7.90         484.0        40.4  56.58  \n",
       "Call of Duty: Black Ops II             3.76         321.0        21.2  29.40  \n",
       "Call of Duty: Ghosts                   3.08         369.0        16.6  27.39  \n",
       "Call of Duty: Black Ops 3              3.49           0.0         0.0  25.67  \n",
       "Minecraft                              2.89           0.0         0.0  24.16  \n",
       "Call of Duty: Advanced Warfare         2.82         242.0        25.3  21.97  \n",
       "FIFA 15                                2.12         246.0        33.8  17.37  \n",
       "FIFA 14                                2.49         432.0        34.7  16.46  \n",
       "FIFA 16                                2.05         247.0        19.2  16.30  \n",
       "FIFA Soccer 13                         2.95         458.0        38.1  15.97  "
      ]
     },
     "execution_count": 43,
     "metadata": {},
     "output_type": "execute_result"
    }
   ],
   "source": [
    "actual_data.groupby(by=['name']).sum().sort_values(by=['sales'],ascending=False).head(10)"
   ]
  },
  {
   "cell_type": "markdown",
   "id": "c901f606",
   "metadata": {},
   "source": [
    "Построим диаграммы размаха по платформам для глобальных продаж:"
   ]
  },
  {
   "cell_type": "code",
   "execution_count": 44,
   "id": "83a9f5d2",
   "metadata": {},
   "outputs": [
    {
     "data": {
      "text/plain": [
       "<AxesSubplot:>"
      ]
     },
     "execution_count": 44,
     "metadata": {},
     "output_type": "execute_result"
    },
    {
     "data": {
      "image/png": "[encoded data removed]",
      "text/plain": [
       "<Figure size 432x288 with 1 Axes>"
      ]
     },
     "metadata": {
      "needs_background": "light"
     },
     "output_type": "display_data"
    }
   ],
   "source": [
    "#Диаграмма размаха для платформы PS4\n",
    "plt.ylim(-1,3)\n",
    "actual_data[(actual_data['platform']=='PS4')].boxplot(column=['sales'])\n",
    "actual_data[(actual_data['platform']=='PS3')].boxplot(column=['sales'])\n",
    "actual_data[(actual_data['platform']=='X360')].boxplot(column=['sales'])\n",
    "actual_data[(actual_data['platform']=='3DS')].boxplot(column=['sales'])\n",
    "actual_data[(actual_data['platform']=='XOne')].boxplot(column=['sales'])"
   ]
  },
  {
   "cell_type": "markdown",
   "id": "7abf2996",
   "metadata": {},
   "source": [
    "<div class=\"alert alert-success\" style=\"border-radius: 15px; box-shadow: 4px 4px 4px; border: 1px solid \">\n",
    "<h2> Комментарий ревьюера 3 ✔️</h2>\n",
    "    \n",
    "Все гораздо проще :) Нет необходимости вручную выставлять боксы на одном графике. Тут достаточно воспользоваться встроенным методом. Код ниже:\n",
    "</div>"
   ]
  },
  {
   "cell_type": "code",
   "execution_count": 46,
   "id": "a108e329",
   "metadata": {},
   "outputs": [
    {
     "data": {
      "image/png": "[encoded data removed]",
      "text/plain": [
       "<Figure size 864x504 with 1 Axes>"
      ]
     },
     "metadata": {
      "needs_background": "light"
     },
     "output_type": "display_data"
    }
   ],
   "source": [
    "# КОД РЕВЬЮЕРА 3\n",
    "\n",
    "\n",
    "actual_data.boxplot('sales', by='platform', figsize=(12,7))\n",
    "plt.ylim(0,3);"
   ]
  },
  {
   "cell_type": "markdown",
   "id": "e6a8bc47",
   "metadata": {},
   "source": [
    "<div class=\"alert alert-success\" style=\"border-radius: 15px; box-shadow: 4px 4px 4px; border: 1px solid \">\n",
    "<h2> Комментарий ревьюера 3  ✔️</h2>\n",
    "    \n",
    "Выбросы это какие-то популярные игры. И это очень показательная штука. Посмотри на 3DS. Маленький ящик и много выбросов. Это говорит о том, что большАя часть объема продаж делается за счет этих выбросов. В то же время у XOne ситуация иная: большой бокс, длинный ус и мало выбросов. Это свидетельствует о том, что на XOne покупают самые разные игры, причем, в немалом количестве. \n",
    "</div>"
   ]
  },
  {
   "cell_type": "code",
   "execution_count": 45,
   "id": "431ebab5",
   "metadata": {},
   "outputs": [
    {
     "data": {
      "text/plain": [
       "<AxesSubplot:>"
      ]
     },
     "execution_count": 45,
     "metadata": {},
     "output_type": "execute_result"
    },
    {
     "data": {
      "image/png": "[encoded data removed]",
      "text/plain": [
       "<Figure size 432x288 with 1 Axes>"
      ]
     },
     "metadata": {
      "needs_background": "light"
     },
     "output_type": "display_data"
    }
   ],
   "source": [
    "plt.ylim(-1,3)\n",
    "actual_data[(actual_data['platform']=='PS4')].boxplot(column=['sales'])"
   ]
  },
  {
   "cell_type": "markdown",
   "id": "36b0c5bb",
   "metadata": {},
   "source": [
    "Для платформы PS4 большая часть значений лежит в диапозоне от 0,1 до 0,7 млн. продаж. После 1,7 млн. продаж наблюдаются выбросы, выделяющиеся из общей выборки."
   ]
  },
  {
   "cell_type": "code",
   "execution_count": 46,
   "id": "992b7d4d",
   "metadata": {},
   "outputs": [
    {
     "data": {
      "text/plain": [
       "<AxesSubplot:>"
      ]
     },
     "execution_count": 46,
     "metadata": {},
     "output_type": "execute_result"
    },
    {
     "data": {
      "image/png": "[encoded data removed]",
      "text/plain": [
       "<Figure size 432x288 with 1 Axes>"
      ]
     },
     "metadata": {
      "needs_background": "light"
     },
     "output_type": "display_data"
    }
   ],
   "source": [
    "#Диаграмма размаха для платформы PS3\n",
    "plt.ylim(-1,2)\n",
    "actual_data[(actual_data['platform']=='PS3')].boxplot(column=['sales'])"
   ]
  },
  {
   "cell_type": "markdown",
   "id": "620c9f59",
   "metadata": {},
   "source": [
    "Для платформы PS3 большая часть значений лежит в диапозоне от 0,1 до 0,7 млн. продаж. После 1,4 млн. продаж наблюдаются выбросы, выделяющиеся из общей выборки."
   ]
  },
  {
   "cell_type": "code",
   "execution_count": 47,
   "id": "53f5af53",
   "metadata": {},
   "outputs": [
    {
     "data": {
      "text/plain": [
       "<AxesSubplot:>"
      ]
     },
     "execution_count": 47,
     "metadata": {},
     "output_type": "execute_result"
    },
    {
     "data": {
      "image/png": "[encoded data removed]",
      "text/plain": [
       "<Figure size 432x288 with 1 Axes>"
      ]
     },
     "metadata": {
      "needs_background": "light"
     },
     "output_type": "display_data"
    }
   ],
   "source": [
    "#Диаграмма размаха для платформы X360\n",
    "plt.ylim(-1,3)\n",
    "actual_data[(actual_data['platform']=='X360')].boxplot(column=['sales'])"
   ]
  },
  {
   "cell_type": "markdown",
   "id": "14f96f00",
   "metadata": {},
   "source": [
    "Для платформы X360 большая часть значений лежит в диапозоне от 0,1 до 0,9 млн. продаж. После 1,9 млн. продаж наблюдаются выбросы, выделяющиеся из общей выборки."
   ]
  },
  {
   "cell_type": "code",
   "execution_count": 48,
   "id": "bb7db046",
   "metadata": {},
   "outputs": [
    {
     "data": {
      "text/plain": [
       "<AxesSubplot:>"
      ]
     },
     "execution_count": 48,
     "metadata": {},
     "output_type": "execute_result"
    },
    {
     "data": {
      "image/png": "[encoded data removed]",
      "text/plain": [
       "<Figure size 432x288 with 1 Axes>"
      ]
     },
     "metadata": {
      "needs_background": "light"
     },
     "output_type": "display_data"
    }
   ],
   "source": [
    "#Диаграмма размаха для платформы 3DS\n",
    "plt.ylim(-0.5,1)\n",
    "actual_data[(actual_data['platform']=='3DS')].boxplot(column=['sales'])"
   ]
  },
  {
   "cell_type": "markdown",
   "id": "78796c02",
   "metadata": {},
   "source": [
    "Для платформы 3DS большая часть значений лежит в диапозоне от 0,1 до 0,3 млн. продаж. После 0,7 млн. продаж наблюдаются выбросы, выделяющиеся из общей выборки."
   ]
  },
  {
   "cell_type": "code",
   "execution_count": 49,
   "id": "a8151296",
   "metadata": {},
   "outputs": [
    {
     "data": {
      "text/plain": [
       "<AxesSubplot:>"
      ]
     },
     "execution_count": 49,
     "metadata": {},
     "output_type": "execute_result"
    },
    {
     "data": {
      "image/png": "[encoded data removed]",
      "text/plain": [
       "<Figure size 432x288 with 1 Axes>"
      ]
     },
     "metadata": {
      "needs_background": "light"
     },
     "output_type": "display_data"
    }
   ],
   "source": [
    "#Диаграмма размаха для платформы XOne\n",
    "plt.ylim(-0.5,2)\n",
    "actual_data[(actual_data['platform']=='XOne')].boxplot(column=['sales'])"
   ]
  },
  {
   "cell_type": "markdown",
   "id": "1ee27e09",
   "metadata": {},
   "source": [
    "Для платформы XOne большая часть значений лежит в диапозоне от 0,1 до 0,7 млн. продаж. После 1,6 млн. продаж наблюдаются выбросы, выделяющиеся из общей выборки."
   ]
  },
  {
   "cell_type": "markdown",
   "id": "87ce03d3",
   "metadata": {},
   "source": [
    "<div class=\"alert alert-danger\" style=\"border-radius: 15px; box-shadow: 4px 4px 4px; border: 1px solid \">\n",
    "<b> Комментарий ревьюера  ❌</b>\n",
    "    \n",
    "- Нас просят построить боксплот в разбивке по платформам. То есть изобрази на одном графике несколько ящиков, по одному на платформу. Так мы сможем сравнить продажи. \n",
    "    \n",
    "    \n",
    "- Добавь, пожалуйста, пару слов про выбросы. Это важно, поскольку не каждый клиент умеет правильно интерпретировать подобные диаграммы. \n",
    "</div>"
   ]
  },
  {
   "cell_type": "markdown",
   "id": "0b4f6111",
   "metadata": {},
   "source": [
    "<div class=\"alert alert-block alert-info\">\n",
    "<b>Комментарий студента:</b> Не знаю, достаточны ли мои изменения?</div>"
   ]
  },
  {
   "cell_type": "markdown",
   "id": "5e251a48",
   "metadata": {},
   "source": [
    "<div class=\"alert alert-danger\" style=\"border-radius: 15px; box-shadow: 4px 4px 4px; border: 1px solid \">\n",
    "<b> Комментарий ревьюера 2 ❌</b>\n",
    "    \n",
    "Попробуй изобразить все эти ящики на одном графике, на одном полотне. \n",
    "</div>"
   ]
  },
  {
   "cell_type": "markdown",
   "id": "377e5b63",
   "metadata": {},
   "source": [
    "<div class=\"alert alert-block alert-info\">\n",
    "<b>Комментарий студента:</b> На 44й строке кода это сделал, но там не очень понятно, где чья диграмма находится. Возможно, неверно сделал</div>"
   ]
  },
  {
   "cell_type": "markdown",
   "id": "0ac44f70",
   "metadata": {},
   "source": [
    "<div class=\"alert alert-success\" style=\"border-radius: 15px; box-shadow: 4px 4px 4px; border: 1px solid \">\n",
    "<h2> Комментарий ревьюера 3  ✔️</h2>\n",
    "    \n",
    "Оставила там пример :) \n",
    "\n",
    "</div>"
   ]
  },
  {
   "cell_type": "markdown",
   "id": "828e5cf2",
   "metadata": {},
   "source": [
    "Построю диаграмму рассеяния и посчитаю корреляцию между отзывами и продажами внутри самой популярной платформой - PS4:"
   ]
  },
  {
   "cell_type": "code",
   "execution_count": 50,
   "id": "1f609134",
   "metadata": {},
   "outputs": [
    {
     "data": {
      "text/plain": [
       "<AxesSubplot:xlabel='critic_score', ylabel='sales'>"
      ]
     },
     "execution_count": 50,
     "metadata": {},
     "output_type": "execute_result"
    },
    {
     "data": {
      "image/png": "[encoded data removed]",
      "text/plain": [
       "<Figure size 792x504 with 1 Axes>"
      ]
     },
     "metadata": {
      "needs_background": "light"
     },
     "output_type": "display_data"
    }
   ],
   "source": [
    "#диаграмма рассеяния\n",
    "actual_data[actual_data['platform']=='PS4'].sort_values('critic_score').plot(x='critic_score',y='sales',figsize=(11,7),kind='scatter',alpha=0.3)"
   ]
  },
  {
   "cell_type": "markdown",
   "id": "9a4f7c84",
   "metadata": {},
   "source": [
    "<div class=\"alert alert-danger\" style=\"border-radius: 15px; box-shadow: 4px 4px 4px; border: 1px solid \">\n",
    "<b> Комментарий ревьюера  ❌</b>\n",
    "    \n",
    "    \n",
    "`plot(x='critic_score',y='sales',figsize=(11,7))`\n",
    "    \n",
    "Судя по всему, это не диаграмма рассеяния.\n",
    "</div>"
   ]
  },
  {
   "cell_type": "markdown",
   "id": "06907038",
   "metadata": {},
   "source": [
    "<div class=\"alert alert-block alert-info\">\n",
    "<b>Комментарий студента:</b> Добавил тип scatter в парамтре kind,  а также добавил параметр alpha в методе plot() ко всем диграммам.</div>"
   ]
  },
  {
   "cell_type": "markdown",
   "id": "252b65d6",
   "metadata": {},
   "source": [
    "<div class=\"alert alert-success\" style=\"border-radius: 15px; box-shadow: 4px 4px 4px; border: 1px solid \">\n",
    "<b> Комментарий ревьюера 2 ✔️</b>\n",
    "    \n",
    "Отлично получилось :)</div>"
   ]
  },
  {
   "cell_type": "code",
   "execution_count": 51,
   "id": "1c500614",
   "metadata": {},
   "outputs": [
    {
     "data": {
      "text/plain": [
       "0.4065679020617813"
      ]
     },
     "execution_count": 51,
     "metadata": {},
     "output_type": "execute_result"
    }
   ],
   "source": [
    "#корреляция\n",
    "actual_data[actual_data['platform']=='PS4']['critic_score'].corr(actual_data[actual_data['platform']=='PS4']['sales'])"
   ]
  },
  {
   "cell_type": "markdown",
   "id": "4909602a",
   "metadata": {},
   "source": [
    "Зависимость отзывов критиков на продажи незначительная."
   ]
  },
  {
   "cell_type": "code",
   "execution_count": 52,
   "id": "b0aeb472",
   "metadata": {},
   "outputs": [
    {
     "data": {
      "text/plain": [
       "<AxesSubplot:xlabel='user_score', ylabel='sales'>"
      ]
     },
     "execution_count": 52,
     "metadata": {},
     "output_type": "execute_result"
    },
    {
     "data": {
      "image/png": "[encoded data removed]",
      "text/plain": [
       "<Figure size 792x504 with 1 Axes>"
      ]
     },
     "metadata": {
      "needs_background": "light"
     },
     "output_type": "display_data"
    }
   ],
   "source": [
    "#диаграмма рассеяния\n",
    "actual_data[actual_data['platform']=='PS4'].sort_values('user_score').plot(x='user_score',y='sales',figsize=(11,7),kind='scatter',alpha=0.3)"
   ]
  },
  {
   "cell_type": "markdown",
   "id": "f515cee5",
   "metadata": {},
   "source": [
    "<div class=\"alert alert-danger\" style=\"border-radius: 15px; box-shadow: 4px 4px 4px; border: 1px solid \">\n",
    "<b> Комментарий ревьюера  ❌</b>\n",
    "    \n",
    "    \n",
    "`sort_values('user_score').plot(x='critic_score',y='sales'`\n",
    "    \n",
    "Кажется, тут опечатка. \n",
    "</div>"
   ]
  },
  {
   "cell_type": "markdown",
   "id": "765b3b64",
   "metadata": {},
   "source": [
    "<div class=\"alert alert-block alert-info\">\n",
    "<b>Комментарий студента:</b> Исправил.</div>"
   ]
  },
  {
   "cell_type": "code",
   "execution_count": 53,
   "id": "1ca0b850",
   "metadata": {},
   "outputs": [
    {
     "data": {
      "text/plain": [
       "-0.03195711020455646"
      ]
     },
     "execution_count": 53,
     "metadata": {},
     "output_type": "execute_result"
    }
   ],
   "source": [
    "#корреляция\n",
    "actual_data[actual_data['platform']=='PS4']['user_score'].corr(actual_data[actual_data['platform']=='PS4']['sales'])"
   ]
  },
  {
   "cell_type": "markdown",
   "id": "7ea185a8",
   "metadata": {},
   "source": [
    "Между оценкой пользователей и количеством продаж зависимости нет."
   ]
  },
  {
   "cell_type": "markdown",
   "id": "4e89b642",
   "metadata": {},
   "source": [
    "Посмотрю, какая диаграмма рассеяния и корреляция будет на других платформах:"
   ]
  },
  {
   "cell_type": "code",
   "execution_count": 54,
   "id": "ceda6594",
   "metadata": {},
   "outputs": [
    {
     "data": {
      "text/plain": [
       "<AxesSubplot:xlabel='critic_score', ylabel='sales'>"
      ]
     },
     "execution_count": 54,
     "metadata": {},
     "output_type": "execute_result"
    },
    {
     "data": {
      "image/png": "[encoded data removed]",
      "text/plain": [
       "<Figure size 792x504 with 1 Axes>"
      ]
     },
     "metadata": {
      "needs_background": "light"
     },
     "output_type": "display_data"
    }
   ],
   "source": [
    "#диграмма рассеяния для PS3\n",
    "actual_data[actual_data['platform']=='PS3'].sort_values('critic_score').plot(x='critic_score',y='sales',figsize=(11,7),kind='scatter',alpha=0.3)"
   ]
  },
  {
   "cell_type": "markdown",
   "id": "247cb0aa",
   "metadata": {},
   "source": [
    "<div class=\"alert alert-danger\" style=\"border-radius: 15px; box-shadow: 4px 4px 4px; border: 1px solid \">\n",
    "<b> Комментарий ревьюера  ❌</b>\n",
    "    \n",
    "Нас просят сравнить полученный результат с результатами по другим платформам. Сделай то же самое для нескольких других консолей. Но по-отдельности, а не в одной таблице :) Иначе получается, что мы сравниваем PS4 с не PS4. Да и коэфф-ты с графиками накладываются друг на друга. </div>"
   ]
  },
  {
   "cell_type": "markdown",
   "id": "1116368f",
   "metadata": {},
   "source": [
    "<div class=\"alert alert-block alert-info\">\n",
    "<b>Комментарий студента:</b> Сделал.</div>"
   ]
  },
  {
   "cell_type": "markdown",
   "id": "0b67102e",
   "metadata": {},
   "source": [
    "<div class=\"alert alert-success\" style=\"border-radius: 15px; box-shadow: 4px 4px 4px; border: 1px solid \">\n",
    "<b> Комментарий ревьюера 2 ✔️</b>\n",
    "    \n",
    "Супер. \n",
    "\n",
    "</div>"
   ]
  },
  {
   "cell_type": "code",
   "execution_count": 55,
   "id": "a7646865",
   "metadata": {},
   "outputs": [
    {
     "data": {
      "text/plain": [
       "0.33415175755098564"
      ]
     },
     "execution_count": 55,
     "metadata": {},
     "output_type": "execute_result"
    }
   ],
   "source": [
    "#корреляция\n",
    "actual_data[actual_data['platform']=='PS3']['critic_score'].corr(actual_data[actual_data['platform']=='PS3']['sales'])"
   ]
  },
  {
   "cell_type": "code",
   "execution_count": 56,
   "id": "a4b4fc22",
   "metadata": {},
   "outputs": [
    {
     "data": {
      "text/plain": [
       "<AxesSubplot:xlabel='user_score', ylabel='sales'>"
      ]
     },
     "execution_count": 56,
     "metadata": {},
     "output_type": "execute_result"
    },
    {
     "data": {
      "image/png": "[encoded data removed]",
      "text/plain": [
       "<Figure size 792x504 with 1 Axes>"
      ]
     },
     "metadata": {
      "needs_background": "light"
     },
     "output_type": "display_data"
    }
   ],
   "source": [
    "#диаграмма рассеяния\n",
    "actual_data[actual_data['platform']=='PS3'].sort_values('user_score').plot(x='user_score',y='sales',figsize=(11,7),kind='scatter',alpha=0.3)"
   ]
  },
  {
   "cell_type": "code",
   "execution_count": 57,
   "id": "644d644e",
   "metadata": {},
   "outputs": [
    {
     "data": {
      "text/plain": [
       "-0.006205767686051535"
      ]
     },
     "execution_count": 57,
     "metadata": {},
     "output_type": "execute_result"
    }
   ],
   "source": [
    "#корреляция\n",
    "actual_data[actual_data['platform']=='PS3']['user_score'].corr(actual_data[actual_data['platform']=='PS3']['sales'])"
   ]
  },
  {
   "cell_type": "code",
   "execution_count": 58,
   "id": "ec3bdb2c",
   "metadata": {},
   "outputs": [
    {
     "data": {
      "text/plain": [
       "<AxesSubplot:xlabel='critic_score', ylabel='sales'>"
      ]
     },
     "execution_count": 58,
     "metadata": {},
     "output_type": "execute_result"
    },
    {
     "data": {
      "image/png": "[encoded data removed]",
      "text/plain": [
       "<Figure size 792x504 with 1 Axes>"
      ]
     },
     "metadata": {
      "needs_background": "light"
     },
     "output_type": "display_data"
    }
   ],
   "source": [
    "#диграмма рассеяния для X360\n",
    "actual_data[actual_data['platform']=='X360'].sort_values('critic_score').plot(x='critic_score',y='sales',figsize=(11,7),kind='scatter',alpha=0.3)"
   ]
  },
  {
   "cell_type": "code",
   "execution_count": 59,
   "id": "e39ec3cf",
   "metadata": {},
   "outputs": [
    {
     "data": {
      "text/plain": [
       "0.36057348885073387"
      ]
     },
     "execution_count": 59,
     "metadata": {},
     "output_type": "execute_result"
    }
   ],
   "source": [
    "#корреляция\n",
    "actual_data[actual_data['platform']=='X360']['critic_score'].corr(actual_data[actual_data['platform']=='X360']['sales'])"
   ]
  },
  {
   "cell_type": "code",
   "execution_count": 60,
   "id": "8e66f139",
   "metadata": {},
   "outputs": [
    {
     "data": {
      "text/plain": [
       "<AxesSubplot:xlabel='critic_score', ylabel='sales'>"
      ]
     },
     "execution_count": 60,
     "metadata": {},
     "output_type": "execute_result"
    },
    {
     "data": {
      "image/png": "[encoded data removed]",
      "text/plain": [
       "<Figure size 792x504 with 1 Axes>"
      ]
     },
     "metadata": {
      "needs_background": "light"
     },
     "output_type": "display_data"
    }
   ],
   "source": [
    "#диаграмма рассеяния\n",
    "actual_data[actual_data['platform']=='X360'].sort_values('user_score').plot(x='critic_score',y='sales',figsize=(11,7),kind='scatter',alpha=0.3)"
   ]
  },
  {
   "cell_type": "code",
   "execution_count": 61,
   "id": "799f9a6d",
   "metadata": {},
   "outputs": [
    {
     "data": {
      "text/plain": [
       "0.006163978646213357"
      ]
     },
     "execution_count": 61,
     "metadata": {},
     "output_type": "execute_result"
    }
   ],
   "source": [
    "#корреляция\n",
    "actual_data[actual_data['platform']=='X360']['user_score'].corr(actual_data[actual_data['platform']=='X360']['sales'])"
   ]
  },
  {
   "cell_type": "markdown",
   "id": "a477f5b6",
   "metadata": {},
   "source": [
    "Можно сделать абсолютно такие же выводы."
   ]
  },
  {
   "cell_type": "markdown",
   "id": "5fbed7b0",
   "metadata": {},
   "source": [
    "Составлю топ жанров по суммарным продажам и на его основе сделаю общее распределение жанров с высокими и низками продажами по играм:"
   ]
  },
  {
   "cell_type": "code",
   "execution_count": 62,
   "id": "211b6ab9",
   "metadata": {},
   "outputs": [
    {
     "data": {
      "text/html": [
       "<div>\n",
       "<style scoped>\n",
       "    .dataframe tbody tr th:only-of-type {\n",
       "        vertical-align: middle;\n",
       "    }\n",
       "\n",
       "    .dataframe tbody tr th {\n",
       "        vertical-align: top;\n",
       "    }\n",
       "\n",
       "    .dataframe thead th {\n",
       "        text-align: right;\n",
       "    }\n",
       "</style>\n",
       "<table border=\"1\" class=\"dataframe\">\n",
       "  <thead>\n",
       "    <tr style=\"text-align: right;\">\n",
       "      <th></th>\n",
       "      <th>level_0</th>\n",
       "      <th>index</th>\n",
       "      <th>na_sales</th>\n",
       "      <th>eu_sales</th>\n",
       "      <th>jp_sales</th>\n",
       "      <th>other_sales</th>\n",
       "      <th>critic_score</th>\n",
       "      <th>user_score</th>\n",
       "      <th>sales</th>\n",
       "      <th>kol_games</th>\n",
       "      <th>median_sales</th>\n",
       "      <th>mean_sales</th>\n",
       "    </tr>\n",
       "    <tr>\n",
       "      <th>genre</th>\n",
       "      <th></th>\n",
       "      <th></th>\n",
       "      <th></th>\n",
       "      <th></th>\n",
       "      <th></th>\n",
       "      <th></th>\n",
       "      <th></th>\n",
       "      <th></th>\n",
       "      <th></th>\n",
       "      <th></th>\n",
       "      <th></th>\n",
       "      <th></th>\n",
       "    </tr>\n",
       "  </thead>\n",
       "  <tbody>\n",
       "    <tr>\n",
       "      <th>Action</th>\n",
       "      <td>9717994</td>\n",
       "      <td>9719312</td>\n",
       "      <td>177.84</td>\n",
       "      <td>159.34</td>\n",
       "      <td>52.80</td>\n",
       "      <td>51.14</td>\n",
       "      <td>31121.0</td>\n",
       "      <td>3569.5</td>\n",
       "      <td>441.12</td>\n",
       "      <td>1031</td>\n",
       "      <td>0.120</td>\n",
       "      <td>0.427856</td>\n",
       "    </tr>\n",
       "    <tr>\n",
       "      <th>Shooter</th>\n",
       "      <td>1335929</td>\n",
       "      <td>1336145</td>\n",
       "      <td>144.77</td>\n",
       "      <td>113.47</td>\n",
       "      <td>9.23</td>\n",
       "      <td>37.26</td>\n",
       "      <td>12702.0</td>\n",
       "      <td>1255.0</td>\n",
       "      <td>304.73</td>\n",
       "      <td>235</td>\n",
       "      <td>0.440</td>\n",
       "      <td>1.296723</td>\n",
       "    </tr>\n",
       "    <tr>\n",
       "      <th>Role-Playing</th>\n",
       "      <td>3222153</td>\n",
       "      <td>3222567</td>\n",
       "      <td>64.00</td>\n",
       "      <td>48.53</td>\n",
       "      <td>65.44</td>\n",
       "      <td>14.83</td>\n",
       "      <td>11761.0</td>\n",
       "      <td>1241.2</td>\n",
       "      <td>192.80</td>\n",
       "      <td>370</td>\n",
       "      <td>0.140</td>\n",
       "      <td>0.521081</td>\n",
       "    </tr>\n",
       "    <tr>\n",
       "      <th>Sports</th>\n",
       "      <td>1945614</td>\n",
       "      <td>1945901</td>\n",
       "      <td>81.53</td>\n",
       "      <td>69.08</td>\n",
       "      <td>8.01</td>\n",
       "      <td>22.44</td>\n",
       "      <td>10341.0</td>\n",
       "      <td>1058.4</td>\n",
       "      <td>181.06</td>\n",
       "      <td>267</td>\n",
       "      <td>0.240</td>\n",
       "      <td>0.678127</td>\n",
       "    </tr>\n",
       "    <tr>\n",
       "      <th>Misc</th>\n",
       "      <td>1811592</td>\n",
       "      <td>1811831</td>\n",
       "      <td>38.19</td>\n",
       "      <td>26.32</td>\n",
       "      <td>12.86</td>\n",
       "      <td>7.67</td>\n",
       "      <td>4150.0</td>\n",
       "      <td>464.9</td>\n",
       "      <td>85.04</td>\n",
       "      <td>192</td>\n",
       "      <td>0.120</td>\n",
       "      <td>0.442917</td>\n",
       "    </tr>\n",
       "    <tr>\n",
       "      <th>Platform</th>\n",
       "      <td>628365</td>\n",
       "      <td>628458</td>\n",
       "      <td>25.38</td>\n",
       "      <td>21.41</td>\n",
       "      <td>8.63</td>\n",
       "      <td>5.58</td>\n",
       "      <td>4402.0</td>\n",
       "      <td>449.2</td>\n",
       "      <td>61.00</td>\n",
       "      <td>85</td>\n",
       "      <td>0.210</td>\n",
       "      <td>0.717647</td>\n",
       "    </tr>\n",
       "    <tr>\n",
       "      <th>Racing</th>\n",
       "      <td>1014479</td>\n",
       "      <td>1014618</td>\n",
       "      <td>17.22</td>\n",
       "      <td>27.29</td>\n",
       "      <td>2.50</td>\n",
       "      <td>6.49</td>\n",
       "      <td>5821.0</td>\n",
       "      <td>529.0</td>\n",
       "      <td>53.50</td>\n",
       "      <td>115</td>\n",
       "      <td>0.140</td>\n",
       "      <td>0.465217</td>\n",
       "    </tr>\n",
       "    <tr>\n",
       "      <th>Fighting</th>\n",
       "      <td>956562</td>\n",
       "      <td>956688</td>\n",
       "      <td>19.79</td>\n",
       "      <td>10.79</td>\n",
       "      <td>9.44</td>\n",
       "      <td>4.47</td>\n",
       "      <td>4506.0</td>\n",
       "      <td>482.7</td>\n",
       "      <td>44.49</td>\n",
       "      <td>109</td>\n",
       "      <td>0.130</td>\n",
       "      <td>0.408165</td>\n",
       "    </tr>\n",
       "    <tr>\n",
       "      <th>Simulation</th>\n",
       "      <td>787815</td>\n",
       "      <td>787919</td>\n",
       "      <td>7.97</td>\n",
       "      <td>14.55</td>\n",
       "      <td>10.41</td>\n",
       "      <td>2.19</td>\n",
       "      <td>2598.0</td>\n",
       "      <td>273.5</td>\n",
       "      <td>35.12</td>\n",
       "      <td>80</td>\n",
       "      <td>0.120</td>\n",
       "      <td>0.439000</td>\n",
       "    </tr>\n",
       "    <tr>\n",
       "      <th>Adventure</th>\n",
       "      <td>3963807</td>\n",
       "      <td>3964326</td>\n",
       "      <td>8.92</td>\n",
       "      <td>9.46</td>\n",
       "      <td>8.24</td>\n",
       "      <td>2.81</td>\n",
       "      <td>4287.0</td>\n",
       "      <td>537.6</td>\n",
       "      <td>29.43</td>\n",
       "      <td>302</td>\n",
       "      <td>0.030</td>\n",
       "      <td>0.097450</td>\n",
       "    </tr>\n",
       "    <tr>\n",
       "      <th>Strategy</th>\n",
       "      <td>752189</td>\n",
       "      <td>752284</td>\n",
       "      <td>4.23</td>\n",
       "      <td>5.17</td>\n",
       "      <td>2.88</td>\n",
       "      <td>1.06</td>\n",
       "      <td>2352.0</td>\n",
       "      <td>224.7</td>\n",
       "      <td>13.34</td>\n",
       "      <td>71</td>\n",
       "      <td>0.080</td>\n",
       "      <td>0.187887</td>\n",
       "    </tr>\n",
       "    <tr>\n",
       "      <th>Puzzle</th>\n",
       "      <td>335398</td>\n",
       "      <td>335444</td>\n",
       "      <td>1.13</td>\n",
       "      <td>1.40</td>\n",
       "      <td>2.14</td>\n",
       "      <td>0.22</td>\n",
       "      <td>679.0</td>\n",
       "      <td>68.7</td>\n",
       "      <td>4.89</td>\n",
       "      <td>28</td>\n",
       "      <td>0.045</td>\n",
       "      <td>0.174643</td>\n",
       "    </tr>\n",
       "  </tbody>\n",
       "</table>\n",
       "</div>"
      ],
      "text/plain": [
       "              level_0    index  na_sales  eu_sales  jp_sales  other_sales  \\\n",
       "genre                                                                       \n",
       "Action        9717994  9719312    177.84    159.34     52.80        51.14   \n",
       "Shooter       1335929  1336145    144.77    113.47      9.23        37.26   \n",
       "Role-Playing  3222153  3222567     64.00     48.53     65.44        14.83   \n",
       "Sports        1945614  1945901     81.53     69.08      8.01        22.44   \n",
       "Misc          1811592  1811831     38.19     26.32     12.86         7.67   \n",
       "Platform       628365   628458     25.38     21.41      8.63         5.58   \n",
       "Racing        1014479  1014618     17.22     27.29      2.50         6.49   \n",
       "Fighting       956562   956688     19.79     10.79      9.44         4.47   \n",
       "Simulation     787815   787919      7.97     14.55     10.41         2.19   \n",
       "Adventure     3963807  3964326      8.92      9.46      8.24         2.81   \n",
       "Strategy       752189   752284      4.23      5.17      2.88         1.06   \n",
       "Puzzle         335398   335444      1.13      1.40      2.14         0.22   \n",
       "\n",
       "              critic_score  user_score   sales  kol_games  median_sales  \\\n",
       "genre                                                                     \n",
       "Action             31121.0      3569.5  441.12       1031         0.120   \n",
       "Shooter            12702.0      1255.0  304.73        235         0.440   \n",
       "Role-Playing       11761.0      1241.2  192.80        370         0.140   \n",
       "Sports             10341.0      1058.4  181.06        267         0.240   \n",
       "Misc                4150.0       464.9   85.04        192         0.120   \n",
       "Platform            4402.0       449.2   61.00         85         0.210   \n",
       "Racing              5821.0       529.0   53.50        115         0.140   \n",
       "Fighting            4506.0       482.7   44.49        109         0.130   \n",
       "Simulation          2598.0       273.5   35.12         80         0.120   \n",
       "Adventure           4287.0       537.6   29.43        302         0.030   \n",
       "Strategy            2352.0       224.7   13.34         71         0.080   \n",
       "Puzzle               679.0        68.7    4.89         28         0.045   \n",
       "\n",
       "              mean_sales  \n",
       "genre                     \n",
       "Action          0.427856  \n",
       "Shooter         1.296723  \n",
       "Role-Playing    0.521081  \n",
       "Sports          0.678127  \n",
       "Misc            0.442917  \n",
       "Platform        0.717647  \n",
       "Racing          0.465217  \n",
       "Fighting        0.408165  \n",
       "Simulation      0.439000  \n",
       "Adventure       0.097450  \n",
       "Strategy        0.187887  \n",
       "Puzzle          0.174643  "
      ]
     },
     "execution_count": 62,
     "metadata": {},
     "output_type": "execute_result"
    }
   ],
   "source": [
    "#Топ жанров по суммарным продажам\n",
    "data_genre=actual_data.groupby(by=['genre']).sum()\n",
    "data_genre['kol_games']=[actual_data[actual_data['genre']==j]['name'].count() for j in sorted(actual_data['genre'].unique())]\n",
    "data_genre=data_genre.sort_values(by=['sales'],ascending=False)\n",
    "data_genre['median_sales']=actual_data.groupby(by=['genre']).median()['sales']\n",
    "data_genre['mean_sales']=actual_data.groupby(by=['genre']).mean()['sales']\n",
    "data_genre"
   ]
  },
  {
   "cell_type": "markdown",
   "id": "89f559c4",
   "metadata": {},
   "source": [
    "Можно сказать, что у самых прибыльных жанров наибольшее число игр, у низкопродаваемых - наименьшее число игр(кроме жанра Adventure). Жанры с высокими продажами выделяются больше, чем жанры с низкими продажами. "
   ]
  },
  {
   "cell_type": "markdown",
   "id": "3b74f652",
   "metadata": {},
   "source": [
    "<div class=\"alert alert-warning\" style=\"border-radius: 15px; box-shadow: 4px 4px 4px; border: 1px solid \">\n",
    "<b> Комментарий ревьюера  ⚠️</b>\n",
    "   \n",
    "> Можно сказать, что чем больше проданных игр жанра, тем больше и количество игр.\n",
    "    \n",
    "    \n",
    "Не факт. Можно выпустить 10 игр и от каждой продать по 20 копии. А можно выпустить одну очень успешную игру и продать миллион копий. \n",
    "</div>\n",
    "="
   ]
  },
  {
   "cell_type": "markdown",
   "id": "d95ffbf5",
   "metadata": {},
   "source": [
    "<div class=\"alert alert-block alert-info\">\n",
    "<b>Комментарий студента:</b> Поменял вывод.</div>"
   ]
  },
  {
   "cell_type": "markdown",
   "id": "3dae8185",
   "metadata": {},
   "source": [
    "### Вывод"
   ]
  },
  {
   "cell_type": "markdown",
   "id": "e7deb8b4",
   "metadata": {},
   "source": [
    "За все время самыми популрными движками, для которых покупают игры, являются PS2, X360, PS3. Если смотреть на данные с 2012 года, то это PS4, PS3, X360, 3DS, XOne. Также, анализируя эти данные, можно предположить, что потенциально прибыльными платформами будут PS4 и XOne. Количество продаж никак не зависяц от отзывов критиков и пользователей. Наиболее продаваемые жанры - Action, Sports. Эти жанры так продаются благодаря огромну количеству игр. Самая продаваемый жанр на 1 игру - Shooter."
   ]
  },
  {
   "cell_type": "markdown",
   "id": "f0a5a2aa",
   "metadata": {},
   "source": [
    "<div class=\"alert alert-danger\" style=\"border-radius: 15px; box-shadow: 4px 4px 4px; border: 1px solid\">\n",
    "<b> Комментарий ревьюера ❌ </b>\n",
    "    \n",
    "> Наиболее продаваемые жанры - Action, Shooter.    \n",
    "    \n",
    "Хорошо. А может ли быть такая ситуация, что экшн делает продажи только за счет большего количества игр? Быть может, другие жанры имеют больше продаж в расчете на единицу игры. Сделай то же самое, но с медианными/средними  продажами.\n",
    "</div>"
   ]
  },
  {
   "cell_type": "markdown",
   "id": "25b180e7",
   "metadata": {},
   "source": [
    "<div class=\"alert alert-block alert-info\">\n",
    "<b>Комментарий студента:</b> Исправил.</div>"
   ]
  },
  {
   "cell_type": "markdown",
   "id": "ab7a8bbb",
   "metadata": {},
   "source": [
    "<div class=\"alert alert-success \" style=\"border-radius: 15px; box-shadow: 4px 4px 4px; border: 1px solid \">\n",
    "<b> Комментарий ревьюера 2  ✔️</b>\n",
    "    \n",
    "Теперь экшн не такой популярный :) Это нам говорит о том, что у этого жанра очень много игр, которые мало покупают. А вот у шутера гораздо больше игр покупают в большом количестве.\n",
    "\n",
    "</div>"
   ]
  },
  {
   "cell_type": "markdown",
   "id": "ed0ed16a",
   "metadata": {},
   "source": [
    "## Портрет пользователя каждого региона"
   ]
  },
  {
   "cell_type": "markdown",
   "id": "1d076580",
   "metadata": {},
   "source": [
    "Определю самые популярные платформы каждого региона:"
   ]
  },
  {
   "cell_type": "code",
   "execution_count": 63,
   "id": "0a52e792",
   "metadata": {},
   "outputs": [
    {
     "data": {
      "text/plain": [
       "platform\n",
       "X360    140.05\n",
       "PS4     108.74\n",
       "PS3     103.38\n",
       "XOne     93.12\n",
       "3DS      55.31\n",
       "Name: na_sales, dtype: float64"
      ]
     },
     "execution_count": 63,
     "metadata": {},
     "output_type": "execute_result"
    }
   ],
   "source": [
    "#для NA\n",
    "top_platform=actual_data.groupby(by=['platform']).sum()\n",
    "top_platform.sort_values(by=['na_sales'],ascending=False)['na_sales'].head()"
   ]
  },
  {
   "cell_type": "markdown",
   "id": "e12c0cdf",
   "metadata": {},
   "source": [
    "<div class=\"alert alert-danger\" style=\"border-radius: 15px; box-shadow: 4px 4px 4px; border: 1px solid\">\n",
    "<b> Комментарий ревьюера ❌ </b>\n",
    "    \n",
    "Обрати внимание на результат выполнения кода. Будут ли там выбранные ранее перспектиные консоли? \n",
    "\n",
    "\n",
    "Надо будет исправить таблицу. </div>"
   ]
  },
  {
   "cell_type": "markdown",
   "id": "7c21db9b",
   "metadata": {},
   "source": [
    "<div class=\"alert alert-block alert-info\">\n",
    "<b>Комментарий студента:</b> Таблица нужна для актуального периода?</div>"
   ]
  },
  {
   "cell_type": "markdown",
   "id": "8628c703",
   "metadata": {},
   "source": [
    "<div class=\"alert alert-danger\" style=\"border-radius: 15px; box-shadow: 4px 4px 4px; border: 1px solid\">\n",
    "<b> Комментарий ревьюера 2 ❌ </b>\n",
    "    \n",
    "Ну разумеется :) Это и в задании сказано после пункта про выбор актуального периода: `Не учитывайте в работе данные за предыдущие годы.`. Мы ведь при выборе нового компьютера не смотрим, что было популярно 10 лет назад, а смотрим на новое железо :) И уж тем более мы не будем смотреть на всю выборку, с 80х годов. Тут то же самое. В топ попали мертвые DS и PS2. Исправь период и возьми тут актуальные года. Результаты поменяются. </div>"
   ]
  },
  {
   "cell_type": "markdown",
   "id": "0dabce57",
   "metadata": {},
   "source": [
    "<div class=\"alert alert-block alert-info\">\n",
    "<b>Комментарий студента:</b> Исправил.</div>"
   ]
  },
  {
   "cell_type": "code",
   "execution_count": 64,
   "id": "b3b6111e",
   "metadata": {},
   "outputs": [
    {
     "data": {
      "text/plain": [
       "platform\n",
       "PS4     141.09\n",
       "PS3     106.85\n",
       "X360     74.52\n",
       "XOne     51.59\n",
       "3DS      42.64\n",
       "Name: eu_sales, dtype: float64"
      ]
     },
     "execution_count": 64,
     "metadata": {},
     "output_type": "execute_result"
    }
   ],
   "source": [
    "#для EU\n",
    "top_platform=actual_data.groupby(by=['platform']).sum()\n",
    "top_platform.sort_values(by=['eu_sales'],ascending=False)['eu_sales'].head()"
   ]
  },
  {
   "cell_type": "code",
   "execution_count": 65,
   "id": "04991374",
   "metadata": {},
   "outputs": [
    {
     "data": {
      "text/plain": [
       "platform\n",
       "3DS     87.79\n",
       "PS3     35.29\n",
       "PSV     21.04\n",
       "PS4     15.96\n",
       "WiiU    13.01\n",
       "Name: jp_sales, dtype: float64"
      ]
     },
     "execution_count": 65,
     "metadata": {},
     "output_type": "execute_result"
    }
   ],
   "source": [
    "#для JP\n",
    "top_platform=actual_data.groupby(by=['platform']).sum()\n",
    "top_platform.sort_values(by=['jp_sales'],ascending=False)['jp_sales'].head()"
   ]
  },
  {
   "cell_type": "markdown",
   "id": "cad41f6f",
   "metadata": {},
   "source": [
    "Для NA больше всего выделяются платформы такие, как X360 И PS4 и PS3(на них приходится около 70% среди топ-5 продаваемых), для EU - PS4 и PS3(около 60%), для JP - 3DS(около 50%)."
   ]
  },
  {
   "cell_type": "markdown",
   "id": "2932c595",
   "metadata": {},
   "source": [
    "<div class=\"alert alert-success\" style=\"border-radius: 15px; box-shadow: 4px 4px 4px; border: 1px solid \">\n",
    "<h2> Комментарий ревьюера 3  ✔️</h2>\n",
    "    \n",
    "Теперь выбранные нами топы попали в распределение :) \n",
    "\n",
    "Похоже, что японцы больше любят портативные консоли и родной рынок. Игры на иксбоксы там продвигать точно не стоит :)\n",
    "</div>"
   ]
  },
  {
   "cell_type": "markdown",
   "id": "586d7e3c",
   "metadata": {},
   "source": [
    "Определю самые популярные жанры каждого региона:"
   ]
  },
  {
   "cell_type": "code",
   "execution_count": 66,
   "id": "05fb9432",
   "metadata": {},
   "outputs": [
    {
     "data": {
      "text/plain": [
       "genre\n",
       "Action          177.84\n",
       "Shooter         144.77\n",
       "Sports           81.53\n",
       "Role-Playing     64.00\n",
       "Misc             38.19\n",
       "Name: na_sales, dtype: float64"
      ]
     },
     "execution_count": 66,
     "metadata": {},
     "output_type": "execute_result"
    }
   ],
   "source": [
    "#для NA\n",
    "top_platform=actual_data.groupby(by=['genre']).sum()\n",
    "top_platform.sort_values(by=['na_sales'],ascending=False)['na_sales'].head()"
   ]
  },
  {
   "cell_type": "code",
   "execution_count": 67,
   "id": "4666fcaa",
   "metadata": {},
   "outputs": [
    {
     "data": {
      "text/plain": [
       "genre\n",
       "Action          159.34\n",
       "Shooter         113.47\n",
       "Sports           69.08\n",
       "Role-Playing     48.53\n",
       "Racing           27.29\n",
       "Name: eu_sales, dtype: float64"
      ]
     },
     "execution_count": 67,
     "metadata": {},
     "output_type": "execute_result"
    }
   ],
   "source": [
    "#для EU\n",
    "top_platform=actual_data.groupby(by=['genre']).sum()\n",
    "top_platform.sort_values(by=['eu_sales'],ascending=False)['eu_sales'].head()"
   ]
  },
  {
   "cell_type": "code",
   "execution_count": 68,
   "id": "434a0597",
   "metadata": {},
   "outputs": [
    {
     "data": {
      "text/plain": [
       "genre\n",
       "Role-Playing    65.44\n",
       "Action          52.80\n",
       "Misc            12.86\n",
       "Simulation      10.41\n",
       "Fighting         9.44\n",
       "Name: jp_sales, dtype: float64"
      ]
     },
     "execution_count": 68,
     "metadata": {},
     "output_type": "execute_result"
    }
   ],
   "source": [
    "#для JP\n",
    "top_platform=actual_data.groupby(by=['genre']).sum()\n",
    "top_platform.sort_values(by=['jp_sales'],ascending=False)['jp_sales'].head()"
   ]
  },
  {
   "cell_type": "markdown",
   "id": "c396f869",
   "metadata": {},
   "source": [
    "В Северной Америке и Европе больше всего любят играть в Экшн. В Японии - ролевые игры. Топ игр для Северной Америки и Европы практически не различаются, разве на 5й позиции у Северной Америки - misc, у Европы - racing. В Японии отличия калассальные с другими континентами. Так, топ-5 выглядит таким образом: Role-Playing, Action, Misc, Simulation, Fighting."
   ]
  },
  {
   "cell_type": "markdown",
   "id": "68ec6eeb",
   "metadata": {},
   "source": [
    "<div class=\"alert alert-success\" style=\"border-radius: 15px; box-shadow: 4px 4px 4px; border: 1px solid \">\n",
    "<h2> Комментарий ревьюера 3 ✔️</h2>\n",
    "    \n",
    "А еще в Японии не очень-то и любят шутеры, которые очень популярны на Западе. Видимо, им больше нравятся мечи в РПГ и мордобой в файтингах. </div>"
   ]
  },
  {
   "cell_type": "markdown",
   "id": "bd479cf0",
   "metadata": {},
   "source": [
    "Проверю влияние рейтинга ESRB на продажи в каждом регионе:"
   ]
  },
  {
   "cell_type": "code",
   "execution_count": 69,
   "id": "50ad96f6",
   "metadata": {},
   "outputs": [
    {
     "data": {
      "text/html": [
       "<div>\n",
       "<style scoped>\n",
       "    .dataframe tbody tr th:only-of-type {\n",
       "        vertical-align: middle;\n",
       "    }\n",
       "\n",
       "    .dataframe tbody tr th {\n",
       "        vertical-align: top;\n",
       "    }\n",
       "\n",
       "    .dataframe thead th {\n",
       "        text-align: right;\n",
       "    }\n",
       "</style>\n",
       "<table border=\"1\" class=\"dataframe\">\n",
       "  <thead>\n",
       "    <tr style=\"text-align: right;\">\n",
       "      <th></th>\n",
       "      <th>na_sales</th>\n",
       "    </tr>\n",
       "    <tr>\n",
       "      <th>rating</th>\n",
       "      <th></th>\n",
       "    </tr>\n",
       "  </thead>\n",
       "  <tbody>\n",
       "    <tr>\n",
       "      <th>M</th>\n",
       "      <td>231.57</td>\n",
       "    </tr>\n",
       "    <tr>\n",
       "      <th>E</th>\n",
       "      <td>114.37</td>\n",
       "    </tr>\n",
       "    <tr>\n",
       "      <th>Нет рейтинга</th>\n",
       "      <td>103.31</td>\n",
       "    </tr>\n",
       "    <tr>\n",
       "      <th>E10+</th>\n",
       "      <td>75.70</td>\n",
       "    </tr>\n",
       "    <tr>\n",
       "      <th>T</th>\n",
       "      <td>66.02</td>\n",
       "    </tr>\n",
       "  </tbody>\n",
       "</table>\n",
       "</div>"
      ],
      "text/plain": [
       "              na_sales\n",
       "rating                \n",
       "M               231.57\n",
       "E               114.37\n",
       "Нет рейтинга    103.31\n",
       "E10+             75.70\n",
       "T                66.02"
      ]
     },
     "execution_count": 69,
     "metadata": {},
     "output_type": "execute_result"
    }
   ],
   "source": [
    "#таблица суммарных продаж для каждого рейтинга для региона NA \n",
    "actual_data.pivot_table(values='na_sales',index='rating',aggfunc='sum').sort_values(by='na_sales',ascending=False)"
   ]
  },
  {
   "cell_type": "markdown",
   "id": "16ba1ec0",
   "metadata": {},
   "source": [
    "<div class=\"alert alert-danger\" style=\"border-radius: 15px; box-shadow: 4px 4px 4px; border: 1px solid\">\n",
    "<b> Комментарий ревьюера  ❌</b>\n",
    "    \n",
    "Почему здесь рассматриваются средние, а выше - суммы? </div>"
   ]
  },
  {
   "cell_type": "markdown",
   "id": "f31122bc",
   "metadata": {},
   "source": [
    "<div class=\"alert alert-block alert-info\">\n",
    "<b>Комментарий студента:</b> Думаю, действительно, нужна сумма.</div>"
   ]
  },
  {
   "cell_type": "markdown",
   "id": "8c3fd14a",
   "metadata": {},
   "source": [
    "<div class=\"alert alert-success \" style=\"border-radius: 15px; box-shadow: 4px 4px 4px; border: 1px solid \">\n",
    "<b> Комментарий ревьюера 2  ✔️</b>\n",
    "    \n",
    "Обосновать это можно так: мы тут анализируем портрет региона, чтобы продавать там те или иные игры. Помимо популярности консоли или жанра нам желательно также оценить, много ли на этой консоли или у этого жанра попупают бестселлеров. Лучше всего с этим справится сумма, т.к. она включается в себя продажи топ игр. С возрастным рейтингом, в принципе, то же самое. \n",
    "</div>"
   ]
  },
  {
   "cell_type": "code",
   "execution_count": 70,
   "id": "5a515dd0",
   "metadata": {},
   "outputs": [
    {
     "data": {
      "text/html": [
       "<div>\n",
       "<style scoped>\n",
       "    .dataframe tbody tr th:only-of-type {\n",
       "        vertical-align: middle;\n",
       "    }\n",
       "\n",
       "    .dataframe tbody tr th {\n",
       "        vertical-align: top;\n",
       "    }\n",
       "\n",
       "    .dataframe thead th {\n",
       "        text-align: right;\n",
       "    }\n",
       "</style>\n",
       "<table border=\"1\" class=\"dataframe\">\n",
       "  <thead>\n",
       "    <tr style=\"text-align: right;\">\n",
       "      <th></th>\n",
       "      <th>eu_sales</th>\n",
       "    </tr>\n",
       "    <tr>\n",
       "      <th>rating</th>\n",
       "      <th></th>\n",
       "    </tr>\n",
       "  </thead>\n",
       "  <tbody>\n",
       "    <tr>\n",
       "      <th>M</th>\n",
       "      <td>193.96</td>\n",
       "    </tr>\n",
       "    <tr>\n",
       "      <th>E</th>\n",
       "      <td>113.02</td>\n",
       "    </tr>\n",
       "    <tr>\n",
       "      <th>Нет рейтинга</th>\n",
       "      <td>91.50</td>\n",
       "    </tr>\n",
       "    <tr>\n",
       "      <th>E10+</th>\n",
       "      <td>55.37</td>\n",
       "    </tr>\n",
       "    <tr>\n",
       "      <th>T</th>\n",
       "      <td>52.96</td>\n",
       "    </tr>\n",
       "  </tbody>\n",
       "</table>\n",
       "</div>"
      ],
      "text/plain": [
       "              eu_sales\n",
       "rating                \n",
       "M               193.96\n",
       "E               113.02\n",
       "Нет рейтинга     91.50\n",
       "E10+             55.37\n",
       "T                52.96"
      ]
     },
     "execution_count": 70,
     "metadata": {},
     "output_type": "execute_result"
    }
   ],
   "source": [
    "#таблица суммарных продаж для каждого рейтинга для региона EU\n",
    "actual_data.pivot_table(values='eu_sales',index='rating',aggfunc='sum').sort_values(by='eu_sales',ascending=False)"
   ]
  },
  {
   "cell_type": "code",
   "execution_count": 71,
   "id": "a13d7bbb",
   "metadata": {},
   "outputs": [
    {
     "data": {
      "text/html": [
       "<div>\n",
       "<style scoped>\n",
       "    .dataframe tbody tr th:only-of-type {\n",
       "        vertical-align: middle;\n",
       "    }\n",
       "\n",
       "    .dataframe tbody tr th {\n",
       "        vertical-align: top;\n",
       "    }\n",
       "\n",
       "    .dataframe thead th {\n",
       "        text-align: right;\n",
       "    }\n",
       "</style>\n",
       "<table border=\"1\" class=\"dataframe\">\n",
       "  <thead>\n",
       "    <tr style=\"text-align: right;\">\n",
       "      <th></th>\n",
       "      <th>jp_sales</th>\n",
       "    </tr>\n",
       "    <tr>\n",
       "      <th>rating</th>\n",
       "      <th></th>\n",
       "    </tr>\n",
       "  </thead>\n",
       "  <tbody>\n",
       "    <tr>\n",
       "      <th>Нет рейтинга</th>\n",
       "      <td>108.84</td>\n",
       "    </tr>\n",
       "    <tr>\n",
       "      <th>E</th>\n",
       "      <td>28.33</td>\n",
       "    </tr>\n",
       "    <tr>\n",
       "      <th>T</th>\n",
       "      <td>26.02</td>\n",
       "    </tr>\n",
       "    <tr>\n",
       "      <th>M</th>\n",
       "      <td>21.20</td>\n",
       "    </tr>\n",
       "    <tr>\n",
       "      <th>E10+</th>\n",
       "      <td>8.19</td>\n",
       "    </tr>\n",
       "  </tbody>\n",
       "</table>\n",
       "</div>"
      ],
      "text/plain": [
       "              jp_sales\n",
       "rating                \n",
       "Нет рейтинга    108.84\n",
       "E                28.33\n",
       "T                26.02\n",
       "M                21.20\n",
       "E10+              8.19"
      ]
     },
     "execution_count": 71,
     "metadata": {},
     "output_type": "execute_result"
    }
   ],
   "source": [
    "#таблица суммарных продаж для каждого рейтинга для региона JP\n",
    "actual_data.pivot_table(values='jp_sales',index='rating',aggfunc='sum').sort_values(by='jp_sales',ascending=False)"
   ]
  },
  {
   "cell_type": "markdown",
   "id": "61246a58",
   "metadata": {},
   "source": [
    "В каждом регионе есть зависимость суммарных продаж от рейтинга. С оценка М самые высокие продажи кроме Японии, там эта оценка находится на 4й строчке(на 1й - продажи без рейтинга).В Северной Америке и Европе следом за М идут Е,без рейтинга,E10+,T, остальные рейтинги имеют минимальное кол-во продаж. В Японии - E,T,M,E10+, остальные рейтинги имеют минимальное кол-во продаж. Между Японией и континентами есть различие в том, что в Японии много игр без оценки, т.к. в этой стране рейтингом игр занимается другая организация - CERO."
   ]
  },
  {
   "cell_type": "markdown",
   "id": "e5529f50",
   "metadata": {},
   "source": [
    "<div class=\"alert alert-danger\" style=\"border-radius: 15px; box-shadow: 4px 4px 4px; border: 1px solid\">\n",
    "<b> Комментарий ревьюера  ❌</b>\n",
    "    \n",
    "Здесь необходимо рассмотреть также и отсутствующий возрастной рейтинг, предварительно заменив его на маркерное значение. Например, на *Нет рейтинга*. Эта задача является отличным примером того, что даже пропущенные значения могут нести в себе важную информацию. Не забудь прокомментировать результат и выдвинуть предположение о причинах разницы распределений, если она будет.\n",
    "</div>\n",
    "<div class=\"alert alert-success\" style=\"border-radius: 15px; box-shadow: 4px 4px 4px; border: 1px solid \">\n",
    "<b> Комментарий ревьюера 2 ✔️</b>\n",
    "\n",
    "Согласна с тобой. Уж наверняка дело тут в том, что ESRB работает только на территории СА, в Японии есть аналогичная организация: CERO. Я думаю, что, с одной стороны, иностранным играм они (ESRB) не присваивают рейтинги, поскольку на них уже есть маркировка. Чтобы не было конфликта, так сказать. Так что вполне возможно, что часть игр это продукция Японии или же это корейские игры (там тоже своя организация). С другой стороны, раз они продают игры на своем рынке, то присвоение рейтинга может быть обязательным. Значит, дело еще может быть в том, что наша таблица это склейка двух таблиц: продажи на Западе и на Востоке. Так или иначе, это очень показательный пример. И именно разница в рынках (восточный и западный) наталкивает на мысль о неслучайности пропусков.\n",
    "\n",
    "</div>"
   ]
  },
  {
   "cell_type": "markdown",
   "id": "ecac728e",
   "metadata": {},
   "source": [
    "<div class=\"alert alert-block alert-info\">\n",
    "<b>Комментарий студента:</b> Исправил.</div>"
   ]
  },
  {
   "cell_type": "markdown",
   "id": "dfa8a4dc",
   "metadata": {},
   "source": [
    "### Вывод"
   ]
  },
  {
   "cell_type": "markdown",
   "id": "135a221e",
   "metadata": {},
   "source": [
    "Регионы различются по платформам, жанрам, но не значительно. Так в Северной Америке и Европе больше всего любят играть в Экшн. В Японии - ролевые игры. По рейтингу есть различия у регионов, что в Японии многие игры без рейтинга, а у континентов наиболее известная оценка - E"
   ]
  },
  {
   "cell_type": "markdown",
   "id": "0260a370",
   "metadata": {},
   "source": [
    "## Проверка гипотез"
   ]
  },
  {
   "cell_type": "markdown",
   "id": "d4354c57",
   "metadata": {},
   "source": [
    "Пусть p - средний рейтинг платформы XboxOne, m - средний рейтинг платформы PC. Сформулируем гипотезу \"Средние пользовательские рейтинги платформ Xbox One и PC одинаковые\" таким образом: H0 - p=m; H1 - p≠m"
   ]
  },
  {
   "cell_type": "code",
   "execution_count": 72,
   "id": "a7bf9cf8",
   "metadata": {},
   "outputs": [
    {
     "data": {
      "text/plain": [
       "0.5535080500643774"
      ]
     },
     "execution_count": 72,
     "metadata": {},
     "output_type": "execute_result"
    }
   ],
   "source": [
    "#все пользовательские рейтинги платформы XOne\n",
    "mean_xone=actual_data[(actual_data['platform']=='XOne')&(actual_data['user_score']>-1)]['user_score']\n",
    "#все пользовательские рейтинги платформы PC\n",
    "mean_pc=actual_data[(actual_data['platform']=='PC')&(actual_data['user_score']>-1)]['user_score']\n",
    "#проверка 0й гипотезы\n",
    "hyp0=st.ttest_ind(mean_xone,mean_pc)\n",
    "hyp0.pvalue"
   ]
  },
  {
   "cell_type": "markdown",
   "id": "2e5388b1",
   "metadata": {},
   "source": [
    "<div class=\"alert alert-danger\" style=\"border-radius: 15px; box-shadow: 4px 4px 4px; border: 1px solid\">\n",
    "<b> Комментарий ревьюера  ❌</b>\n",
    "    \n",
    "Здесь тоже не забудь про период. Также надо будет отбросить пропуски. </div>"
   ]
  },
  {
   "cell_type": "markdown",
   "id": "0ac6d718",
   "metadata": {},
   "source": [
    "<div class=\"alert alert-block alert-info\">\n",
    "<b>Комментарий студента:</b> Что значит про период?</div>"
   ]
  },
  {
   "cell_type": "markdown",
   "id": "09da3ecb",
   "metadata": {},
   "source": [
    "<div class=\"alert alert-danger\" style=\"border-radius: 15px; box-shadow: 4px 4px 4px; border: 1px solid\">\n",
    "<b> Комментарий ревьюера 2 ❌</b>\n",
    "    \n",
    "Мы анализ проводим в актуальном периоде. Нам соверешенно неважно, какие оценки получали игры в 1995 году.  </div>"
   ]
  },
  {
   "cell_type": "markdown",
   "id": "12a0e030",
   "metadata": {},
   "source": [
    "<div class=\"alert alert-block alert-info\">\n",
    "<b>Комментарий студента:</b> Принял</div>"
   ]
  },
  {
   "cell_type": "markdown",
   "id": "f8d00e9a",
   "metadata": {},
   "source": [
    "Можно установить пороговое значени pvalue, как 5%. Значение pvalue больше 55%. Это значит, что 0-я гипотеза не отвергается. Тогда средние пользовательские рейтинги платформ Xbox One и PC одинаковые."
   ]
  },
  {
   "cell_type": "markdown",
   "id": "a450a937",
   "metadata": {},
   "source": [
    "<div class=\"alert alert-warning\" style=\"border-radius: 15px; box-shadow: 4px 4px 4px; border: 1px solid\">\n",
    "<b> Комментарий ревьюера  ⚠️</b>\n",
    "    \n",
    "pvalue это не вероятность, а просто параметр, с помощью которого мы делаем выбор в пользу той или иной гипотезы :)\n",
    "</div>"
   ]
  },
  {
   "cell_type": "markdown",
   "id": "cc6ab180",
   "metadata": {},
   "source": [
    "<div class=\"alert alert-block alert-info\">\n",
    "<b>Комментарий студента:</b> Буду иметь в виду.</div>"
   ]
  },
  {
   "cell_type": "markdown",
   "id": "f20c6b24",
   "metadata": {},
   "source": [
    "Пусть p - средний рейтинг жанра Action, m - средний рейтинг жанра Sports. Сформулируем гипотезу \"Средние пользовательские рейтинги жанров Action и Sports разные\" таким образом: H0 - p=m; H1 - p≠m"
   ]
  },
  {
   "cell_type": "code",
   "execution_count": 73,
   "id": "95c87464",
   "metadata": {},
   "outputs": [
    {
     "data": {
      "text/plain": [
       "4.8045233804624693e-26"
      ]
     },
     "execution_count": 73,
     "metadata": {},
     "output_type": "execute_result"
    }
   ],
   "source": [
    "#все пользовательские рейтинги жанра Action\n",
    "mean_xone=actual_data[(actual_data['genre']=='Action')&(actual_data['user_score']>-1)]['user_score']\n",
    "#все пользовательские рейтинги жанра Sports\n",
    "mean_pc=actual_data[(actual_data['genre']=='Sports')&(actual_data['user_score']>-1)]['user_score']\n",
    "#проверка 0й гипотезы\n",
    "hyp0=st.ttest_ind(mean_xone,mean_pc)\n",
    "hyp0.pvalue"
   ]
  },
  {
   "cell_type": "markdown",
   "id": "d438d22a",
   "metadata": {},
   "source": [
    "Значение pvalue чуть больше 0%. Это значит, что 0-я гипотеза отвергается. Тогда средние пользовательские рейтинги жанров Action и Sports не одинаковые."
   ]
  },
  {
   "cell_type": "markdown",
   "id": "2ba07d69",
   "metadata": {},
   "source": [
    "### Вывод"
   ]
  },
  {
   "cell_type": "markdown",
   "id": "3f1b3849",
   "metadata": {},
   "source": [
    "Средние пользовательские рейтинги платформ Xbox One и PC одинаковые, т.е. гипотезу не удалось отвергнуть. Гипотезу, что средние пользовательские рейтинги жанров Action и Sports разные, также не удалось отвергнуть. \n",
    "Использовал метод ttest_1samp(), т.к. он проверят двустороннюю гипотезу."
   ]
  },
  {
   "cell_type": "markdown",
   "id": "2a99fb95",
   "metadata": {},
   "source": [
    "<div class=\"alert alert-success\" style=\"border-radius: 15px; box-shadow: 4px 4px 4px; border: 1px solid \">\n",
    "<h2> Комментарий ревьюера 3 ✔️</h2>\n",
    "    \n",
    "Теперь результаты по гипотезам верные. </div>"
   ]
  },
  {
   "cell_type": "markdown",
   "id": "9b85c39f",
   "metadata": {},
   "source": [
    "## Общий вывод"
   ]
  },
  {
   "cell_type": "markdown",
   "id": "950f7a6e",
   "metadata": {},
   "source": [
    "Можно предположить, что потенциально прибыльными платформами будут PS4 и XOne. Они с каждым годом показывают рост продаж, а также являются одними из популярных платформ с 2012 года. За все время самыми популрными движками, для которых покупают игры, являются PS2, X360, PS3. Можно сказать, что рейтинг влияет на количество продаж. Также сравнивая определнные платформы и жанры, я смог установить, что средние пользовательские рейтинги платформ Xbox One и PC и средние пользовательские рейтинги жанров Action и Sports одинаковые. В Северной Америке и Европе больше всего любят играть в Экшн. В этих регионах также популярны жанры Shooter и Sports. В Японии - ролевые игры и экшн. Для Северной Америки больше всего выделяются платформы такие, как X360, PS4, PS3. Для Европы - PS4, PS3. Для Японии - 3DS,PS3. В Северной Америки большинство игр с оценкой M,Е или без рейтинга. В Японии - без рейтинга."
   ]
  },
  {
   "cell_type": "markdown",
   "id": "20c42261",
   "metadata": {},
   "source": [
    "<div class=\"alert alert-danger\" style=\"border-radius: 15px; box-shadow: 4px 4px 4px; border: 1px solid\">\n",
    "<b> Комментарий ревьюера ❌</b>\n",
    "    \n",
    "    \n",
    "Вывод хороший. Будет здорово, если добавишь  конкретику по регионам:  2-3 консоли, 2-3 жанра и рейтинги. Также не забудь обновить вывод после внесения изменений. \n",
    "\n",
    "</div>"
   ]
  },
  {
   "cell_type": "markdown",
   "id": "60c2582b",
   "metadata": {},
   "source": [
    "<div class=\"alert alert-block alert-info\">\n",
    "<b>Комментарий студента:</b> Спасибо за рекомендации! :)</div>"
   ]
  },
  {
   "cell_type": "markdown",
   "id": "1528f731",
   "metadata": {},
   "source": [
    "<div class=\"alert alert-success\" style=\"border-radius: 15px; box-shadow: 4px 4px 4px; border: 1px solid \">\n",
    "<b> Комментарий ревьюера 2 ✔️</b>\n",
    "\n",
    "Тебе спасибо за старательную работу :) Осталось совсем немного исправить :)\n",
    "</div>"
   ]
  },
  {
   "cell_type": "markdown",
   "id": "2645d276",
   "metadata": {},
   "source": [
    "<div class=\"alert alert-block alert-info\">\n",
    "<b>Комментарий студента:</b> Еще раз спасибо! :)</div>"
   ]
  },
  {
   "cell_type": "code",
   "execution_count": null,
   "id": "14293f80",
   "metadata": {},
   "outputs": [],
   "source": []
  }
 ],
 "metadata": {
  "ExecuteTimeLog": [
   {
    "duration": 1217,
    "start_time": "2022-06-13T13:50:44.704Z"
   },
   {
    "duration": 178,
    "start_time": "2022-06-13T13:50:45.924Z"
   },
   {
    "duration": 0,
    "start_time": "2022-06-13T13:50:46.105Z"
   },
   {
    "duration": 0,
    "start_time": "2022-06-13T13:50:46.107Z"
   },
   {
    "duration": 0,
    "start_time": "2022-06-13T13:50:46.108Z"
   },
   {
    "duration": 0,
    "start_time": "2022-06-13T13:50:46.109Z"
   },
   {
    "duration": 0,
    "start_time": "2022-06-13T13:50:46.111Z"
   },
   {
    "duration": 0,
    "start_time": "2022-06-13T13:50:46.125Z"
   },
   {
    "duration": 0,
    "start_time": "2022-06-13T13:50:46.127Z"
   },
   {
    "duration": 0,
    "start_time": "2022-06-13T13:50:46.128Z"
   },
   {
    "duration": 0,
    "start_time": "2022-06-13T13:50:46.130Z"
   },
   {
    "duration": 0,
    "start_time": "2022-06-13T13:50:46.132Z"
   },
   {
    "duration": 0,
    "start_time": "2022-06-13T13:50:46.135Z"
   },
   {
    "duration": 0,
    "start_time": "2022-06-13T13:50:46.137Z"
   },
   {
    "duration": 0,
    "start_time": "2022-06-13T13:50:46.139Z"
   },
   {
    "duration": 0,
    "start_time": "2022-06-13T13:50:46.141Z"
   },
   {
    "duration": 0,
    "start_time": "2022-06-13T13:50:46.143Z"
   },
   {
    "duration": 0,
    "start_time": "2022-06-13T13:50:46.145Z"
   },
   {
    "duration": 0,
    "start_time": "2022-06-13T13:50:46.146Z"
   },
   {
    "duration": 0,
    "start_time": "2022-06-13T13:50:46.148Z"
   },
   {
    "duration": 0,
    "start_time": "2022-06-13T13:50:46.150Z"
   },
   {
    "duration": 0,
    "start_time": "2022-06-13T13:50:46.151Z"
   },
   {
    "duration": 0,
    "start_time": "2022-06-13T13:50:46.152Z"
   },
   {
    "duration": 0,
    "start_time": "2022-06-13T13:50:46.154Z"
   },
   {
    "duration": 0,
    "start_time": "2022-06-13T13:50:46.155Z"
   },
   {
    "duration": 0,
    "start_time": "2022-06-13T13:50:46.156Z"
   },
   {
    "duration": 0,
    "start_time": "2022-06-13T13:50:46.157Z"
   },
   {
    "duration": 0,
    "start_time": "2022-06-13T13:50:46.158Z"
   },
   {
    "duration": 0,
    "start_time": "2022-06-13T13:50:46.159Z"
   },
   {
    "duration": 0,
    "start_time": "2022-06-13T13:50:46.161Z"
   },
   {
    "duration": 0,
    "start_time": "2022-06-13T13:50:46.162Z"
   },
   {
    "duration": 0,
    "start_time": "2022-06-13T13:50:46.163Z"
   },
   {
    "duration": 0,
    "start_time": "2022-06-13T13:50:46.226Z"
   },
   {
    "duration": 0,
    "start_time": "2022-06-13T13:50:46.227Z"
   },
   {
    "duration": 0,
    "start_time": "2022-06-13T13:50:46.229Z"
   },
   {
    "duration": 0,
    "start_time": "2022-06-13T13:50:46.230Z"
   },
   {
    "duration": 0,
    "start_time": "2022-06-13T13:50:46.232Z"
   },
   {
    "duration": 0,
    "start_time": "2022-06-13T13:50:46.232Z"
   },
   {
    "duration": 0,
    "start_time": "2022-06-13T13:50:46.233Z"
   },
   {
    "duration": 0,
    "start_time": "2022-06-13T13:50:46.235Z"
   },
   {
    "duration": 0,
    "start_time": "2022-06-13T13:50:46.236Z"
   },
   {
    "duration": 0,
    "start_time": "2022-06-13T13:50:46.237Z"
   },
   {
    "duration": 1,
    "start_time": "2022-06-13T13:50:46.238Z"
   },
   {
    "duration": 0,
    "start_time": "2022-06-13T13:50:46.239Z"
   },
   {
    "duration": 0,
    "start_time": "2022-06-13T13:50:46.241Z"
   },
   {
    "duration": 0,
    "start_time": "2022-06-13T13:50:46.242Z"
   },
   {
    "duration": 0,
    "start_time": "2022-06-13T13:50:46.243Z"
   },
   {
    "duration": 0,
    "start_time": "2022-06-13T13:50:46.244Z"
   },
   {
    "duration": 0,
    "start_time": "2022-06-13T13:50:46.245Z"
   },
   {
    "duration": 0,
    "start_time": "2022-06-13T13:50:46.246Z"
   },
   {
    "duration": 0,
    "start_time": "2022-06-13T13:50:46.248Z"
   },
   {
    "duration": 0,
    "start_time": "2022-06-13T13:50:46.249Z"
   },
   {
    "duration": 0,
    "start_time": "2022-06-13T13:50:46.251Z"
   },
   {
    "duration": 0,
    "start_time": "2022-06-13T13:50:46.252Z"
   },
   {
    "duration": 0,
    "start_time": "2022-06-13T13:50:46.253Z"
   },
   {
    "duration": 0,
    "start_time": "2022-06-13T13:50:46.255Z"
   },
   {
    "duration": 0,
    "start_time": "2022-06-13T13:50:46.256Z"
   },
   {
    "duration": 0,
    "start_time": "2022-06-13T13:50:46.257Z"
   },
   {
    "duration": 0,
    "start_time": "2022-06-13T13:50:46.259Z"
   },
   {
    "duration": 0,
    "start_time": "2022-06-13T13:50:46.260Z"
   },
   {
    "duration": 0,
    "start_time": "2022-06-13T13:50:46.262Z"
   },
   {
    "duration": 0,
    "start_time": "2022-06-13T13:50:46.262Z"
   },
   {
    "duration": 0,
    "start_time": "2022-06-13T13:50:46.326Z"
   },
   {
    "duration": 0,
    "start_time": "2022-06-13T13:50:46.328Z"
   },
   {
    "duration": 0,
    "start_time": "2022-06-13T13:50:46.329Z"
   },
   {
    "duration": 1943,
    "start_time": "2022-06-15T09:34:01.951Z"
   },
   {
    "duration": 202,
    "start_time": "2022-06-15T09:34:03.897Z"
   },
   {
    "duration": 17,
    "start_time": "2022-06-15T09:34:04.101Z"
   },
   {
    "duration": 57,
    "start_time": "2022-06-15T09:34:04.120Z"
   },
   {
    "duration": 36,
    "start_time": "2022-06-15T09:34:04.180Z"
   },
   {
    "duration": 49,
    "start_time": "2022-06-15T09:34:04.218Z"
   },
   {
    "duration": 29,
    "start_time": "2022-06-15T09:34:04.269Z"
   },
   {
    "duration": 15,
    "start_time": "2022-06-15T09:34:04.300Z"
   },
   {
    "duration": 48,
    "start_time": "2022-06-15T09:34:04.317Z"
   },
   {
    "duration": 17,
    "start_time": "2022-06-15T09:34:04.366Z"
   },
   {
    "duration": 64,
    "start_time": "2022-06-15T09:34:04.385Z"
   },
   {
    "duration": 25,
    "start_time": "2022-06-15T09:34:04.451Z"
   },
   {
    "duration": 63,
    "start_time": "2022-06-15T09:34:04.478Z"
   },
   {
    "duration": 11,
    "start_time": "2022-06-15T09:34:04.550Z"
   },
   {
    "duration": 33,
    "start_time": "2022-06-15T09:34:04.562Z"
   },
   {
    "duration": 20,
    "start_time": "2022-06-15T09:34:04.598Z"
   },
   {
    "duration": 94,
    "start_time": "2022-06-15T09:34:04.620Z"
   },
   {
    "duration": 32,
    "start_time": "2022-06-15T09:34:04.716Z"
   },
   {
    "duration": 60,
    "start_time": "2022-06-15T09:34:04.751Z"
   },
   {
    "duration": 65,
    "start_time": "2022-06-15T09:34:04.813Z"
   },
   {
    "duration": 22,
    "start_time": "2022-06-15T09:34:04.880Z"
   },
   {
    "duration": 41,
    "start_time": "2022-06-15T09:34:04.904Z"
   },
   {
    "duration": 40,
    "start_time": "2022-06-15T09:34:04.947Z"
   },
   {
    "duration": 42,
    "start_time": "2022-06-15T09:34:04.989Z"
   },
   {
    "duration": 19,
    "start_time": "2022-06-15T09:34:05.033Z"
   },
   {
    "duration": 37,
    "start_time": "2022-06-15T09:34:05.054Z"
   },
   {
    "duration": 40,
    "start_time": "2022-06-15T09:34:05.093Z"
   },
   {
    "duration": 81,
    "start_time": "2022-06-15T09:34:05.136Z"
   },
   {
    "duration": 370,
    "start_time": "2022-06-15T09:34:05.219Z"
   },
   {
    "duration": 20,
    "start_time": "2022-06-15T09:34:05.590Z"
   },
   {
    "duration": 48,
    "start_time": "2022-06-15T09:34:05.611Z"
   },
   {
    "duration": 307,
    "start_time": "2022-06-15T09:34:05.661Z"
   },
   {
    "duration": 196,
    "start_time": "2022-06-15T09:34:05.970Z"
   },
   {
    "duration": 211,
    "start_time": "2022-06-15T09:34:06.168Z"
   },
   {
    "duration": 5,
    "start_time": "2022-06-15T09:34:06.381Z"
   },
   {
    "duration": 1159,
    "start_time": "2022-06-15T09:35:15.422Z"
   },
   {
    "duration": 1537,
    "start_time": "2022-06-16T12:46:46.569Z"
   },
   {
    "duration": 143,
    "start_time": "2022-06-16T12:46:48.109Z"
   },
   {
    "duration": 14,
    "start_time": "2022-06-16T12:46:48.253Z"
   },
   {
    "duration": 24,
    "start_time": "2022-06-16T12:46:48.269Z"
   },
   {
    "duration": 26,
    "start_time": "2022-06-16T12:46:48.295Z"
   },
   {
    "duration": 12,
    "start_time": "2022-06-16T12:46:48.327Z"
   },
   {
    "duration": 23,
    "start_time": "2022-06-16T12:46:48.341Z"
   },
   {
    "duration": 16,
    "start_time": "2022-06-16T12:46:48.365Z"
   },
   {
    "duration": 47,
    "start_time": "2022-06-16T12:46:48.382Z"
   },
   {
    "duration": 13,
    "start_time": "2022-06-16T12:46:48.430Z"
   },
   {
    "duration": 22,
    "start_time": "2022-06-16T12:46:48.445Z"
   },
   {
    "duration": 6,
    "start_time": "2022-06-16T12:46:48.469Z"
   },
   {
    "duration": 34,
    "start_time": "2022-06-16T12:46:48.477Z"
   },
   {
    "duration": 7,
    "start_time": "2022-06-16T12:46:48.529Z"
   },
   {
    "duration": 22,
    "start_time": "2022-06-16T12:46:48.537Z"
   },
   {
    "duration": 5,
    "start_time": "2022-06-16T12:46:48.561Z"
   },
   {
    "duration": 41,
    "start_time": "2022-06-16T12:46:48.568Z"
   },
   {
    "duration": 21,
    "start_time": "2022-06-16T12:46:48.628Z"
   },
   {
    "duration": 9,
    "start_time": "2022-06-16T12:46:48.652Z"
   },
   {
    "duration": 10,
    "start_time": "2022-06-16T12:46:48.663Z"
   },
   {
    "duration": 9,
    "start_time": "2022-06-16T12:46:48.674Z"
   },
   {
    "duration": 8,
    "start_time": "2022-06-16T12:46:48.684Z"
   },
   {
    "duration": 46,
    "start_time": "2022-06-16T12:46:48.694Z"
   },
   {
    "duration": 20,
    "start_time": "2022-06-16T12:46:48.742Z"
   },
   {
    "duration": 4,
    "start_time": "2022-06-16T12:46:48.764Z"
   },
   {
    "duration": 22,
    "start_time": "2022-06-16T12:46:48.770Z"
   },
   {
    "duration": 42,
    "start_time": "2022-06-16T12:46:48.794Z"
   },
   {
    "duration": 48,
    "start_time": "2022-06-16T12:46:48.839Z"
   },
   {
    "duration": 417,
    "start_time": "2022-06-16T12:46:48.889Z"
   },
   {
    "duration": 23,
    "start_time": "2022-06-16T12:46:49.307Z"
   },
   {
    "duration": 27,
    "start_time": "2022-06-16T12:46:49.332Z"
   },
   {
    "duration": 276,
    "start_time": "2022-06-16T12:46:49.361Z"
   },
   {
    "duration": 181,
    "start_time": "2022-06-16T12:46:49.639Z"
   },
   {
    "duration": 172,
    "start_time": "2022-06-16T12:46:49.827Z"
   },
   {
    "duration": 912,
    "start_time": "2022-06-16T12:46:50.001Z"
   },
   {
    "duration": 173,
    "start_time": "2022-06-16T12:46:50.914Z"
   },
   {
    "duration": 169,
    "start_time": "2022-06-16T12:46:51.088Z"
   },
   {
    "duration": 169,
    "start_time": "2022-06-16T12:46:51.258Z"
   },
   {
    "duration": 174,
    "start_time": "2022-06-16T12:46:51.429Z"
   },
   {
    "duration": 30,
    "start_time": "2022-06-16T12:46:51.605Z"
   },
   {
    "duration": 13,
    "start_time": "2022-06-16T12:46:51.639Z"
   },
   {
    "duration": 20,
    "start_time": "2022-06-16T12:46:51.654Z"
   },
   {
    "duration": 22,
    "start_time": "2022-06-16T12:46:51.676Z"
   },
   {
    "duration": 191,
    "start_time": "2022-06-16T12:46:51.726Z"
   },
   {
    "duration": 277,
    "start_time": "2022-06-16T12:46:51.919Z"
   },
   {
    "duration": 261,
    "start_time": "2022-06-16T12:46:55.665Z"
   }
  ],
  "kernelspec": {
   "display_name": "Python 3",
   "language": "python",
   "name": "python3"
  },
  "language_info": {
   "codemirror_mode": {
    "name": "ipython",
    "version": 3
   },
   "file_extension": ".py",
   "mimetype": "text/x-python",
   "name": "python",
   "nbconvert_exporter": "python",
   "pygments_lexer": "ipython3",
   "version": "3.8.8"
  },
  "toc": {
   "base_numbering": 1,
   "nav_menu": {},
   "number_sections": true,
   "sideBar": true,
   "skip_h1_title": true,
   "title_cell": "Table of Contents",
   "title_sidebar": "Contents",
   "toc_cell": false,
   "toc_position": {
    "height": "calc(100% - 180px)",
    "left": "10px",
    "top": "150px",
    "width": "306.4px"
   },
   "toc_section_display": true,
   "toc_window_display": true
  }
 },
 "nbformat": 4,
 "nbformat_minor": 5
}
